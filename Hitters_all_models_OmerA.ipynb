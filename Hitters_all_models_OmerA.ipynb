{
 "cells": [
  {
   "cell_type": "markdown",
   "metadata": {},
   "source": [
    "# Hitters Dataset Homework"
   ]
  },
  {
   "cell_type": "markdown",
   "metadata": {},
   "source": [
    "## Linear Regression Models"
   ]
  },
  {
   "cell_type": "code",
   "execution_count": 1,
   "metadata": {},
   "outputs": [],
   "source": [
    "import warnings\n",
    "warnings.simplefilter(action='ignore')\n",
    "import numpy as np\n",
    "import pandas as pd\n",
    "from sklearn.linear_model import Ridge\n",
    "from sklearn.metrics import mean_squared_error,r2_score\n",
    "from sklearn.model_selection import train_test_split, cross_val_score, GridSearchCV\n",
    "from sklearn import model_selection\n",
    "import matplotlib.pyplot as plt\n",
    "from sklearn.linear_model import LinearRegression, Ridge, RidgeCV, ElasticNet, Lasso, LassoCV,ElasticNetCV\n",
    "import seaborn as sns"
   ]
  },
  {
   "cell_type": "code",
   "execution_count": 2,
   "metadata": {},
   "outputs": [],
   "source": [
    "hitters = pd.read_csv('../input/hitters/Hitters.csv')"
   ]
  },
  {
   "cell_type": "code",
   "execution_count": 3,
   "metadata": {},
   "outputs": [],
   "source": [
    "df = hitters.copy()"
   ]
  },
  {
   "cell_type": "code",
   "execution_count": 4,
   "metadata": {},
   "outputs": [
    {
     "data": {
      "text/html": [
       "<div>\n",
       "<style scoped>\n",
       "    .dataframe tbody tr th:only-of-type {\n",
       "        vertical-align: middle;\n",
       "    }\n",
       "\n",
       "    .dataframe tbody tr th {\n",
       "        vertical-align: top;\n",
       "    }\n",
       "\n",
       "    .dataframe thead th {\n",
       "        text-align: right;\n",
       "    }\n",
       "</style>\n",
       "<table border=\"1\" class=\"dataframe\">\n",
       "  <thead>\n",
       "    <tr style=\"text-align: right;\">\n",
       "      <th></th>\n",
       "      <th>AtBat</th>\n",
       "      <th>Hits</th>\n",
       "      <th>HmRun</th>\n",
       "      <th>Runs</th>\n",
       "      <th>RBI</th>\n",
       "      <th>Walks</th>\n",
       "      <th>Years</th>\n",
       "      <th>CAtBat</th>\n",
       "      <th>CHits</th>\n",
       "      <th>CHmRun</th>\n",
       "      <th>CRuns</th>\n",
       "      <th>CRBI</th>\n",
       "      <th>CWalks</th>\n",
       "      <th>League</th>\n",
       "      <th>Division</th>\n",
       "      <th>PutOuts</th>\n",
       "      <th>Assists</th>\n",
       "      <th>Errors</th>\n",
       "      <th>Salary</th>\n",
       "      <th>NewLeague</th>\n",
       "    </tr>\n",
       "  </thead>\n",
       "  <tbody>\n",
       "    <tr>\n",
       "      <th>0</th>\n",
       "      <td>293</td>\n",
       "      <td>66</td>\n",
       "      <td>1</td>\n",
       "      <td>30</td>\n",
       "      <td>29</td>\n",
       "      <td>14</td>\n",
       "      <td>1</td>\n",
       "      <td>293</td>\n",
       "      <td>66</td>\n",
       "      <td>1</td>\n",
       "      <td>30</td>\n",
       "      <td>29</td>\n",
       "      <td>14</td>\n",
       "      <td>A</td>\n",
       "      <td>E</td>\n",
       "      <td>446</td>\n",
       "      <td>33</td>\n",
       "      <td>20</td>\n",
       "      <td>NaN</td>\n",
       "      <td>A</td>\n",
       "    </tr>\n",
       "    <tr>\n",
       "      <th>1</th>\n",
       "      <td>315</td>\n",
       "      <td>81</td>\n",
       "      <td>7</td>\n",
       "      <td>24</td>\n",
       "      <td>38</td>\n",
       "      <td>39</td>\n",
       "      <td>14</td>\n",
       "      <td>3449</td>\n",
       "      <td>835</td>\n",
       "      <td>69</td>\n",
       "      <td>321</td>\n",
       "      <td>414</td>\n",
       "      <td>375</td>\n",
       "      <td>N</td>\n",
       "      <td>W</td>\n",
       "      <td>632</td>\n",
       "      <td>43</td>\n",
       "      <td>10</td>\n",
       "      <td>475.0</td>\n",
       "      <td>N</td>\n",
       "    </tr>\n",
       "    <tr>\n",
       "      <th>2</th>\n",
       "      <td>479</td>\n",
       "      <td>130</td>\n",
       "      <td>18</td>\n",
       "      <td>66</td>\n",
       "      <td>72</td>\n",
       "      <td>76</td>\n",
       "      <td>3</td>\n",
       "      <td>1624</td>\n",
       "      <td>457</td>\n",
       "      <td>63</td>\n",
       "      <td>224</td>\n",
       "      <td>266</td>\n",
       "      <td>263</td>\n",
       "      <td>A</td>\n",
       "      <td>W</td>\n",
       "      <td>880</td>\n",
       "      <td>82</td>\n",
       "      <td>14</td>\n",
       "      <td>480.0</td>\n",
       "      <td>A</td>\n",
       "    </tr>\n",
       "    <tr>\n",
       "      <th>3</th>\n",
       "      <td>496</td>\n",
       "      <td>141</td>\n",
       "      <td>20</td>\n",
       "      <td>65</td>\n",
       "      <td>78</td>\n",
       "      <td>37</td>\n",
       "      <td>11</td>\n",
       "      <td>5628</td>\n",
       "      <td>1575</td>\n",
       "      <td>225</td>\n",
       "      <td>828</td>\n",
       "      <td>838</td>\n",
       "      <td>354</td>\n",
       "      <td>N</td>\n",
       "      <td>E</td>\n",
       "      <td>200</td>\n",
       "      <td>11</td>\n",
       "      <td>3</td>\n",
       "      <td>500.0</td>\n",
       "      <td>N</td>\n",
       "    </tr>\n",
       "    <tr>\n",
       "      <th>4</th>\n",
       "      <td>321</td>\n",
       "      <td>87</td>\n",
       "      <td>10</td>\n",
       "      <td>39</td>\n",
       "      <td>42</td>\n",
       "      <td>30</td>\n",
       "      <td>2</td>\n",
       "      <td>396</td>\n",
       "      <td>101</td>\n",
       "      <td>12</td>\n",
       "      <td>48</td>\n",
       "      <td>46</td>\n",
       "      <td>33</td>\n",
       "      <td>N</td>\n",
       "      <td>E</td>\n",
       "      <td>805</td>\n",
       "      <td>40</td>\n",
       "      <td>4</td>\n",
       "      <td>91.5</td>\n",
       "      <td>N</td>\n",
       "    </tr>\n",
       "  </tbody>\n",
       "</table>\n",
       "</div>"
      ],
      "text/plain": [
       "   AtBat  Hits  HmRun  Runs  RBI  Walks  Years  CAtBat  CHits  CHmRun  CRuns  \\\n",
       "0    293    66      1    30   29     14      1     293     66       1     30   \n",
       "1    315    81      7    24   38     39     14    3449    835      69    321   \n",
       "2    479   130     18    66   72     76      3    1624    457      63    224   \n",
       "3    496   141     20    65   78     37     11    5628   1575     225    828   \n",
       "4    321    87     10    39   42     30      2     396    101      12     48   \n",
       "\n",
       "   CRBI  CWalks League Division  PutOuts  Assists  Errors  Salary NewLeague  \n",
       "0    29      14      A        E      446       33      20     NaN         A  \n",
       "1   414     375      N        W      632       43      10   475.0         N  \n",
       "2   266     263      A        W      880       82      14   480.0         A  \n",
       "3   838     354      N        E      200       11       3   500.0         N  \n",
       "4    46      33      N        E      805       40       4    91.5         N  "
      ]
     },
     "execution_count": 4,
     "metadata": {},
     "output_type": "execute_result"
    }
   ],
   "source": [
    "df.head()"
   ]
  },
  {
   "cell_type": "code",
   "execution_count": 5,
   "metadata": {},
   "outputs": [
    {
     "data": {
      "text/plain": [
       "A    175\n",
       "N    147\n",
       "Name: League, dtype: int64"
      ]
     },
     "execution_count": 5,
     "metadata": {},
     "output_type": "execute_result"
    }
   ],
   "source": [
    "df[\"League\"].value_counts()"
   ]
  },
  {
   "cell_type": "code",
   "execution_count": 6,
   "metadata": {},
   "outputs": [
    {
     "data": {
      "text/plain": [
       "A    176\n",
       "N    146\n",
       "Name: NewLeague, dtype: int64"
      ]
     },
     "execution_count": 6,
     "metadata": {},
     "output_type": "execute_result"
    }
   ],
   "source": [
    "df[\"NewLeague\"].value_counts()"
   ]
  },
  {
   "cell_type": "code",
   "execution_count": 7,
   "metadata": {},
   "outputs": [
    {
     "data": {
      "text/plain": [
       "W    165\n",
       "E    157\n",
       "Name: Division, dtype: int64"
      ]
     },
     "execution_count": 7,
     "metadata": {},
     "output_type": "execute_result"
    }
   ],
   "source": [
    "df[\"Division\"].value_counts()"
   ]
  },
  {
   "cell_type": "code",
   "execution_count": 8,
   "metadata": {},
   "outputs": [
    {
     "data": {
      "text/html": [
       "<div>\n",
       "<style scoped>\n",
       "    .dataframe tbody tr th:only-of-type {\n",
       "        vertical-align: middle;\n",
       "    }\n",
       "\n",
       "    .dataframe tbody tr th {\n",
       "        vertical-align: top;\n",
       "    }\n",
       "\n",
       "    .dataframe thead th {\n",
       "        text-align: right;\n",
       "    }\n",
       "</style>\n",
       "<table border=\"1\" class=\"dataframe\">\n",
       "  <thead>\n",
       "    <tr style=\"text-align: right;\">\n",
       "      <th></th>\n",
       "      <th>AtBat</th>\n",
       "      <th>Hits</th>\n",
       "      <th>HmRun</th>\n",
       "      <th>Runs</th>\n",
       "      <th>RBI</th>\n",
       "      <th>Walks</th>\n",
       "      <th>Years</th>\n",
       "      <th>CAtBat</th>\n",
       "      <th>CHits</th>\n",
       "      <th>CHmRun</th>\n",
       "      <th>CRuns</th>\n",
       "      <th>CRBI</th>\n",
       "      <th>CWalks</th>\n",
       "      <th>PutOuts</th>\n",
       "      <th>Assists</th>\n",
       "      <th>Errors</th>\n",
       "      <th>Salary</th>\n",
       "      <th>League_N</th>\n",
       "      <th>Division_W</th>\n",
       "      <th>NewLeague_N</th>\n",
       "    </tr>\n",
       "  </thead>\n",
       "  <tbody>\n",
       "    <tr>\n",
       "      <th>0</th>\n",
       "      <td>293</td>\n",
       "      <td>66</td>\n",
       "      <td>1</td>\n",
       "      <td>30</td>\n",
       "      <td>29</td>\n",
       "      <td>14</td>\n",
       "      <td>1</td>\n",
       "      <td>293</td>\n",
       "      <td>66</td>\n",
       "      <td>1</td>\n",
       "      <td>30</td>\n",
       "      <td>29</td>\n",
       "      <td>14</td>\n",
       "      <td>446</td>\n",
       "      <td>33</td>\n",
       "      <td>20</td>\n",
       "      <td>NaN</td>\n",
       "      <td>0</td>\n",
       "      <td>0</td>\n",
       "      <td>0</td>\n",
       "    </tr>\n",
       "    <tr>\n",
       "      <th>1</th>\n",
       "      <td>315</td>\n",
       "      <td>81</td>\n",
       "      <td>7</td>\n",
       "      <td>24</td>\n",
       "      <td>38</td>\n",
       "      <td>39</td>\n",
       "      <td>14</td>\n",
       "      <td>3449</td>\n",
       "      <td>835</td>\n",
       "      <td>69</td>\n",
       "      <td>321</td>\n",
       "      <td>414</td>\n",
       "      <td>375</td>\n",
       "      <td>632</td>\n",
       "      <td>43</td>\n",
       "      <td>10</td>\n",
       "      <td>475.0</td>\n",
       "      <td>1</td>\n",
       "      <td>1</td>\n",
       "      <td>1</td>\n",
       "    </tr>\n",
       "    <tr>\n",
       "      <th>2</th>\n",
       "      <td>479</td>\n",
       "      <td>130</td>\n",
       "      <td>18</td>\n",
       "      <td>66</td>\n",
       "      <td>72</td>\n",
       "      <td>76</td>\n",
       "      <td>3</td>\n",
       "      <td>1624</td>\n",
       "      <td>457</td>\n",
       "      <td>63</td>\n",
       "      <td>224</td>\n",
       "      <td>266</td>\n",
       "      <td>263</td>\n",
       "      <td>880</td>\n",
       "      <td>82</td>\n",
       "      <td>14</td>\n",
       "      <td>480.0</td>\n",
       "      <td>0</td>\n",
       "      <td>1</td>\n",
       "      <td>0</td>\n",
       "    </tr>\n",
       "    <tr>\n",
       "      <th>3</th>\n",
       "      <td>496</td>\n",
       "      <td>141</td>\n",
       "      <td>20</td>\n",
       "      <td>65</td>\n",
       "      <td>78</td>\n",
       "      <td>37</td>\n",
       "      <td>11</td>\n",
       "      <td>5628</td>\n",
       "      <td>1575</td>\n",
       "      <td>225</td>\n",
       "      <td>828</td>\n",
       "      <td>838</td>\n",
       "      <td>354</td>\n",
       "      <td>200</td>\n",
       "      <td>11</td>\n",
       "      <td>3</td>\n",
       "      <td>500.0</td>\n",
       "      <td>1</td>\n",
       "      <td>0</td>\n",
       "      <td>1</td>\n",
       "    </tr>\n",
       "    <tr>\n",
       "      <th>4</th>\n",
       "      <td>321</td>\n",
       "      <td>87</td>\n",
       "      <td>10</td>\n",
       "      <td>39</td>\n",
       "      <td>42</td>\n",
       "      <td>30</td>\n",
       "      <td>2</td>\n",
       "      <td>396</td>\n",
       "      <td>101</td>\n",
       "      <td>12</td>\n",
       "      <td>48</td>\n",
       "      <td>46</td>\n",
       "      <td>33</td>\n",
       "      <td>805</td>\n",
       "      <td>40</td>\n",
       "      <td>4</td>\n",
       "      <td>91.5</td>\n",
       "      <td>1</td>\n",
       "      <td>0</td>\n",
       "      <td>1</td>\n",
       "    </tr>\n",
       "  </tbody>\n",
       "</table>\n",
       "</div>"
      ],
      "text/plain": [
       "   AtBat  Hits  HmRun  Runs  RBI  Walks  Years  CAtBat  CHits  CHmRun  CRuns  \\\n",
       "0    293    66      1    30   29     14      1     293     66       1     30   \n",
       "1    315    81      7    24   38     39     14    3449    835      69    321   \n",
       "2    479   130     18    66   72     76      3    1624    457      63    224   \n",
       "3    496   141     20    65   78     37     11    5628   1575     225    828   \n",
       "4    321    87     10    39   42     30      2     396    101      12     48   \n",
       "\n",
       "   CRBI  CWalks  PutOuts  Assists  Errors  Salary  League_N  Division_W  \\\n",
       "0    29      14      446       33      20     NaN         0           0   \n",
       "1   414     375      632       43      10   475.0         1           1   \n",
       "2   266     263      880       82      14   480.0         0           1   \n",
       "3   838     354      200       11       3   500.0         1           0   \n",
       "4    46      33      805       40       4    91.5         1           0   \n",
       "\n",
       "   NewLeague_N  \n",
       "0            0  \n",
       "1            1  \n",
       "2            0  \n",
       "3            1  \n",
       "4            1  "
      ]
     },
     "execution_count": 8,
     "metadata": {},
     "output_type": "execute_result"
    }
   ],
   "source": [
    "df = pd.get_dummies(df, columns = ['League', 'Division', 'NewLeague'], drop_first = True)\n",
    "df.head()"
   ]
  },
  {
   "cell_type": "code",
   "execution_count": 9,
   "metadata": {},
   "outputs": [
    {
     "name": "stdout",
     "output_type": "stream",
     "text": [
      "<class 'pandas.core.frame.DataFrame'>\n",
      "RangeIndex: 322 entries, 0 to 321\n",
      "Data columns (total 20 columns):\n",
      " #   Column       Non-Null Count  Dtype  \n",
      "---  ------       --------------  -----  \n",
      " 0   AtBat        322 non-null    int64  \n",
      " 1   Hits         322 non-null    int64  \n",
      " 2   HmRun        322 non-null    int64  \n",
      " 3   Runs         322 non-null    int64  \n",
      " 4   RBI          322 non-null    int64  \n",
      " 5   Walks        322 non-null    int64  \n",
      " 6   Years        322 non-null    int64  \n",
      " 7   CAtBat       322 non-null    int64  \n",
      " 8   CHits        322 non-null    int64  \n",
      " 9   CHmRun       322 non-null    int64  \n",
      " 10  CRuns        322 non-null    int64  \n",
      " 11  CRBI         322 non-null    int64  \n",
      " 12  CWalks       322 non-null    int64  \n",
      " 13  PutOuts      322 non-null    int64  \n",
      " 14  Assists      322 non-null    int64  \n",
      " 15  Errors       322 non-null    int64  \n",
      " 16  Salary       263 non-null    float64\n",
      " 17  League_N     322 non-null    uint8  \n",
      " 18  Division_W   322 non-null    uint8  \n",
      " 19  NewLeague_N  322 non-null    uint8  \n",
      "dtypes: float64(1), int64(16), uint8(3)\n",
      "memory usage: 43.8 KB\n"
     ]
    }
   ],
   "source": [
    "df.info()"
   ]
  },
  {
   "cell_type": "code",
   "execution_count": 10,
   "metadata": {},
   "outputs": [
    {
     "data": {
      "text/html": [
       "<div>\n",
       "<style scoped>\n",
       "    .dataframe tbody tr th:only-of-type {\n",
       "        vertical-align: middle;\n",
       "    }\n",
       "\n",
       "    .dataframe tbody tr th {\n",
       "        vertical-align: top;\n",
       "    }\n",
       "\n",
       "    .dataframe thead th {\n",
       "        text-align: right;\n",
       "    }\n",
       "</style>\n",
       "<table border=\"1\" class=\"dataframe\">\n",
       "  <thead>\n",
       "    <tr style=\"text-align: right;\">\n",
       "      <th></th>\n",
       "      <th>AtBat</th>\n",
       "      <th>Hits</th>\n",
       "      <th>HmRun</th>\n",
       "      <th>Runs</th>\n",
       "      <th>RBI</th>\n",
       "      <th>Walks</th>\n",
       "      <th>Years</th>\n",
       "      <th>CAtBat</th>\n",
       "      <th>CHits</th>\n",
       "      <th>CHmRun</th>\n",
       "      <th>CRuns</th>\n",
       "      <th>CRBI</th>\n",
       "      <th>CWalks</th>\n",
       "      <th>PutOuts</th>\n",
       "      <th>Assists</th>\n",
       "      <th>Errors</th>\n",
       "      <th>Salary</th>\n",
       "      <th>League_N</th>\n",
       "      <th>Division_W</th>\n",
       "      <th>NewLeague_N</th>\n",
       "    </tr>\n",
       "  </thead>\n",
       "  <tbody>\n",
       "    <tr>\n",
       "      <th>AtBat</th>\n",
       "      <td>1.000000</td>\n",
       "      <td>0.967939</td>\n",
       "      <td>0.592198</td>\n",
       "      <td>0.913060</td>\n",
       "      <td>0.820539</td>\n",
       "      <td>0.669845</td>\n",
       "      <td>0.047372</td>\n",
       "      <td>0.235526</td>\n",
       "      <td>0.252717</td>\n",
       "      <td>0.236659</td>\n",
       "      <td>0.266534</td>\n",
       "      <td>0.244053</td>\n",
       "      <td>0.166123</td>\n",
       "      <td>0.317550</td>\n",
       "      <td>0.353824</td>\n",
       "      <td>0.352117</td>\n",
       "      <td>0.394771</td>\n",
       "      <td>-0.101663</td>\n",
       "      <td>-0.045441</td>\n",
       "      <td>-0.057655</td>\n",
       "    </tr>\n",
       "    <tr>\n",
       "      <th>Hits</th>\n",
       "      <td>0.967939</td>\n",
       "      <td>1.000000</td>\n",
       "      <td>0.562158</td>\n",
       "      <td>0.922187</td>\n",
       "      <td>0.811073</td>\n",
       "      <td>0.641211</td>\n",
       "      <td>0.044767</td>\n",
       "      <td>0.227565</td>\n",
       "      <td>0.255815</td>\n",
       "      <td>0.202712</td>\n",
       "      <td>0.261787</td>\n",
       "      <td>0.232005</td>\n",
       "      <td>0.151818</td>\n",
       "      <td>0.310673</td>\n",
       "      <td>0.320455</td>\n",
       "      <td>0.310038</td>\n",
       "      <td>0.438675</td>\n",
       "      <td>-0.101038</td>\n",
       "      <td>-0.071143</td>\n",
       "      <td>-0.060608</td>\n",
       "    </tr>\n",
       "    <tr>\n",
       "      <th>HmRun</th>\n",
       "      <td>0.592198</td>\n",
       "      <td>0.562158</td>\n",
       "      <td>1.000000</td>\n",
       "      <td>0.650988</td>\n",
       "      <td>0.855122</td>\n",
       "      <td>0.481014</td>\n",
       "      <td>0.116318</td>\n",
       "      <td>0.221882</td>\n",
       "      <td>0.220627</td>\n",
       "      <td>0.493227</td>\n",
       "      <td>0.262361</td>\n",
       "      <td>0.351979</td>\n",
       "      <td>0.233154</td>\n",
       "      <td>0.282923</td>\n",
       "      <td>-0.106329</td>\n",
       "      <td>0.039318</td>\n",
       "      <td>0.343028</td>\n",
       "      <td>-0.177258</td>\n",
       "      <td>-0.017206</td>\n",
       "      <td>-0.166044</td>\n",
       "    </tr>\n",
       "    <tr>\n",
       "      <th>Runs</th>\n",
       "      <td>0.913060</td>\n",
       "      <td>0.922187</td>\n",
       "      <td>0.650988</td>\n",
       "      <td>1.000000</td>\n",
       "      <td>0.798206</td>\n",
       "      <td>0.732213</td>\n",
       "      <td>0.004541</td>\n",
       "      <td>0.186497</td>\n",
       "      <td>0.204830</td>\n",
       "      <td>0.227913</td>\n",
       "      <td>0.250556</td>\n",
       "      <td>0.205976</td>\n",
       "      <td>0.182168</td>\n",
       "      <td>0.279347</td>\n",
       "      <td>0.220567</td>\n",
       "      <td>0.240475</td>\n",
       "      <td>0.419859</td>\n",
       "      <td>-0.150392</td>\n",
       "      <td>-0.076311</td>\n",
       "      <td>-0.115446</td>\n",
       "    </tr>\n",
       "    <tr>\n",
       "      <th>RBI</th>\n",
       "      <td>0.820539</td>\n",
       "      <td>0.811073</td>\n",
       "      <td>0.855122</td>\n",
       "      <td>0.798206</td>\n",
       "      <td>1.000000</td>\n",
       "      <td>0.615997</td>\n",
       "      <td>0.146168</td>\n",
       "      <td>0.294688</td>\n",
       "      <td>0.308201</td>\n",
       "      <td>0.441771</td>\n",
       "      <td>0.323285</td>\n",
       "      <td>0.393184</td>\n",
       "      <td>0.250914</td>\n",
       "      <td>0.343186</td>\n",
       "      <td>0.106591</td>\n",
       "      <td>0.193370</td>\n",
       "      <td>0.449457</td>\n",
       "      <td>-0.145597</td>\n",
       "      <td>-0.075531</td>\n",
       "      <td>-0.120124</td>\n",
       "    </tr>\n",
       "    <tr>\n",
       "      <th>Walks</th>\n",
       "      <td>0.669845</td>\n",
       "      <td>0.641211</td>\n",
       "      <td>0.481014</td>\n",
       "      <td>0.732213</td>\n",
       "      <td>0.615997</td>\n",
       "      <td>1.000000</td>\n",
       "      <td>0.136475</td>\n",
       "      <td>0.277175</td>\n",
       "      <td>0.280671</td>\n",
       "      <td>0.332473</td>\n",
       "      <td>0.338478</td>\n",
       "      <td>0.308631</td>\n",
       "      <td>0.424507</td>\n",
       "      <td>0.299515</td>\n",
       "      <td>0.149656</td>\n",
       "      <td>0.129382</td>\n",
       "      <td>0.443867</td>\n",
       "      <td>-0.045337</td>\n",
       "      <td>-0.059086</td>\n",
       "      <td>-0.020029</td>\n",
       "    </tr>\n",
       "    <tr>\n",
       "      <th>Years</th>\n",
       "      <td>0.047372</td>\n",
       "      <td>0.044767</td>\n",
       "      <td>0.116318</td>\n",
       "      <td>0.004541</td>\n",
       "      <td>0.146168</td>\n",
       "      <td>0.136475</td>\n",
       "      <td>1.000000</td>\n",
       "      <td>0.920289</td>\n",
       "      <td>0.903631</td>\n",
       "      <td>0.726872</td>\n",
       "      <td>0.882877</td>\n",
       "      <td>0.868812</td>\n",
       "      <td>0.838533</td>\n",
       "      <td>-0.004684</td>\n",
       "      <td>-0.080638</td>\n",
       "      <td>-0.162140</td>\n",
       "      <td>0.400657</td>\n",
       "      <td>-0.047261</td>\n",
       "      <td>0.021126</td>\n",
       "      <td>-0.042919</td>\n",
       "    </tr>\n",
       "    <tr>\n",
       "      <th>CAtBat</th>\n",
       "      <td>0.235526</td>\n",
       "      <td>0.227565</td>\n",
       "      <td>0.221882</td>\n",
       "      <td>0.186497</td>\n",
       "      <td>0.294688</td>\n",
       "      <td>0.277175</td>\n",
       "      <td>0.920289</td>\n",
       "      <td>1.000000</td>\n",
       "      <td>0.995063</td>\n",
       "      <td>0.798836</td>\n",
       "      <td>0.983345</td>\n",
       "      <td>0.949219</td>\n",
       "      <td>0.906501</td>\n",
       "      <td>0.062283</td>\n",
       "      <td>0.002038</td>\n",
       "      <td>-0.066922</td>\n",
       "      <td>0.526135</td>\n",
       "      <td>-0.028738</td>\n",
       "      <td>0.022965</td>\n",
       "      <td>-0.016502</td>\n",
       "    </tr>\n",
       "    <tr>\n",
       "      <th>CHits</th>\n",
       "      <td>0.252717</td>\n",
       "      <td>0.255815</td>\n",
       "      <td>0.220627</td>\n",
       "      <td>0.204830</td>\n",
       "      <td>0.308201</td>\n",
       "      <td>0.280671</td>\n",
       "      <td>0.903631</td>\n",
       "      <td>0.995063</td>\n",
       "      <td>1.000000</td>\n",
       "      <td>0.783306</td>\n",
       "      <td>0.984609</td>\n",
       "      <td>0.945141</td>\n",
       "      <td>0.890954</td>\n",
       "      <td>0.076547</td>\n",
       "      <td>-0.002523</td>\n",
       "      <td>-0.062756</td>\n",
       "      <td>0.548910</td>\n",
       "      <td>-0.025790</td>\n",
       "      <td>0.013584</td>\n",
       "      <td>-0.010047</td>\n",
       "    </tr>\n",
       "    <tr>\n",
       "      <th>CHmRun</th>\n",
       "      <td>0.236659</td>\n",
       "      <td>0.202712</td>\n",
       "      <td>0.493227</td>\n",
       "      <td>0.227913</td>\n",
       "      <td>0.441771</td>\n",
       "      <td>0.332473</td>\n",
       "      <td>0.726872</td>\n",
       "      <td>0.798836</td>\n",
       "      <td>0.783306</td>\n",
       "      <td>1.000000</td>\n",
       "      <td>0.820243</td>\n",
       "      <td>0.929484</td>\n",
       "      <td>0.799983</td>\n",
       "      <td>0.112724</td>\n",
       "      <td>-0.158511</td>\n",
       "      <td>-0.138115</td>\n",
       "      <td>0.524931</td>\n",
       "      <td>-0.098383</td>\n",
       "      <td>0.006783</td>\n",
       "      <td>-0.097461</td>\n",
       "    </tr>\n",
       "    <tr>\n",
       "      <th>CRuns</th>\n",
       "      <td>0.266534</td>\n",
       "      <td>0.261787</td>\n",
       "      <td>0.262361</td>\n",
       "      <td>0.250556</td>\n",
       "      <td>0.323285</td>\n",
       "      <td>0.338478</td>\n",
       "      <td>0.882877</td>\n",
       "      <td>0.983345</td>\n",
       "      <td>0.984609</td>\n",
       "      <td>0.820243</td>\n",
       "      <td>1.000000</td>\n",
       "      <td>0.943769</td>\n",
       "      <td>0.927807</td>\n",
       "      <td>0.064180</td>\n",
       "      <td>-0.022978</td>\n",
       "      <td>-0.084395</td>\n",
       "      <td>0.562678</td>\n",
       "      <td>-0.054666</td>\n",
       "      <td>-0.000935</td>\n",
       "      <td>-0.042882</td>\n",
       "    </tr>\n",
       "    <tr>\n",
       "      <th>CRBI</th>\n",
       "      <td>0.244053</td>\n",
       "      <td>0.232005</td>\n",
       "      <td>0.351979</td>\n",
       "      <td>0.205976</td>\n",
       "      <td>0.393184</td>\n",
       "      <td>0.308631</td>\n",
       "      <td>0.868812</td>\n",
       "      <td>0.949219</td>\n",
       "      <td>0.945141</td>\n",
       "      <td>0.929484</td>\n",
       "      <td>0.943769</td>\n",
       "      <td>1.000000</td>\n",
       "      <td>0.884726</td>\n",
       "      <td>0.110098</td>\n",
       "      <td>-0.079387</td>\n",
       "      <td>-0.100990</td>\n",
       "      <td>0.566966</td>\n",
       "      <td>-0.052684</td>\n",
       "      <td>0.013213</td>\n",
       "      <td>-0.045737</td>\n",
       "    </tr>\n",
       "    <tr>\n",
       "      <th>CWalks</th>\n",
       "      <td>0.166123</td>\n",
       "      <td>0.151818</td>\n",
       "      <td>0.233154</td>\n",
       "      <td>0.182168</td>\n",
       "      <td>0.250914</td>\n",
       "      <td>0.424507</td>\n",
       "      <td>0.838533</td>\n",
       "      <td>0.906501</td>\n",
       "      <td>0.890954</td>\n",
       "      <td>0.799983</td>\n",
       "      <td>0.927807</td>\n",
       "      <td>0.884726</td>\n",
       "      <td>1.000000</td>\n",
       "      <td>0.058638</td>\n",
       "      <td>-0.039130</td>\n",
       "      <td>-0.118475</td>\n",
       "      <td>0.489822</td>\n",
       "      <td>-0.050884</td>\n",
       "      <td>-0.005183</td>\n",
       "      <td>-0.051726</td>\n",
       "    </tr>\n",
       "    <tr>\n",
       "      <th>PutOuts</th>\n",
       "      <td>0.317550</td>\n",
       "      <td>0.310673</td>\n",
       "      <td>0.282923</td>\n",
       "      <td>0.279347</td>\n",
       "      <td>0.343186</td>\n",
       "      <td>0.299515</td>\n",
       "      <td>-0.004684</td>\n",
       "      <td>0.062283</td>\n",
       "      <td>0.076547</td>\n",
       "      <td>0.112724</td>\n",
       "      <td>0.064180</td>\n",
       "      <td>0.110098</td>\n",
       "      <td>0.058638</td>\n",
       "      <td>1.000000</td>\n",
       "      <td>-0.025024</td>\n",
       "      <td>0.109972</td>\n",
       "      <td>0.300480</td>\n",
       "      <td>0.023984</td>\n",
       "      <td>-0.005647</td>\n",
       "      <td>0.032833</td>\n",
       "    </tr>\n",
       "    <tr>\n",
       "      <th>Assists</th>\n",
       "      <td>0.353824</td>\n",
       "      <td>0.320455</td>\n",
       "      <td>-0.106329</td>\n",
       "      <td>0.220567</td>\n",
       "      <td>0.106591</td>\n",
       "      <td>0.149656</td>\n",
       "      <td>-0.080638</td>\n",
       "      <td>0.002038</td>\n",
       "      <td>-0.002523</td>\n",
       "      <td>-0.158511</td>\n",
       "      <td>-0.022978</td>\n",
       "      <td>-0.079387</td>\n",
       "      <td>-0.039130</td>\n",
       "      <td>-0.025024</td>\n",
       "      <td>1.000000</td>\n",
       "      <td>0.706362</td>\n",
       "      <td>0.025436</td>\n",
       "      <td>0.045527</td>\n",
       "      <td>-0.013852</td>\n",
       "      <td>0.039066</td>\n",
       "    </tr>\n",
       "    <tr>\n",
       "      <th>Errors</th>\n",
       "      <td>0.352117</td>\n",
       "      <td>0.310038</td>\n",
       "      <td>0.039318</td>\n",
       "      <td>0.240475</td>\n",
       "      <td>0.193370</td>\n",
       "      <td>0.129382</td>\n",
       "      <td>-0.162140</td>\n",
       "      <td>-0.066922</td>\n",
       "      <td>-0.062756</td>\n",
       "      <td>-0.138115</td>\n",
       "      <td>-0.084395</td>\n",
       "      <td>-0.100990</td>\n",
       "      <td>-0.118475</td>\n",
       "      <td>0.109972</td>\n",
       "      <td>0.706362</td>\n",
       "      <td>1.000000</td>\n",
       "      <td>-0.005401</td>\n",
       "      <td>0.078508</td>\n",
       "      <td>-0.023121</td>\n",
       "      <td>0.050140</td>\n",
       "    </tr>\n",
       "    <tr>\n",
       "      <th>Salary</th>\n",
       "      <td>0.394771</td>\n",
       "      <td>0.438675</td>\n",
       "      <td>0.343028</td>\n",
       "      <td>0.419859</td>\n",
       "      <td>0.449457</td>\n",
       "      <td>0.443867</td>\n",
       "      <td>0.400657</td>\n",
       "      <td>0.526135</td>\n",
       "      <td>0.548910</td>\n",
       "      <td>0.524931</td>\n",
       "      <td>0.562678</td>\n",
       "      <td>0.566966</td>\n",
       "      <td>0.489822</td>\n",
       "      <td>0.300480</td>\n",
       "      <td>0.025436</td>\n",
       "      <td>-0.005401</td>\n",
       "      <td>1.000000</td>\n",
       "      <td>-0.014282</td>\n",
       "      <td>-0.192514</td>\n",
       "      <td>-0.002834</td>\n",
       "    </tr>\n",
       "    <tr>\n",
       "      <th>League_N</th>\n",
       "      <td>-0.101663</td>\n",
       "      <td>-0.101038</td>\n",
       "      <td>-0.177258</td>\n",
       "      <td>-0.150392</td>\n",
       "      <td>-0.145597</td>\n",
       "      <td>-0.045337</td>\n",
       "      <td>-0.047261</td>\n",
       "      <td>-0.028738</td>\n",
       "      <td>-0.025790</td>\n",
       "      <td>-0.098383</td>\n",
       "      <td>-0.054666</td>\n",
       "      <td>-0.052684</td>\n",
       "      <td>-0.050884</td>\n",
       "      <td>0.023984</td>\n",
       "      <td>0.045527</td>\n",
       "      <td>0.078508</td>\n",
       "      <td>-0.014282</td>\n",
       "      <td>1.000000</td>\n",
       "      <td>-0.004067</td>\n",
       "      <td>0.881041</td>\n",
       "    </tr>\n",
       "    <tr>\n",
       "      <th>Division_W</th>\n",
       "      <td>-0.045441</td>\n",
       "      <td>-0.071143</td>\n",
       "      <td>-0.017206</td>\n",
       "      <td>-0.076311</td>\n",
       "      <td>-0.075531</td>\n",
       "      <td>-0.059086</td>\n",
       "      <td>0.021126</td>\n",
       "      <td>0.022965</td>\n",
       "      <td>0.013584</td>\n",
       "      <td>0.006783</td>\n",
       "      <td>-0.000935</td>\n",
       "      <td>0.013213</td>\n",
       "      <td>-0.005183</td>\n",
       "      <td>-0.005647</td>\n",
       "      <td>-0.013852</td>\n",
       "      <td>-0.023121</td>\n",
       "      <td>-0.192514</td>\n",
       "      <td>-0.004067</td>\n",
       "      <td>1.000000</td>\n",
       "      <td>-0.010155</td>\n",
       "    </tr>\n",
       "    <tr>\n",
       "      <th>NewLeague_N</th>\n",
       "      <td>-0.057655</td>\n",
       "      <td>-0.060608</td>\n",
       "      <td>-0.166044</td>\n",
       "      <td>-0.115446</td>\n",
       "      <td>-0.120124</td>\n",
       "      <td>-0.020029</td>\n",
       "      <td>-0.042919</td>\n",
       "      <td>-0.016502</td>\n",
       "      <td>-0.010047</td>\n",
       "      <td>-0.097461</td>\n",
       "      <td>-0.042882</td>\n",
       "      <td>-0.045737</td>\n",
       "      <td>-0.051726</td>\n",
       "      <td>0.032833</td>\n",
       "      <td>0.039066</td>\n",
       "      <td>0.050140</td>\n",
       "      <td>-0.002834</td>\n",
       "      <td>0.881041</td>\n",
       "      <td>-0.010155</td>\n",
       "      <td>1.000000</td>\n",
       "    </tr>\n",
       "  </tbody>\n",
       "</table>\n",
       "</div>"
      ],
      "text/plain": [
       "                AtBat      Hits     HmRun      Runs       RBI     Walks  \\\n",
       "AtBat        1.000000  0.967939  0.592198  0.913060  0.820539  0.669845   \n",
       "Hits         0.967939  1.000000  0.562158  0.922187  0.811073  0.641211   \n",
       "HmRun        0.592198  0.562158  1.000000  0.650988  0.855122  0.481014   \n",
       "Runs         0.913060  0.922187  0.650988  1.000000  0.798206  0.732213   \n",
       "RBI          0.820539  0.811073  0.855122  0.798206  1.000000  0.615997   \n",
       "Walks        0.669845  0.641211  0.481014  0.732213  0.615997  1.000000   \n",
       "Years        0.047372  0.044767  0.116318  0.004541  0.146168  0.136475   \n",
       "CAtBat       0.235526  0.227565  0.221882  0.186497  0.294688  0.277175   \n",
       "CHits        0.252717  0.255815  0.220627  0.204830  0.308201  0.280671   \n",
       "CHmRun       0.236659  0.202712  0.493227  0.227913  0.441771  0.332473   \n",
       "CRuns        0.266534  0.261787  0.262361  0.250556  0.323285  0.338478   \n",
       "CRBI         0.244053  0.232005  0.351979  0.205976  0.393184  0.308631   \n",
       "CWalks       0.166123  0.151818  0.233154  0.182168  0.250914  0.424507   \n",
       "PutOuts      0.317550  0.310673  0.282923  0.279347  0.343186  0.299515   \n",
       "Assists      0.353824  0.320455 -0.106329  0.220567  0.106591  0.149656   \n",
       "Errors       0.352117  0.310038  0.039318  0.240475  0.193370  0.129382   \n",
       "Salary       0.394771  0.438675  0.343028  0.419859  0.449457  0.443867   \n",
       "League_N    -0.101663 -0.101038 -0.177258 -0.150392 -0.145597 -0.045337   \n",
       "Division_W  -0.045441 -0.071143 -0.017206 -0.076311 -0.075531 -0.059086   \n",
       "NewLeague_N -0.057655 -0.060608 -0.166044 -0.115446 -0.120124 -0.020029   \n",
       "\n",
       "                Years    CAtBat     CHits    CHmRun     CRuns      CRBI  \\\n",
       "AtBat        0.047372  0.235526  0.252717  0.236659  0.266534  0.244053   \n",
       "Hits         0.044767  0.227565  0.255815  0.202712  0.261787  0.232005   \n",
       "HmRun        0.116318  0.221882  0.220627  0.493227  0.262361  0.351979   \n",
       "Runs         0.004541  0.186497  0.204830  0.227913  0.250556  0.205976   \n",
       "RBI          0.146168  0.294688  0.308201  0.441771  0.323285  0.393184   \n",
       "Walks        0.136475  0.277175  0.280671  0.332473  0.338478  0.308631   \n",
       "Years        1.000000  0.920289  0.903631  0.726872  0.882877  0.868812   \n",
       "CAtBat       0.920289  1.000000  0.995063  0.798836  0.983345  0.949219   \n",
       "CHits        0.903631  0.995063  1.000000  0.783306  0.984609  0.945141   \n",
       "CHmRun       0.726872  0.798836  0.783306  1.000000  0.820243  0.929484   \n",
       "CRuns        0.882877  0.983345  0.984609  0.820243  1.000000  0.943769   \n",
       "CRBI         0.868812  0.949219  0.945141  0.929484  0.943769  1.000000   \n",
       "CWalks       0.838533  0.906501  0.890954  0.799983  0.927807  0.884726   \n",
       "PutOuts     -0.004684  0.062283  0.076547  0.112724  0.064180  0.110098   \n",
       "Assists     -0.080638  0.002038 -0.002523 -0.158511 -0.022978 -0.079387   \n",
       "Errors      -0.162140 -0.066922 -0.062756 -0.138115 -0.084395 -0.100990   \n",
       "Salary       0.400657  0.526135  0.548910  0.524931  0.562678  0.566966   \n",
       "League_N    -0.047261 -0.028738 -0.025790 -0.098383 -0.054666 -0.052684   \n",
       "Division_W   0.021126  0.022965  0.013584  0.006783 -0.000935  0.013213   \n",
       "NewLeague_N -0.042919 -0.016502 -0.010047 -0.097461 -0.042882 -0.045737   \n",
       "\n",
       "               CWalks   PutOuts   Assists    Errors    Salary  League_N  \\\n",
       "AtBat        0.166123  0.317550  0.353824  0.352117  0.394771 -0.101663   \n",
       "Hits         0.151818  0.310673  0.320455  0.310038  0.438675 -0.101038   \n",
       "HmRun        0.233154  0.282923 -0.106329  0.039318  0.343028 -0.177258   \n",
       "Runs         0.182168  0.279347  0.220567  0.240475  0.419859 -0.150392   \n",
       "RBI          0.250914  0.343186  0.106591  0.193370  0.449457 -0.145597   \n",
       "Walks        0.424507  0.299515  0.149656  0.129382  0.443867 -0.045337   \n",
       "Years        0.838533 -0.004684 -0.080638 -0.162140  0.400657 -0.047261   \n",
       "CAtBat       0.906501  0.062283  0.002038 -0.066922  0.526135 -0.028738   \n",
       "CHits        0.890954  0.076547 -0.002523 -0.062756  0.548910 -0.025790   \n",
       "CHmRun       0.799983  0.112724 -0.158511 -0.138115  0.524931 -0.098383   \n",
       "CRuns        0.927807  0.064180 -0.022978 -0.084395  0.562678 -0.054666   \n",
       "CRBI         0.884726  0.110098 -0.079387 -0.100990  0.566966 -0.052684   \n",
       "CWalks       1.000000  0.058638 -0.039130 -0.118475  0.489822 -0.050884   \n",
       "PutOuts      0.058638  1.000000 -0.025024  0.109972  0.300480  0.023984   \n",
       "Assists     -0.039130 -0.025024  1.000000  0.706362  0.025436  0.045527   \n",
       "Errors      -0.118475  0.109972  0.706362  1.000000 -0.005401  0.078508   \n",
       "Salary       0.489822  0.300480  0.025436 -0.005401  1.000000 -0.014282   \n",
       "League_N    -0.050884  0.023984  0.045527  0.078508 -0.014282  1.000000   \n",
       "Division_W  -0.005183 -0.005647 -0.013852 -0.023121 -0.192514 -0.004067   \n",
       "NewLeague_N -0.051726  0.032833  0.039066  0.050140 -0.002834  0.881041   \n",
       "\n",
       "             Division_W  NewLeague_N  \n",
       "AtBat         -0.045441    -0.057655  \n",
       "Hits          -0.071143    -0.060608  \n",
       "HmRun         -0.017206    -0.166044  \n",
       "Runs          -0.076311    -0.115446  \n",
       "RBI           -0.075531    -0.120124  \n",
       "Walks         -0.059086    -0.020029  \n",
       "Years          0.021126    -0.042919  \n",
       "CAtBat         0.022965    -0.016502  \n",
       "CHits          0.013584    -0.010047  \n",
       "CHmRun         0.006783    -0.097461  \n",
       "CRuns         -0.000935    -0.042882  \n",
       "CRBI           0.013213    -0.045737  \n",
       "CWalks        -0.005183    -0.051726  \n",
       "PutOuts       -0.005647     0.032833  \n",
       "Assists       -0.013852     0.039066  \n",
       "Errors        -0.023121     0.050140  \n",
       "Salary        -0.192514    -0.002834  \n",
       "League_N      -0.004067     0.881041  \n",
       "Division_W     1.000000    -0.010155  \n",
       "NewLeague_N   -0.010155     1.000000  "
      ]
     },
     "execution_count": 10,
     "metadata": {},
     "output_type": "execute_result"
    }
   ],
   "source": [
    "df.corr()"
   ]
  },
  {
   "cell_type": "markdown",
   "metadata": {},
   "source": [
    "### Outlier Analysis "
   ]
  },
  {
   "cell_type": "code",
   "execution_count": 11,
   "metadata": {},
   "outputs": [
    {
     "data": {
      "text/html": [
       "<div>\n",
       "<style scoped>\n",
       "    .dataframe tbody tr th:only-of-type {\n",
       "        vertical-align: middle;\n",
       "    }\n",
       "\n",
       "    .dataframe tbody tr th {\n",
       "        vertical-align: top;\n",
       "    }\n",
       "\n",
       "    .dataframe thead th {\n",
       "        text-align: right;\n",
       "    }\n",
       "</style>\n",
       "<table border=\"1\" class=\"dataframe\">\n",
       "  <thead>\n",
       "    <tr style=\"text-align: right;\">\n",
       "      <th></th>\n",
       "      <th>AtBat</th>\n",
       "      <th>Hits</th>\n",
       "      <th>HmRun</th>\n",
       "      <th>Runs</th>\n",
       "      <th>RBI</th>\n",
       "      <th>Walks</th>\n",
       "      <th>Years</th>\n",
       "      <th>CAtBat</th>\n",
       "      <th>CHits</th>\n",
       "      <th>CHmRun</th>\n",
       "      <th>CRuns</th>\n",
       "      <th>CRBI</th>\n",
       "      <th>CWalks</th>\n",
       "      <th>PutOuts</th>\n",
       "      <th>Assists</th>\n",
       "      <th>Errors</th>\n",
       "      <th>Salary</th>\n",
       "    </tr>\n",
       "  </thead>\n",
       "  <tbody>\n",
       "    <tr>\n",
       "      <th>0</th>\n",
       "      <td>293</td>\n",
       "      <td>66</td>\n",
       "      <td>1</td>\n",
       "      <td>30</td>\n",
       "      <td>29</td>\n",
       "      <td>14</td>\n",
       "      <td>1</td>\n",
       "      <td>293</td>\n",
       "      <td>66</td>\n",
       "      <td>1</td>\n",
       "      <td>30</td>\n",
       "      <td>29</td>\n",
       "      <td>14</td>\n",
       "      <td>446</td>\n",
       "      <td>33</td>\n",
       "      <td>20</td>\n",
       "      <td>NaN</td>\n",
       "    </tr>\n",
       "    <tr>\n",
       "      <th>1</th>\n",
       "      <td>315</td>\n",
       "      <td>81</td>\n",
       "      <td>7</td>\n",
       "      <td>24</td>\n",
       "      <td>38</td>\n",
       "      <td>39</td>\n",
       "      <td>14</td>\n",
       "      <td>3449</td>\n",
       "      <td>835</td>\n",
       "      <td>69</td>\n",
       "      <td>321</td>\n",
       "      <td>414</td>\n",
       "      <td>375</td>\n",
       "      <td>632</td>\n",
       "      <td>43</td>\n",
       "      <td>10</td>\n",
       "      <td>475.0</td>\n",
       "    </tr>\n",
       "    <tr>\n",
       "      <th>2</th>\n",
       "      <td>479</td>\n",
       "      <td>130</td>\n",
       "      <td>18</td>\n",
       "      <td>66</td>\n",
       "      <td>72</td>\n",
       "      <td>76</td>\n",
       "      <td>3</td>\n",
       "      <td>1624</td>\n",
       "      <td>457</td>\n",
       "      <td>63</td>\n",
       "      <td>224</td>\n",
       "      <td>266</td>\n",
       "      <td>263</td>\n",
       "      <td>880</td>\n",
       "      <td>82</td>\n",
       "      <td>14</td>\n",
       "      <td>480.0</td>\n",
       "    </tr>\n",
       "    <tr>\n",
       "      <th>3</th>\n",
       "      <td>496</td>\n",
       "      <td>141</td>\n",
       "      <td>20</td>\n",
       "      <td>65</td>\n",
       "      <td>78</td>\n",
       "      <td>37</td>\n",
       "      <td>11</td>\n",
       "      <td>5628</td>\n",
       "      <td>1575</td>\n",
       "      <td>225</td>\n",
       "      <td>828</td>\n",
       "      <td>838</td>\n",
       "      <td>354</td>\n",
       "      <td>200</td>\n",
       "      <td>11</td>\n",
       "      <td>3</td>\n",
       "      <td>500.0</td>\n",
       "    </tr>\n",
       "    <tr>\n",
       "      <th>4</th>\n",
       "      <td>321</td>\n",
       "      <td>87</td>\n",
       "      <td>10</td>\n",
       "      <td>39</td>\n",
       "      <td>42</td>\n",
       "      <td>30</td>\n",
       "      <td>2</td>\n",
       "      <td>396</td>\n",
       "      <td>101</td>\n",
       "      <td>12</td>\n",
       "      <td>48</td>\n",
       "      <td>46</td>\n",
       "      <td>33</td>\n",
       "      <td>805</td>\n",
       "      <td>40</td>\n",
       "      <td>4</td>\n",
       "      <td>91.5</td>\n",
       "    </tr>\n",
       "  </tbody>\n",
       "</table>\n",
       "</div>"
      ],
      "text/plain": [
       "   AtBat  Hits  HmRun  Runs  RBI  Walks  Years  CAtBat  CHits  CHmRun  CRuns  \\\n",
       "0    293    66      1    30   29     14      1     293     66       1     30   \n",
       "1    315    81      7    24   38     39     14    3449    835      69    321   \n",
       "2    479   130     18    66   72     76      3    1624    457      63    224   \n",
       "3    496   141     20    65   78     37     11    5628   1575     225    828   \n",
       "4    321    87     10    39   42     30      2     396    101      12     48   \n",
       "\n",
       "   CRBI  CWalks  PutOuts  Assists  Errors  Salary  \n",
       "0    29      14      446       33      20     NaN  \n",
       "1   414     375      632       43      10   475.0  \n",
       "2   266     263      880       82      14   480.0  \n",
       "3   838     354      200       11       3   500.0  \n",
       "4    46      33      805       40       4    91.5  "
      ]
     },
     "execution_count": 11,
     "metadata": {},
     "output_type": "execute_result"
    }
   ],
   "source": [
    "df = df.select_dtypes(include = ['float64', 'int64']) \n",
    "df.head()"
   ]
  },
  {
   "cell_type": "code",
   "execution_count": 12,
   "metadata": {},
   "outputs": [
    {
     "name": "stdout",
     "output_type": "stream",
     "text": [
      "Salary yes\n",
      "11\n"
     ]
    }
   ],
   "source": [
    "for feature in [\"Salary\"]:\n",
    "\n",
    "    Q1 = df[feature].quantile(0.25)\n",
    "    Q3 = df[feature].quantile(0.75)\n",
    "    IQR = Q3-Q1\n",
    "    upper = Q3 + 1.5*IQR\n",
    "    lower = Q1 - 1.5*IQR\n",
    "\n",
    "    if df[(df[feature] > upper) | (df[feature] < lower)].any(axis=None):\n",
    "        print(feature,\"yes\")\n",
    "        print(df[(df[feature] > upper) | (df[feature] < lower)].shape[0])\n",
    "    else:\n",
    "        print(feature, \"no\")"
   ]
  },
  {
   "cell_type": "code",
   "execution_count": 13,
   "metadata": {},
   "outputs": [],
   "source": [
    "df_salary = df[\"Salary\"]"
   ]
  },
  {
   "cell_type": "code",
   "execution_count": 14,
   "metadata": {},
   "outputs": [
    {
     "data": {
      "image/png": "[encoded data removed]",
      "text/plain": [
       "<Figure size 432x288 with 1 Axes>"
      ]
     },
     "metadata": {
      "needs_background": "light"
     },
     "output_type": "display_data"
    }
   ],
   "source": [
    "sns.boxplot(x = df_salary);"
   ]
  },
  {
   "cell_type": "code",
   "execution_count": 15,
   "metadata": {},
   "outputs": [
    {
     "data": {
      "text/plain": [
       "count     263.000000\n",
       "mean      535.925882\n",
       "std       451.118681\n",
       "min        67.500000\n",
       "25%       190.000000\n",
       "50%       425.000000\n",
       "75%       750.000000\n",
       "max      2460.000000\n",
       "Name: Salary, dtype: float64"
      ]
     },
     "execution_count": 15,
     "metadata": {},
     "output_type": "execute_result"
    }
   ],
   "source": [
    "df['Salary'].describe()"
   ]
  },
  {
   "cell_type": "code",
   "execution_count": 16,
   "metadata": {},
   "outputs": [],
   "source": [
    "df_outlier = (df[feature] > upper) | (df[feature] < lower)\n",
    "df = df[~df_outlier]"
   ]
  },
  {
   "cell_type": "code",
   "execution_count": 17,
   "metadata": {},
   "outputs": [],
   "source": [
    "y = df[\"Salary\"]\n",
    "X = df.drop('Salary', axis=1)"
   ]
  },
  {
   "cell_type": "code",
   "execution_count": 18,
   "metadata": {},
   "outputs": [],
   "source": [
    "y = y.fillna(y.mean())"
   ]
  },
  {
   "cell_type": "code",
   "execution_count": 19,
   "metadata": {},
   "outputs": [],
   "source": [
    "cols = X.columns\n",
    "from sklearn.preprocessing import StandardScaler\n",
    "scaler = StandardScaler()\n",
    "X = scaler.fit_transform(X)"
   ]
  },
  {
   "cell_type": "code",
   "execution_count": 20,
   "metadata": {},
   "outputs": [],
   "source": [
    "X_train, X_test, y_train, y_test = train_test_split(X, \n",
    "                                                    y, \n",
    "                                                    test_size = 0.20, random_state = 46)"
   ]
  },
  {
   "cell_type": "code",
   "execution_count": 21,
   "metadata": {},
   "outputs": [
    {
     "data": {
      "text/plain": [
       "(248, 16)"
      ]
     },
     "execution_count": 21,
     "metadata": {},
     "output_type": "execute_result"
    }
   ],
   "source": [
    "X_train.shape"
   ]
  },
  {
   "cell_type": "code",
   "execution_count": 22,
   "metadata": {},
   "outputs": [
    {
     "data": {
      "text/plain": [
       "(63, 16)"
      ]
     },
     "execution_count": 22,
     "metadata": {},
     "output_type": "execute_result"
    }
   ],
   "source": [
    "X_test.shape"
   ]
  },
  {
   "cell_type": "markdown",
   "metadata": {},
   "source": [
    "# Linear Regression"
   ]
  },
  {
   "cell_type": "code",
   "execution_count": 23,
   "metadata": {},
   "outputs": [
    {
     "data": {
      "text/plain": [
       "289.1763095901452"
      ]
     },
     "execution_count": 23,
     "metadata": {},
     "output_type": "execute_result"
    }
   ],
   "source": [
    "reg_model = LinearRegression()\n",
    "reg_model.fit(X_train,y_train)\n",
    "y_pred = reg_model.predict(X_train)\n",
    "y_test_pred = reg_model.predict(X_test)\n",
    "Linear_RMSE = np.sqrt(mean_squared_error(y_test, y_test_pred))\n",
    "print('Linear_RMSE=', Linear_RMSE)"
   ]
  },
  {
   "cell_type": "markdown",
   "metadata": {},
   "source": [
    "# Ridge Regression"
   ]
  },
  {
   "cell_type": "code",
   "execution_count": 24,
   "metadata": {},
   "outputs": [
    {
     "data": {
      "text/plain": [
       "286.5320219541146"
      ]
     },
     "execution_count": 24,
     "metadata": {},
     "output_type": "execute_result"
    }
   ],
   "source": [
    "ridge_model = Ridge().fit(X_train,y_train)\n",
    "y_pred = ridge_model.predict(X_test)\n",
    "Ridg_RMSE = np.sqrt(mean_squared_error(y_test, y_pred))\n",
    "print('Ridg_RMSE=',Ridg_RMSE)"
   ]
  },
  {
   "cell_type": "markdown",
   "metadata": {},
   "source": [
    "#### Model Tuning"
   ]
  },
  {
   "cell_type": "code",
   "execution_count": 25,
   "metadata": {},
   "outputs": [
    {
     "name": "stdout",
     "output_type": "stream",
     "text": [
      "alpha = 0.1\n",
      "Ridge_RMSE= 279.452741410163\n"
     ]
    }
   ],
   "source": [
    "alpha = [0.1,0.01,0.001,0.2,0.3,0.5,0.8,0.9,1]\n",
    "ridge_cv = RidgeCV(alphas = alpha, cv=10, normalize = True)\n",
    "ridge_cv.fit(X_train,y_train)\n",
    "print('alpha =', ridge_cv.alpha_)\n",
    "ridge_tuned = Ridge(alpha = ridge_cv.alpha_, normalize = True).fit(X_train,y_train)\n",
    "Ridge_RMSE = np.sqrt(mean_squared_error(y_test, ridge_tuned.predict(X_test)))\n",
    "print('Ridge_RMSE=' ,Ridge_RMSE)"
   ]
  },
  {
   "cell_type": "markdown",
   "metadata": {},
   "source": [
    "# Lasso Regression"
   ]
  },
  {
   "cell_type": "code",
   "execution_count": 26,
   "metadata": {},
   "outputs": [
    {
     "data": {
      "text/plain": [
       "284.40558654850946"
      ]
     },
     "execution_count": 26,
     "metadata": {},
     "output_type": "execute_result"
    }
   ],
   "source": [
    "lasso_model = Lasso().fit(X_train, y_train)\n",
    "y_pred = lasso_model.predict(X_test)\n",
    "Lass_RMSE = np.sqrt(mean_squared_error(y_test,y_pred))\n",
    "print('Lass_RMSE=',Lass_RMSE) "
   ]
  },
  {
   "cell_type": "markdown",
   "metadata": {},
   "source": [
    "#### Model Tuning "
   ]
  },
  {
   "cell_type": "code",
   "execution_count": 27,
   "metadata": {},
   "outputs": [
    {
     "name": "stdout",
     "output_type": "stream",
     "text": [
      "alpha= 0.3\n",
      "Lasso_RMSE= 278.35472136553807\n"
     ]
    }
   ],
   "source": [
    "alpha = [0.1,0.01,0.001,0.2,0.3,0.5,0.8,0.9,1]\n",
    "lasso_cv = LassoCV(alphas = alpha, cv=10, max_iter = 10000, normalize = True)\n",
    "lasso_cv.fit(X_train,y_train)\n",
    "print('alpha=', lasso_cv.alpha_)\n",
    "lasso_tuned = Lasso(alpha = lasso_cv.alpha_, normalize = True).fit(X_train,y_train)\n",
    "Lasso_RMSE = np.sqrt(mean_squared_error(y_test, lasso_tuned.predict(X_test)))\n",
    "print('Lasso_RMSE=',Lasso_RMSE )"
   ]
  },
  {
   "cell_type": "markdown",
   "metadata": {},
   "source": [
    "# ElasticNet Reg."
   ]
  },
  {
   "cell_type": "code",
   "execution_count": 28,
   "metadata": {},
   "outputs": [
    {
     "data": {
      "text/plain": [
       "273.7982321356293"
      ]
     },
     "execution_count": 28,
     "metadata": {},
     "output_type": "execute_result"
    }
   ],
   "source": [
    "elasticnet_model = ElasticNet().fit(X_train,y_train)\n",
    "y_pred = elasticnet_model.predict(X_test)\n",
    "Ent_RMSE = np.sqrt(mean_squared_error(y_test,y_pred))\n",
    "print('Ent_RMSE=',Ent_RMSE)"
   ]
  },
  {
   "cell_type": "markdown",
   "metadata": {},
   "source": [
    "#### Model Tuning"
   ]
  },
  {
   "cell_type": "code",
   "execution_count": 29,
   "metadata": {},
   "outputs": [
    {
     "name": "stdout",
     "output_type": "stream",
     "text": [
      "alpha= 0.001\n",
      "Enet_RMSE = 288.32260720336205\n"
     ]
    }
   ],
   "source": [
    "alpha = [0.1,0.01,0.001,0.2,0.3,0.5,0.8,0.9,1]\n",
    "enet_cv_model = ElasticNetCV(alphas = alpha, cv=10, max_iter = 10000, normalize = True)\n",
    "enet_cv_model.fit(X_train,y_train)\n",
    "print('alpha=', enet_cv_model.alpha_)\n",
    "enet_tuned = ElasticNet(alpha = enet_cv_model.alpha_).fit(X_train, y_train)\n",
    "y_pred = enet_tuned.predict(X_test)\n",
    "Enet_RMSE = np.sqrt(mean_squared_error(y_test, y_pred))\n",
    "print('Enet_RMSE =',Enet_RMSE )"
   ]
  },
  {
   "cell_type": "markdown",
   "metadata": {},
   "source": [
    "# Non_Linear Regression Models"
   ]
  },
  {
   "cell_type": "code",
   "execution_count": 30,
   "metadata": {},
   "outputs": [],
   "source": [
    "import numpy as np\n",
    "import pandas as pd \n",
    "from sklearn.model_selection import train_test_split, GridSearchCV\n",
    "from sklearn.metrics import mean_squared_error, r2_score\n",
    "import matplotlib.pyplot as plt\n",
    "from sklearn.preprocessing import scale \n",
    "from sklearn.preprocessing import StandardScaler\n",
    "from sklearn import model_selection\n",
    "from sklearn.linear_model import LinearRegression\n",
    "from sklearn.tree import DecisionTreeRegressor\n",
    "from sklearn.neighbors import KNeighborsRegressor\n",
    "from sklearn.neural_network import MLPRegressor\n",
    "from sklearn.ensemble import RandomForestRegressor\n",
    "from sklearn.ensemble import GradientBoostingRegressor\n",
    "from sklearn import neighbors\n",
    "from sklearn.svm import SVR"
   ]
  },
  {
   "cell_type": "markdown",
   "metadata": {},
   "source": [
    "# KNN"
   ]
  },
  {
   "cell_type": "code",
   "execution_count": 31,
   "metadata": {},
   "outputs": [
    {
     "data": {
      "text/plain": [
       "255.3403897185632"
      ]
     },
     "execution_count": 31,
     "metadata": {},
     "output_type": "execute_result"
    }
   ],
   "source": [
    "knn_model = KNeighborsRegressor().fit(X_train, y_train)\n",
    "y_pred = knn_model.predict(X_test)\n",
    "KN_RMSE = np.sqrt(mean_squared_error(y_test, y_pred))\n",
    "print('KN_RMSE =',KN_RMSE)"
   ]
  },
  {
   "cell_type": "markdown",
   "metadata": {},
   "source": [
    "### Model Tuning"
   ]
  },
  {
   "cell_type": "code",
   "execution_count": 32,
   "metadata": {},
   "outputs": [
    {
     "name": "stdout",
     "output_type": "stream",
     "text": [
      "Best_params =  {'n_neighbors': 17}\n",
      "KNN_RMSE = 257.1321967743168\n"
     ]
    }
   ],
   "source": [
    "knn_params = {\"n_neighbors\": np.arange(2,30,1)}\n",
    "knn_model = KNeighborsRegressor()\n",
    "knn_cv_model = GridSearchCV(knn_model, knn_params, cv = 10).fit(X_train, y_train)\n",
    "print('Best_params = ', knn_cv_model.best_params_)\n",
    "knn_tuned = KNeighborsRegressor(**knn_cv_model.best_params_).fit(X_train, y_train)\n",
    "y_pred = knn_tuned.predict(X_test)\n",
    "KNN_RMSE = np.sqrt(mean_squared_error(y_test, y_pred))\n",
    "print('KNN_RMSE =', KNN_RMSE)"
   ]
  },
  {
   "cell_type": "markdown",
   "metadata": {},
   "source": [
    "# SVR "
   ]
  },
  {
   "cell_type": "code",
   "execution_count": 33,
   "metadata": {},
   "outputs": [
    {
     "data": {
      "text/plain": [
       "288.02641522857607"
      ]
     },
     "execution_count": 33,
     "metadata": {},
     "output_type": "execute_result"
    }
   ],
   "source": [
    "svr_model = SVR(\"linear\").fit(X_train, y_train)\n",
    "y_pred = svr_model.predict(X_test)\n",
    "Svr_RMSE = np.sqrt(mean_squared_error(y_test, y_pred))\n",
    "print('Svr_RMSE=',Svr_RMSE)"
   ]
  },
  {
   "cell_type": "markdown",
   "metadata": {},
   "source": [
    "# SVR Tuning"
   ]
  },
  {
   "cell_type": "markdown",
   "metadata": {},
   "source": [
    "### SVR Linear Tuned"
   ]
  },
  {
   "cell_type": "code",
   "execution_count": 34,
   "metadata": {},
   "outputs": [
    {
     "name": "stdout",
     "output_type": "stream",
     "text": [
      "Fitting 10 folds for each of 8 candidates, totalling 80 fits\n"
     ]
    },
    {
     "name": "stderr",
     "output_type": "stream",
     "text": [
      "[Parallel(n_jobs=-1)]: Using backend LokyBackend with 4 concurrent workers.\n"
     ]
    },
    {
     "name": "stdout",
     "output_type": "stream",
     "text": [
      "Best_params =  {'C': 0.8}\n",
      "SVR_Lin_RMSE =  319.48344795592715\n"
     ]
    },
    {
     "name": "stderr",
     "output_type": "stream",
     "text": [
      "[Parallel(n_jobs=-1)]: Done  38 tasks      | elapsed:    1.6s\n",
      "[Parallel(n_jobs=-1)]: Done  73 out of  80 | elapsed:    1.7s remaining:    0.2s\n",
      "[Parallel(n_jobs=-1)]: Done  80 out of  80 | elapsed:    1.7s finished\n"
     ]
    }
   ],
   "source": [
    "svr_model = SVR(\"linear\") \n",
    "svr_params = {\"C\": [0.01,0.001, 0.2, 0.1,0.5,0.8,0.9,1]}\n",
    "svr_cv_model = GridSearchCV(svr_model, svr_params, cv = 10, n_jobs = -1, verbose =  2).fit(X_train, y_train)\n",
    "print('Best_params = ', svr_cv_model.best_params_)\n",
    "svr_tuned = SVR(\"linear\", C = 0.001).fit(X_train, y_train)\n",
    "y_pred = svr_tuned.predict(X_test)\n",
    "SVR_Lin_RMSE = np.sqrt(mean_squared_error(y_test, y_pred))\n",
    "print('SVR_Lin_RMSE = ',SVR_Lin_RMSE )"
   ]
  },
  {
   "cell_type": "markdown",
   "metadata": {},
   "source": [
    "### SVR Non_linear Tuned"
   ]
  },
  {
   "cell_type": "code",
   "execution_count": 35,
   "metadata": {},
   "outputs": [
    {
     "name": "stderr",
     "output_type": "stream",
     "text": [
      "[Parallel(n_jobs=-1)]: Using backend LokyBackend with 4 concurrent workers.\n"
     ]
    },
    {
     "name": "stdout",
     "output_type": "stream",
     "text": [
      "Fitting 10 folds for each of 11 candidates, totalling 110 fits\n",
      "Best_params =  {'C': 100}\n",
      "SVR_Nlin_RMSE = 248.27545595378126\n"
     ]
    },
    {
     "name": "stderr",
     "output_type": "stream",
     "text": [
      "[Parallel(n_jobs=-1)]: Done  93 tasks      | elapsed:    0.3s\n",
      "[Parallel(n_jobs=-1)]: Done 110 out of 110 | elapsed:    0.4s finished\n"
     ]
    }
   ],
   "source": [
    "svr_model = SVR() \n",
    "svr_params = {\"C\": [0.01,0.001, 0.2, 0.1,0.5,0.8,0.9,1, 10, 100, 500]}\n",
    "svr_cv_model = GridSearchCV(svr_model, svr_params, cv = 10, n_jobs = -1, verbose =  2).fit(X_train, y_train)\n",
    "print('Best_params = ',svr_cv_model.best_params_)\n",
    "svr_tuned = SVR(**svr_cv_model.best_params_).fit(X_train, y_train)\n",
    "y_pred = svr_tuned.predict(X_test)\n",
    "SVR_Nlin_RMSE = np.sqrt(mean_squared_error(y_test, y_pred))\n",
    "print('SVR_Nlin_RMSE =',SVR_Nlin_RMSE )"
   ]
  },
  {
   "cell_type": "markdown",
   "metadata": {},
   "source": [
    "# Artificial Neural Network"
   ]
  },
  {
   "cell_type": "code",
   "execution_count": 36,
   "metadata": {},
   "outputs": [
    {
     "data": {
      "text/plain": [
       "487.06948369606187"
      ]
     },
     "execution_count": 36,
     "metadata": {},
     "output_type": "execute_result"
    }
   ],
   "source": [
    "scaler = StandardScaler()\n",
    "scaler.fit(X_train)\n",
    "X_train_scaled = scaler.transform(X_train)\n",
    "scaler.fit(X_test)\n",
    "X_test_scaled = scaler.transform(X_test)\n",
    "mlp_model = MLPRegressor().fit(X_train_scaled, y_train)\n",
    "y_pred = mlp_model.predict(X_test_scaled)\n",
    "np.sqrt(mean_squared_error(y_test, y_pred))"
   ]
  },
  {
   "cell_type": "markdown",
   "metadata": {},
   "source": [
    "### Model Tuning"
   ]
  },
  {
   "cell_type": "code",
   "execution_count": 37,
   "metadata": {},
   "outputs": [
    {
     "name": "stdout",
     "output_type": "stream",
     "text": [
      "Fitting 10 folds for each of 20 candidates, totalling 200 fits\n"
     ]
    },
    {
     "name": "stderr",
     "output_type": "stream",
     "text": [
      "[Parallel(n_jobs=-1)]: Using backend LokyBackend with 4 concurrent workers.\n",
      "[Parallel(n_jobs=-1)]: Done  33 tasks      | elapsed:   11.0s\n",
      "[Parallel(n_jobs=-1)]: Done 154 tasks      | elapsed:  1.1min\n",
      "[Parallel(n_jobs=-1)]: Done 200 out of 200 | elapsed:  1.5min finished\n"
     ]
    },
    {
     "name": "stdout",
     "output_type": "stream",
     "text": [
      "Best_params=  {'alpha': 0.02, 'hidden_layer_sizes': (1000, 100, 10)}\n",
      "RMSE Tuned=  288.98072951369136\n"
     ]
    }
   ],
   "source": [
    "mlp_params = {\"alpha\": [0.1, 0.01, 0.02, 0.001, 0.0001], \n",
    "             \"hidden_layer_sizes\": [(10,20), (5,5), (100,100), (1000,100,10)]}\n",
    "mlp_cv_model = GridSearchCV(mlp_model, mlp_params, cv = 10, verbose = 2, n_jobs = -1).fit(X_train_scaled, y_train)\n",
    "print('Best_params= ', mlp_cv_model.best_params_)\n",
    "\n",
    "mlp_tuned = MLPRegressor(**mlp_cv_model.best_params_).fit(X_train_scaled, y_train)\n",
    "y_pred = mlp_tuned.predict(X_test_scaled)\n",
    "print('RMSE Tuned= ', np.sqrt(mean_squared_error(y_test, y_pred)))"
   ]
  },
  {
   "cell_type": "markdown",
   "metadata": {},
   "source": [
    "# CART"
   ]
  },
  {
   "cell_type": "code",
   "execution_count": 38,
   "metadata": {},
   "outputs": [
    {
     "data": {
      "text/plain": [
       "313.9691434089746"
      ]
     },
     "execution_count": 38,
     "metadata": {},
     "output_type": "execute_result"
    }
   ],
   "source": [
    "cart_model = DecisionTreeRegressor(random_state = 52)\n",
    "cart_model.fit(X_train, y_train)\n",
    "y_pred = cart_model.predict(X_test)\n",
    "CaRT_RMSE = np.sqrt(mean_squared_error(y_test, y_pred))\n",
    "print('CaRT_RMSE=',CaRT_RMSE)"
   ]
  },
  {
   "cell_type": "markdown",
   "metadata": {},
   "source": [
    "### Model Tuning"
   ]
  },
  {
   "cell_type": "code",
   "execution_count": 39,
   "metadata": {},
   "outputs": [
    {
     "name": "stdout",
     "output_type": "stream",
     "text": [
      "Best_params=  {'max_depth': 10, 'min_samples_split': 50}\n",
      "CART_RMSE =  245.17542146298243\n"
     ]
    }
   ],
   "source": [
    "cart_params = {\"max_depth\": [2,3,4,5,10,20, 100],\n",
    "              \"min_samples_split\": [2,10,5,30,50,10]}\n",
    "cart_model = DecisionTreeRegressor()\n",
    "cart_cv_model = GridSearchCV(cart_model, cart_params, cv = 10).fit(X_train, y_train)\n",
    "print('Best_params= ', cart_cv_model.best_params_)\n",
    "\n",
    "cart_tuned = DecisionTreeRegressor(**cart_cv_model.best_params_).fit(X_train, y_train)\n",
    "y_pred = cart_tuned.predict(X_test)\n",
    "CART_RMSE = np.sqrt(mean_squared_error(y_test, y_pred))\n",
    "print('CART_RMSE = ', CART_RMSE)"
   ]
  },
  {
   "cell_type": "code",
   "execution_count": 40,
   "metadata": {
    "collapsed": true,
    "jupyter": {
     "outputs_hidden": true
    }
   },
   "outputs": [
    {
     "name": "stdout",
     "output_type": "stream",
     "text": [
      "Collecting astor\n",
      "  Downloading astor-0.8.1-py2.py3-none-any.whl (27 kB)\n",
      "Installing collected packages: astor\n",
      "Successfully installed astor-0.8.1\n"
     ]
    }
   ],
   "source": [
    "!pip install astor"
   ]
  },
  {
   "cell_type": "code",
   "execution_count": 41,
   "metadata": {
    "collapsed": true,
    "jupyter": {
     "outputs_hidden": true
    }
   },
   "outputs": [
    {
     "name": "stdout",
     "output_type": "stream",
     "text": [
      "Collecting skompiler\n",
      "  Downloading SKompiler-0.5.5.tar.gz (48 kB)\n",
      "\u001b[K     |████████████████████████████████| 48 kB 2.3 MB/s eta 0:00:011\n",
      "\u001b[?25hRequirement already satisfied: scikit-learn in /opt/conda/lib/python3.7/site-packages (from skompiler) (0.23.1)\n",
      "Requirement already satisfied: scipy>=0.19.1 in /opt/conda/lib/python3.7/site-packages (from scikit-learn->skompiler) (1.4.1)\n",
      "Requirement already satisfied: threadpoolctl>=2.0.0 in /opt/conda/lib/python3.7/site-packages (from scikit-learn->skompiler) (2.1.0)\n",
      "Requirement already satisfied: numpy>=1.13.3 in /opt/conda/lib/python3.7/site-packages (from scikit-learn->skompiler) (1.18.5)\n",
      "Requirement already satisfied: joblib>=0.11 in /opt/conda/lib/python3.7/site-packages (from scikit-learn->skompiler) (0.14.1)\n",
      "Building wheels for collected packages: skompiler\n",
      "  Building wheel for skompiler (setup.py) ... \u001b[?25ldone\n",
      "\u001b[?25h  Created wheel for skompiler: filename=SKompiler-0.5.5-py3-none-any.whl size=57146 sha256=fed216cefb508dc42d178b4dd5ca9d08ef209007f24d60d30e71993680590d41\n",
      "  Stored in directory: /root/.cache/pip/wheels/1f/f6/09/b8aec43d39ab30463488d91526f29ba56155a6a6d61cf69986\n",
      "Successfully built skompiler\n",
      "Installing collected packages: skompiler\n",
      "Successfully installed skompiler-0.5.5\n",
      "(((360.37539285714286 if x[4] <= -1.1659282445907593 else 135.8627280844156 if\n",
      "    x[8] <= -0.8063557744026184 else 223.48363744588744) if x[7] <= \n",
      "    -0.7561601102352142 else 342.01461980749735) if x[8] <= \n",
      "    -0.37298598885536194 else ((435.3433576388888 if x[1] <= \n",
      "    0.09821474179625511 else 636.4550029761905) if x[13] <= \n",
      "    0.6543328166007996 else 693.3300029761904) if x[0] <= \n",
      "    0.3030090183019638 else 641.1112019047619 if x[11] <= \n",
      "    0.06745642423629761 else 872.7266596320346)\n",
      "\n"
     ]
    }
   ],
   "source": [
    "!pip install skompiler\n",
    "from skompiler import skompile\n",
    "print(skompile(cart_tuned.predict).to('python/code'))"
   ]
  },
  {
   "cell_type": "markdown",
   "metadata": {},
   "source": [
    "# Random Forests"
   ]
  },
  {
   "cell_type": "code",
   "execution_count": 42,
   "metadata": {},
   "outputs": [
    {
     "data": {
      "text/plain": [
       "235.95367951298022"
      ]
     },
     "execution_count": 42,
     "metadata": {},
     "output_type": "execute_result"
    }
   ],
   "source": [
    "rf_model = RandomForestRegressor(random_state = 42).fit(X_train, y_train)\n",
    "y_pred = rf_model.predict(X_test)\n",
    "Rf_RMSE = np.sqrt(mean_squared_error(y_test, y_pred))\n",
    "print(\"Rf_RMSE=\",Rf_RMSE)"
   ]
  },
  {
   "cell_type": "markdown",
   "metadata": {},
   "source": [
    "### Model Tuning"
   ]
  },
  {
   "cell_type": "code",
   "execution_count": 43,
   "metadata": {},
   "outputs": [
    {
     "name": "stdout",
     "output_type": "stream",
     "text": [
      "Fitting 10 folds for each of 300 candidates, totalling 3000 fits\n"
     ]
    },
    {
     "name": "stderr",
     "output_type": "stream",
     "text": [
      "[Parallel(n_jobs=-1)]: Using backend LokyBackend with 4 concurrent workers.\n",
      "[Parallel(n_jobs=-1)]: Done  33 tasks      | elapsed:    9.8s\n",
      "[Parallel(n_jobs=-1)]: Done 154 tasks      | elapsed:   51.6s\n",
      "[Parallel(n_jobs=-1)]: Done 357 tasks      | elapsed:  2.2min\n",
      "[Parallel(n_jobs=-1)]: Done 640 tasks      | elapsed:  3.9min\n",
      "[Parallel(n_jobs=-1)]: Done 1005 tasks      | elapsed:  5.6min\n",
      "[Parallel(n_jobs=-1)]: Done 1450 tasks      | elapsed:  8.3min\n",
      "[Parallel(n_jobs=-1)]: Done 1977 tasks      | elapsed: 11.5min\n",
      "[Parallel(n_jobs=-1)]: Done 2584 tasks      | elapsed: 14.8min\n",
      "[Parallel(n_jobs=-1)]: Done 3000 out of 3000 | elapsed: 17.1min finished\n"
     ]
    },
    {
     "name": "stdout",
     "output_type": "stream",
     "text": [
      "Best_params=  {'max_depth': 5, 'max_features': 2, 'min_samples_split': 10, 'n_estimators': 100}\n",
      "RF_RMSE= 232.99985730855113\n"
     ]
    }
   ],
   "source": [
    "rf_params = {\"max_depth\": [5,8,10,None],\n",
    "            \"max_features\": [2,5,10,15,17],\n",
    "            \"n_estimators\": [100,200, 1000],\n",
    "            \"min_samples_split\": [2,5,10,20,30]}\n",
    "\n",
    "rf_cv_model = GridSearchCV(rf_model, rf_params, cv = 10, n_jobs = -1, verbose = 2).fit(X_train, y_train)\n",
    "print('Best_params= ', rf_cv_model.best_params_)\n",
    "\n",
    "rf_tuned = RandomForestRegressor(**rf_cv_model.best_params_).fit(X_train, y_train)\n",
    "y_pred = rf_tuned.predict(X_test)\n",
    "RF_RMSE = np.sqrt(mean_squared_error(y_test, y_pred))\n",
    "print('RF_RMSE=',RF_RMSE)\n"
   ]
  },
  {
   "cell_type": "markdown",
   "metadata": {},
   "source": [
    "# GBM"
   ]
  },
  {
   "cell_type": "code",
   "execution_count": 44,
   "metadata": {},
   "outputs": [
    {
     "data": {
      "text/plain": [
       "249.39394068659578"
      ]
     },
     "execution_count": 44,
     "metadata": {},
     "output_type": "execute_result"
    }
   ],
   "source": [
    "gbm_model = GradientBoostingRegressor().fit(X_train, y_train)\n",
    "y_pred = gbm_model.predict(X_test)\n",
    "Gbm_RMSE = np.sqrt(mean_squared_error(y_test, y_pred))\n",
    "print('Gbm_RMSE=',Gbm_RMSE)"
   ]
  },
  {
   "cell_type": "markdown",
   "metadata": {},
   "source": [
    "### Model Tuning"
   ]
  },
  {
   "cell_type": "code",
   "execution_count": 45,
   "metadata": {},
   "outputs": [
    {
     "name": "stdout",
     "output_type": "stream",
     "text": [
      "Fitting 10 folds for each of 432 candidates, totalling 4320 fits\n"
     ]
    },
    {
     "name": "stderr",
     "output_type": "stream",
     "text": [
      "[Parallel(n_jobs=-1)]: Using backend LokyBackend with 4 concurrent workers.\n",
      "[Parallel(n_jobs=-1)]: Done  33 tasks      | elapsed:    1.7s\n",
      "[Parallel(n_jobs=-1)]: Done 154 tasks      | elapsed:   16.0s\n",
      "[Parallel(n_jobs=-1)]: Done 357 tasks      | elapsed:   59.0s\n",
      "[Parallel(n_jobs=-1)]: Done 640 tasks      | elapsed:  2.1min\n",
      "[Parallel(n_jobs=-1)]: Done 1005 tasks      | elapsed:  6.0min\n",
      "[Parallel(n_jobs=-1)]: Done 1450 tasks      | elapsed:  9.5min\n",
      "[Parallel(n_jobs=-1)]: Done 1977 tasks      | elapsed: 11.1min\n",
      "[Parallel(n_jobs=-1)]: Done 2584 tasks      | elapsed: 16.3min\n",
      "[Parallel(n_jobs=-1)]: Done 3273 tasks      | elapsed: 20.1min\n",
      "[Parallel(n_jobs=-1)]: Done 4042 tasks      | elapsed: 25.8min\n",
      "[Parallel(n_jobs=-1)]: Done 4320 out of 4320 | elapsed: 28.7min finished\n"
     ]
    },
    {
     "name": "stdout",
     "output_type": "stream",
     "text": [
      "Best_params =  {'learning_rate': 0.05, 'loss': 'lad', 'max_depth': 3, 'n_estimators': 200, 'subsample': 1}\n",
      "GBM_RMSE= 226.5413610127587\n"
     ]
    }
   ],
   "source": [
    "gbm_params = {\"learning_rate\": [0.1,0.01, 0.05],\n",
    "             \"max_depth\": [3,5,8,9],\n",
    "             \"n_estimators\": [100,200,500],\n",
    "             \"subsample\": [1,0.4,0.5,0.7],\n",
    "             \"loss\": [\"ls\",\"lad\",\"quantile\"]}\n",
    "\n",
    "gbm_model = GradientBoostingRegressor().fit(X_train, y_train)\n",
    "gbm_cv_model = GridSearchCV(gbm_model, \n",
    "                            gbm_params, \n",
    "                            cv = 10, \n",
    "                            n_jobs=-1, \n",
    "                            verbose = 2).fit(X, y)\n",
    "print('Best_params = ', gbm_cv_model.best_params_)\n",
    "\n",
    "gbm_tuned = GradientBoostingRegressor(**gbm_cv_model.best_params_).fit(X_train, y_train)\n",
    "y_pred = gbm_tuned.predict(X_test)\n",
    "GBM_RMSE = np.sqrt(mean_squared_error(y_test, y_pred))\n",
    "print('GBM_RMSE=',GBM_RMSE )"
   ]
  },
  {
   "cell_type": "markdown",
   "metadata": {},
   "source": [
    "# XGBoost"
   ]
  },
  {
   "cell_type": "code",
   "execution_count": 46,
   "metadata": {},
   "outputs": [
    {
     "name": "stdout",
     "output_type": "stream",
     "text": [
      "Requirement already satisfied: xgboost in /opt/conda/lib/python3.7/site-packages (1.1.1)\n",
      "Requirement already satisfied: numpy in /opt/conda/lib/python3.7/site-packages (from xgboost) (1.18.5)\n",
      "Requirement already satisfied: scipy in /opt/conda/lib/python3.7/site-packages (from xgboost) (1.4.1)\n"
     ]
    }
   ],
   "source": [
    "!pip install xgboost"
   ]
  },
  {
   "cell_type": "code",
   "execution_count": 47,
   "metadata": {},
   "outputs": [],
   "source": [
    "import xgboost\n",
    "from xgboost import XGBRegressor"
   ]
  },
  {
   "cell_type": "code",
   "execution_count": 48,
   "metadata": {},
   "outputs": [
    {
     "data": {
      "text/plain": [
       "256.143188231288"
      ]
     },
     "execution_count": 48,
     "metadata": {},
     "output_type": "execute_result"
    }
   ],
   "source": [
    "xgb = XGBRegressor().fit(X_train, y_train)\n",
    "y_pred = xgb.predict(X_test)\n",
    "XgBoost_GBM = np.sqrt(mean_squared_error(y_test, y_pred))\n",
    "print('XgBoost_GBM =',XgBoost_GBM )"
   ]
  },
  {
   "cell_type": "markdown",
   "metadata": {},
   "source": [
    "### Model Tuning"
   ]
  },
  {
   "cell_type": "code",
   "execution_count": 49,
   "metadata": {},
   "outputs": [
    {
     "name": "stdout",
     "output_type": "stream",
     "text": [
      "Fitting 10 folds for each of 135 candidates, totalling 1350 fits\n"
     ]
    },
    {
     "name": "stderr",
     "output_type": "stream",
     "text": [
      "[Parallel(n_jobs=-1)]: Using backend LokyBackend with 4 concurrent workers.\n",
      "[Parallel(n_jobs=-1)]: Done  38 tasks      | elapsed:    1.8s\n",
      "[Parallel(n_jobs=-1)]: Done 280 tasks      | elapsed:    9.7s\n",
      "[Parallel(n_jobs=-1)]: Done 686 tasks      | elapsed:   24.0s\n",
      "[Parallel(n_jobs=-1)]: Done 1252 tasks      | elapsed:   51.9s\n"
     ]
    },
    {
     "name": "stdout",
     "output_type": "stream",
     "text": [
      "Best_params=  {'colsample_bytree': 0.4, 'learning_rate': 0.01, 'max_depth': 2, 'n_estimators': 500}\n",
      "XGBoost_GBM  =  244.64090187270332\n"
     ]
    },
    {
     "name": "stderr",
     "output_type": "stream",
     "text": [
      "[Parallel(n_jobs=-1)]: Done 1350 out of 1350 | elapsed:   55.6s finished\n"
     ]
    }
   ],
   "source": [
    "xgb_params = {\"learning_rate\": [0.1,0.01,0.5],\n",
    "             \"max_depth\": [2,3,4,5,8],\n",
    "             \"n_estimators\": [100,200,500],\n",
    "             \"colsample_bytree\": [0.4,0.7,1]}\n",
    "xgb_cv_model  = GridSearchCV(xgb,xgb_params, cv = 10, n_jobs = -1, verbose = 2).fit(X_train, y_train)\n",
    "print('Best_params= ', xgb_cv_model.best_params_)\n",
    "\n",
    "xgb_tuned = XGBRegressor(**xgb_cv_model.best_params_).fit(X_train, y_train)\n",
    "y_pred = xgb_tuned.predict(X_test)\n",
    "XGBoost_GBM = np.sqrt(mean_squared_error(y_test, y_pred)) \n",
    "print('XGBoost_GBM  = ', XGBoost_GBM )"
   ]
  },
  {
   "cell_type": "markdown",
   "metadata": {},
   "source": [
    "# LightGBM"
   ]
  },
  {
   "cell_type": "code",
   "execution_count": 50,
   "metadata": {},
   "outputs": [
    {
     "name": "stdout",
     "output_type": "stream",
     "text": [
      "Requirement already satisfied: lightgbm in /opt/conda/lib/python3.7/site-packages (2.3.1)\n",
      "Requirement already satisfied: numpy in /opt/conda/lib/python3.7/site-packages (from lightgbm) (1.18.5)\n",
      "Requirement already satisfied: scikit-learn in /opt/conda/lib/python3.7/site-packages (from lightgbm) (0.23.1)\n",
      "Requirement already satisfied: scipy in /opt/conda/lib/python3.7/site-packages (from lightgbm) (1.4.1)\n",
      "Requirement already satisfied: threadpoolctl>=2.0.0 in /opt/conda/lib/python3.7/site-packages (from scikit-learn->lightgbm) (2.1.0)\n",
      "Requirement already satisfied: joblib>=0.11 in /opt/conda/lib/python3.7/site-packages (from scikit-learn->lightgbm) (0.14.1)\n"
     ]
    }
   ],
   "source": [
    "!pip install lightgbm\n",
    "#conda install -c conda-forge lightgbm"
   ]
  },
  {
   "cell_type": "code",
   "execution_count": 51,
   "metadata": {},
   "outputs": [],
   "source": [
    "from lightgbm import LGBMRegressor"
   ]
  },
  {
   "cell_type": "code",
   "execution_count": 52,
   "metadata": {},
   "outputs": [
    {
     "data": {
      "text/plain": [
       "259.9034266406011"
      ]
     },
     "execution_count": 52,
     "metadata": {},
     "output_type": "execute_result"
    }
   ],
   "source": [
    "lgb_model = LGBMRegressor().fit(X_train, y_train)\n",
    "y_pred = lgb_model.predict(X_test)\n",
    "LightGbm_RMSE = np.sqrt(mean_squared_error(y_test, y_pred))\n",
    "print('LightGbm_RMSE=',LightGbm_RMSE)"
   ]
  },
  {
   "cell_type": "markdown",
   "metadata": {},
   "source": [
    "### Model Tuning"
   ]
  },
  {
   "cell_type": "code",
   "execution_count": 53,
   "metadata": {},
   "outputs": [
    {
     "name": "stdout",
     "output_type": "stream",
     "text": [
      "Fitting 10 folds for each of 300 candidates, totalling 3000 fits\n"
     ]
    },
    {
     "name": "stderr",
     "output_type": "stream",
     "text": [
      "[Parallel(n_jobs=-1)]: Using backend LokyBackend with 4 concurrent workers.\n",
      "[Parallel(n_jobs=-1)]: Done  92 tasks      | elapsed:    4.8s\n",
      "[Parallel(n_jobs=-1)]: Done 270 tasks      | elapsed:   14.9s\n",
      "[Parallel(n_jobs=-1)]: Done 473 tasks      | elapsed:   26.2s\n",
      "[Parallel(n_jobs=-1)]: Done 756 tasks      | elapsed:   43.8s\n",
      "[Parallel(n_jobs=-1)]: Done 1121 tasks      | elapsed:  1.0min\n",
      "[Parallel(n_jobs=-1)]: Done 1584 tasks      | elapsed:  1.4min\n",
      "[Parallel(n_jobs=-1)]: Done 2638 tasks      | elapsed:  2.2min\n",
      "[Parallel(n_jobs=-1)]: Done 2993 out of 3000 | elapsed:  2.4min remaining:    0.3s\n"
     ]
    },
    {
     "name": "stdout",
     "output_type": "stream",
     "text": [
      "Best_params=  {'colsample_bytree': 0.5, 'learning_rate': 0.1, 'max_depth': 2, 'n_estimators': 200}\n",
      "LightGBM_RMSE =  262.3245594032137\n"
     ]
    },
    {
     "name": "stderr",
     "output_type": "stream",
     "text": [
      "[Parallel(n_jobs=-1)]: Done 3000 out of 3000 | elapsed:  2.4min finished\n"
     ]
    }
   ],
   "source": [
    "lgb_model = LGBMRegressor()\n",
    "lgbm_params = {\"learning_rate\": [0.01,0.001, 0.1, 0.5, 1],\n",
    "              \"n_estimators\": [200,500,1000],\n",
    "              \"max_depth\": [2,4,6,7,10],\n",
    "              \"colsample_bytree\": [1,0.8,0.5,0.4]}\n",
    "lgbm_cv_model = GridSearchCV(lgb_model, \n",
    "                             lgbm_params, \n",
    "                             cv = 10, \n",
    "                             n_jobs = -1, \n",
    "                             verbose =2).fit(X_train, y_train)\n",
    "print('Best_params= ', lgbm_cv_model.best_params_)\n",
    "\n",
    "lgbm_tuned = LGBMRegressor(**lgbm_cv_model.best_params_).fit(X_train, y_train)\n",
    "y_pred = lgbm_tuned.predict(X_test)\n",
    "LightGBM_RMSE = np.sqrt(mean_squared_error(y_test, y_pred))\n",
    "print('LightGBM_RMSE = ',LightGBM_RMSE)"
   ]
  },
  {
   "cell_type": "markdown",
   "metadata": {},
   "source": [
    "# CatBoost"
   ]
  },
  {
   "cell_type": "code",
   "execution_count": 54,
   "metadata": {},
   "outputs": [
    {
     "name": "stdout",
     "output_type": "stream",
     "text": [
      "Requirement already satisfied: catboost in /opt/conda/lib/python3.7/site-packages (0.23.2)\n",
      "Requirement already satisfied: six in /opt/conda/lib/python3.7/site-packages (from catboost) (1.14.0)\n",
      "Requirement already satisfied: matplotlib in /opt/conda/lib/python3.7/site-packages (from catboost) (3.2.1)\n",
      "Requirement already satisfied: pandas>=0.24.0 in /opt/conda/lib/python3.7/site-packages (from catboost) (1.0.3)\n",
      "Requirement already satisfied: graphviz in /opt/conda/lib/python3.7/site-packages (from catboost) (0.8.4)\n",
      "Requirement already satisfied: scipy in /opt/conda/lib/python3.7/site-packages (from catboost) (1.4.1)\n",
      "Requirement already satisfied: numpy>=1.16.0 in /opt/conda/lib/python3.7/site-packages (from catboost) (1.18.5)\n",
      "Requirement already satisfied: plotly in /opt/conda/lib/python3.7/site-packages (from catboost) (4.8.1)\n",
      "Requirement already satisfied: python-dateutil>=2.1 in /opt/conda/lib/python3.7/site-packages (from matplotlib->catboost) (2.8.1)\n",
      "Requirement already satisfied: pyparsing!=2.0.4,!=2.1.2,!=2.1.6,>=2.0.1 in /opt/conda/lib/python3.7/site-packages (from matplotlib->catboost) (2.4.7)\n",
      "Requirement already satisfied: kiwisolver>=1.0.1 in /opt/conda/lib/python3.7/site-packages (from matplotlib->catboost) (1.2.0)\n",
      "Requirement already satisfied: cycler>=0.10 in /opt/conda/lib/python3.7/site-packages (from matplotlib->catboost) (0.10.0)\n",
      "Requirement already satisfied: pytz>=2017.2 in /opt/conda/lib/python3.7/site-packages (from pandas>=0.24.0->catboost) (2019.3)\n",
      "Requirement already satisfied: retrying>=1.3.3 in /opt/conda/lib/python3.7/site-packages (from plotly->catboost) (1.3.3)\n"
     ]
    }
   ],
   "source": [
    "!pip install catboost\n"
   ]
  },
  {
   "cell_type": "code",
   "execution_count": 55,
   "metadata": {},
   "outputs": [],
   "source": [
    "from catboost import CatBoostRegressor"
   ]
  },
  {
   "cell_type": "code",
   "execution_count": 56,
   "metadata": {},
   "outputs": [
    {
     "data": {
      "text/plain": [
       "250.7911912424646"
      ]
     },
     "execution_count": 56,
     "metadata": {},
     "output_type": "execute_result"
    }
   ],
   "source": [
    "catb_model = CatBoostRegressor(verbose = False).fit(X_train, y_train)\n",
    "y_pred = catb_model.predict(X_test)\n",
    "Catb_RMSE = np.sqrt(mean_squared_error(y_test, y_pred))\n",
    "print('Catb_RMSE= ',Catb_RMSE)"
   ]
  },
  {
   "cell_type": "markdown",
   "metadata": {},
   "source": [
    "### Model Tuning"
   ]
  },
  {
   "cell_type": "code",
   "execution_count": 83,
   "metadata": {},
   "outputs": [
    {
     "name": "stdout",
     "output_type": "stream",
     "text": [
      "Fitting 5 folds for each of 27 candidates, totalling 135 fits\n"
     ]
    },
    {
     "name": "stderr",
     "output_type": "stream",
     "text": [
      "[Parallel(n_jobs=-1)]: Using backend LokyBackend with 4 concurrent workers.\n",
      "[Parallel(n_jobs=-1)]: Done  33 tasks      | elapsed:    9.0s\n",
      "[Parallel(n_jobs=-1)]: Done 135 out of 135 | elapsed:  1.3min finished\n"
     ]
    },
    {
     "name": "stdout",
     "output_type": "stream",
     "text": [
      "0:\tlearn: 299.9700850\ttotal: 2.2ms\tremaining: 1.1s\n",
      "1:\tlearn: 298.4515006\ttotal: 4.02ms\tremaining: 1s\n",
      "2:\tlearn: 297.0815577\ttotal: 5.71ms\tremaining: 946ms\n",
      "3:\tlearn: 295.7635800\ttotal: 7.32ms\tremaining: 908ms\n",
      "4:\tlearn: 294.5076990\ttotal: 8.94ms\tremaining: 885ms\n",
      "5:\tlearn: 293.1962219\ttotal: 10.5ms\tremaining: 867ms\n",
      "6:\tlearn: 291.8844628\ttotal: 12.2ms\tremaining: 859ms\n",
      "7:\tlearn: 290.6143753\ttotal: 13.9ms\tremaining: 853ms\n",
      "8:\tlearn: 289.2919179\ttotal: 15.5ms\tremaining: 845ms\n",
      "9:\tlearn: 288.0603640\ttotal: 17.1ms\tremaining: 840ms\n",
      "10:\tlearn: 286.7930702\ttotal: 18.8ms\tremaining: 834ms\n",
      "11:\tlearn: 285.6827288\ttotal: 20.4ms\tremaining: 830ms\n",
      "12:\tlearn: 284.2855000\ttotal: 22.1ms\tremaining: 829ms\n",
      "13:\tlearn: 282.9151253\ttotal: 23.8ms\tremaining: 825ms\n",
      "14:\tlearn: 281.7800652\ttotal: 25.6ms\tremaining: 828ms\n",
      "15:\tlearn: 280.6356752\ttotal: 27.3ms\tremaining: 826ms\n",
      "16:\tlearn: 279.4054972\ttotal: 29ms\tremaining: 823ms\n",
      "17:\tlearn: 278.2616170\ttotal: 30.6ms\tremaining: 819ms\n",
      "18:\tlearn: 277.2103985\ttotal: 32.3ms\tremaining: 817ms\n",
      "19:\tlearn: 276.1053073\ttotal: 33.8ms\tremaining: 812ms\n",
      "20:\tlearn: 274.9797126\ttotal: 35.5ms\tremaining: 809ms\n",
      "21:\tlearn: 273.9391888\ttotal: 37.1ms\tremaining: 806ms\n",
      "22:\tlearn: 272.9371704\ttotal: 38.8ms\tremaining: 804ms\n",
      "23:\tlearn: 271.7816511\ttotal: 40.4ms\tremaining: 802ms\n",
      "24:\tlearn: 270.7049606\ttotal: 42.1ms\tremaining: 799ms\n",
      "25:\tlearn: 269.5437525\ttotal: 43.7ms\tremaining: 797ms\n",
      "26:\tlearn: 268.4842757\ttotal: 45.4ms\tremaining: 796ms\n",
      "27:\tlearn: 267.3707520\ttotal: 47.1ms\tremaining: 794ms\n",
      "28:\tlearn: 266.2483290\ttotal: 48.7ms\tremaining: 792ms\n",
      "29:\tlearn: 265.2035433\ttotal: 50.4ms\tremaining: 790ms\n",
      "30:\tlearn: 264.2342764\ttotal: 52.2ms\tremaining: 789ms\n",
      "31:\tlearn: 263.1537556\ttotal: 53.8ms\tremaining: 787ms\n",
      "32:\tlearn: 262.2169630\ttotal: 55.4ms\tremaining: 784ms\n",
      "33:\tlearn: 261.3002752\ttotal: 57ms\tremaining: 781ms\n",
      "34:\tlearn: 260.3037211\ttotal: 58.7ms\tremaining: 780ms\n",
      "35:\tlearn: 259.3378452\ttotal: 60.4ms\tremaining: 778ms\n",
      "36:\tlearn: 258.4158818\ttotal: 62ms\tremaining: 776ms\n",
      "37:\tlearn: 257.4227872\ttotal: 63.7ms\tremaining: 774ms\n",
      "38:\tlearn: 256.4955233\ttotal: 65.3ms\tremaining: 772ms\n",
      "39:\tlearn: 255.5960232\ttotal: 66.9ms\tremaining: 770ms\n",
      "40:\tlearn: 254.6606737\ttotal: 68.5ms\tremaining: 767ms\n",
      "41:\tlearn: 253.7010873\ttotal: 70.2ms\tremaining: 765ms\n",
      "42:\tlearn: 252.7149546\ttotal: 71.8ms\tremaining: 763ms\n",
      "43:\tlearn: 251.8210970\ttotal: 73.4ms\tremaining: 761ms\n",
      "44:\tlearn: 250.8339971\ttotal: 75ms\tremaining: 759ms\n",
      "45:\tlearn: 249.9825191\ttotal: 76.6ms\tremaining: 756ms\n",
      "46:\tlearn: 249.1708911\ttotal: 78.2ms\tremaining: 754ms\n",
      "47:\tlearn: 248.2853051\ttotal: 79.8ms\tremaining: 751ms\n",
      "48:\tlearn: 247.5315561\ttotal: 81.4ms\tremaining: 749ms\n",
      "49:\tlearn: 246.6309135\ttotal: 83ms\tremaining: 747ms\n",
      "50:\tlearn: 245.8105996\ttotal: 84.5ms\tremaining: 744ms\n",
      "51:\tlearn: 245.0454747\ttotal: 86.2ms\tremaining: 743ms\n",
      "52:\tlearn: 244.1430763\ttotal: 88.4ms\tremaining: 746ms\n",
      "53:\tlearn: 243.3314895\ttotal: 90ms\tremaining: 743ms\n",
      "54:\tlearn: 242.5465901\ttotal: 91.6ms\tremaining: 741ms\n",
      "55:\tlearn: 241.7888085\ttotal: 93.2ms\tremaining: 739ms\n",
      "56:\tlearn: 240.9613339\ttotal: 94.8ms\tremaining: 737ms\n",
      "57:\tlearn: 240.2085996\ttotal: 96.4ms\tremaining: 734ms\n",
      "58:\tlearn: 239.4075331\ttotal: 98ms\tremaining: 733ms\n",
      "59:\tlearn: 238.6363488\ttotal: 99.6ms\tremaining: 730ms\n",
      "60:\tlearn: 238.0176178\ttotal: 101ms\tremaining: 728ms\n",
      "61:\tlearn: 237.2866222\ttotal: 103ms\tremaining: 726ms\n",
      "62:\tlearn: 236.5218183\ttotal: 104ms\tremaining: 725ms\n",
      "63:\tlearn: 235.7520321\ttotal: 106ms\tremaining: 723ms\n",
      "64:\tlearn: 235.0350181\ttotal: 108ms\tremaining: 721ms\n",
      "65:\tlearn: 234.3131810\ttotal: 109ms\tremaining: 719ms\n",
      "66:\tlearn: 233.6478319\ttotal: 111ms\tremaining: 718ms\n",
      "67:\tlearn: 232.9321414\ttotal: 113ms\tremaining: 716ms\n",
      "68:\tlearn: 232.1808005\ttotal: 114ms\tremaining: 714ms\n",
      "69:\tlearn: 231.5255161\ttotal: 116ms\tremaining: 712ms\n",
      "70:\tlearn: 230.9770988\ttotal: 117ms\tremaining: 704ms\n",
      "71:\tlearn: 230.2563233\ttotal: 118ms\tremaining: 702ms\n",
      "72:\tlearn: 229.4979261\ttotal: 120ms\tremaining: 701ms\n",
      "73:\tlearn: 228.7328329\ttotal: 122ms\tremaining: 700ms\n",
      "74:\tlearn: 228.0731990\ttotal: 123ms\tremaining: 698ms\n",
      "75:\tlearn: 227.4173857\ttotal: 125ms\tremaining: 697ms\n",
      "76:\tlearn: 226.7141223\ttotal: 127ms\tremaining: 695ms\n",
      "77:\tlearn: 226.1528677\ttotal: 128ms\tremaining: 693ms\n",
      "78:\tlearn: 225.4818341\ttotal: 130ms\tremaining: 692ms\n",
      "79:\tlearn: 224.7894020\ttotal: 131ms\tremaining: 690ms\n",
      "80:\tlearn: 224.0514731\ttotal: 133ms\tremaining: 688ms\n",
      "81:\tlearn: 223.5189402\ttotal: 135ms\tremaining: 687ms\n",
      "82:\tlearn: 222.9608147\ttotal: 136ms\tremaining: 685ms\n",
      "83:\tlearn: 222.3164349\ttotal: 138ms\tremaining: 683ms\n",
      "84:\tlearn: 221.7358496\ttotal: 140ms\tremaining: 681ms\n",
      "85:\tlearn: 221.1266271\ttotal: 141ms\tremaining: 680ms\n",
      "86:\tlearn: 220.4644947\ttotal: 143ms\tremaining: 678ms\n",
      "87:\tlearn: 219.7907249\ttotal: 144ms\tremaining: 676ms\n",
      "88:\tlearn: 219.1880444\ttotal: 146ms\tremaining: 675ms\n",
      "89:\tlearn: 218.6186027\ttotal: 148ms\tremaining: 673ms\n",
      "90:\tlearn: 218.0642856\ttotal: 149ms\tremaining: 671ms\n",
      "91:\tlearn: 217.5247123\ttotal: 151ms\tremaining: 669ms\n",
      "92:\tlearn: 216.9301555\ttotal: 153ms\tremaining: 668ms\n",
      "93:\tlearn: 216.4464451\ttotal: 154ms\tremaining: 666ms\n",
      "94:\tlearn: 215.8129354\ttotal: 156ms\tremaining: 665ms\n",
      "95:\tlearn: 215.1830231\ttotal: 158ms\tremaining: 663ms\n",
      "96:\tlearn: 214.6433117\ttotal: 160ms\tremaining: 664ms\n",
      "97:\tlearn: 214.1171153\ttotal: 162ms\tremaining: 665ms\n",
      "98:\tlearn: 213.5700301\ttotal: 164ms\tremaining: 663ms\n",
      "99:\tlearn: 213.0224865\ttotal: 165ms\tremaining: 662ms\n",
      "100:\tlearn: 212.4255463\ttotal: 167ms\tremaining: 660ms\n",
      "101:\tlearn: 211.8386695\ttotal: 169ms\tremaining: 658ms\n",
      "102:\tlearn: 211.2979448\ttotal: 170ms\tremaining: 657ms\n",
      "103:\tlearn: 210.7903606\ttotal: 172ms\tremaining: 655ms\n",
      "104:\tlearn: 210.2010792\ttotal: 174ms\tremaining: 653ms\n",
      "105:\tlearn: 209.7111407\ttotal: 176ms\tremaining: 653ms\n",
      "106:\tlearn: 209.2336564\ttotal: 178ms\tremaining: 653ms\n",
      "107:\tlearn: 208.7889413\ttotal: 180ms\tremaining: 652ms\n",
      "108:\tlearn: 208.3320076\ttotal: 181ms\tremaining: 650ms\n",
      "109:\tlearn: 207.7483130\ttotal: 183ms\tremaining: 649ms\n",
      "110:\tlearn: 207.2433032\ttotal: 185ms\tremaining: 647ms\n",
      "111:\tlearn: 206.6708371\ttotal: 186ms\tremaining: 646ms\n",
      "112:\tlearn: 206.1446593\ttotal: 188ms\tremaining: 644ms\n",
      "113:\tlearn: 205.6534810\ttotal: 191ms\tremaining: 647ms\n",
      "114:\tlearn: 205.1828695\ttotal: 193ms\tremaining: 647ms\n",
      "115:\tlearn: 204.7829689\ttotal: 195ms\tremaining: 645ms\n",
      "116:\tlearn: 204.3068991\ttotal: 196ms\tremaining: 643ms\n",
      "117:\tlearn: 203.8511700\ttotal: 198ms\tremaining: 641ms\n",
      "118:\tlearn: 203.3871985\ttotal: 200ms\tremaining: 640ms\n",
      "119:\tlearn: 202.9057797\ttotal: 201ms\tremaining: 638ms\n",
      "120:\tlearn: 202.4263079\ttotal: 203ms\tremaining: 636ms\n",
      "121:\tlearn: 201.9450124\ttotal: 205ms\tremaining: 634ms\n",
      "122:\tlearn: 201.5454734\ttotal: 206ms\tremaining: 633ms\n",
      "123:\tlearn: 201.0427844\ttotal: 208ms\tremaining: 631ms\n",
      "124:\tlearn: 200.6457632\ttotal: 210ms\tremaining: 629ms\n",
      "125:\tlearn: 200.2398396\ttotal: 211ms\tremaining: 627ms\n",
      "126:\tlearn: 199.8723799\ttotal: 213ms\tremaining: 626ms\n",
      "127:\tlearn: 199.4575979\ttotal: 215ms\tremaining: 624ms\n",
      "128:\tlearn: 198.9960259\ttotal: 217ms\tremaining: 623ms\n",
      "129:\tlearn: 198.5719765\ttotal: 218ms\tremaining: 621ms\n",
      "130:\tlearn: 198.1471878\ttotal: 220ms\tremaining: 620ms\n",
      "131:\tlearn: 197.7525949\ttotal: 222ms\tremaining: 618ms\n",
      "132:\tlearn: 197.4298718\ttotal: 223ms\tremaining: 616ms\n",
      "133:\tlearn: 197.0894865\ttotal: 225ms\tremaining: 615ms\n",
      "134:\tlearn: 196.7079760\ttotal: 227ms\tremaining: 613ms\n",
      "135:\tlearn: 196.3590332\ttotal: 229ms\tremaining: 612ms\n",
      "136:\tlearn: 195.9685692\ttotal: 230ms\tremaining: 610ms\n",
      "137:\tlearn: 195.6009288\ttotal: 232ms\tremaining: 608ms\n",
      "138:\tlearn: 195.2930413\ttotal: 233ms\tremaining: 606ms\n",
      "139:\tlearn: 194.9577798\ttotal: 235ms\tremaining: 604ms\n",
      "140:\tlearn: 194.5577029\ttotal: 237ms\tremaining: 603ms\n",
      "141:\tlearn: 194.1668119\ttotal: 238ms\tremaining: 601ms\n",
      "142:\tlearn: 193.7632844\ttotal: 240ms\tremaining: 599ms\n",
      "143:\tlearn: 193.4783542\ttotal: 242ms\tremaining: 597ms\n",
      "144:\tlearn: 193.0624254\ttotal: 243ms\tremaining: 596ms\n",
      "145:\tlearn: 192.7573920\ttotal: 245ms\tremaining: 594ms\n",
      "146:\tlearn: 192.4270323\ttotal: 247ms\tremaining: 592ms\n",
      "147:\tlearn: 192.1168500\ttotal: 248ms\tremaining: 590ms\n",
      "148:\tlearn: 191.7220206\ttotal: 250ms\tremaining: 589ms\n",
      "149:\tlearn: 191.3825060\ttotal: 252ms\tremaining: 587ms\n",
      "150:\tlearn: 191.0387093\ttotal: 253ms\tremaining: 585ms\n",
      "151:\tlearn: 190.6773576\ttotal: 255ms\tremaining: 583ms\n",
      "152:\tlearn: 190.2806793\ttotal: 256ms\tremaining: 582ms\n",
      "153:\tlearn: 189.9614324\ttotal: 258ms\tremaining: 580ms\n",
      "154:\tlearn: 189.5897696\ttotal: 260ms\tremaining: 578ms\n",
      "155:\tlearn: 189.1684027\ttotal: 261ms\tremaining: 577ms\n",
      "156:\tlearn: 188.7467430\ttotal: 263ms\tremaining: 575ms\n",
      "157:\tlearn: 188.3860982\ttotal: 265ms\tremaining: 573ms\n",
      "158:\tlearn: 188.0146353\ttotal: 267ms\tremaining: 572ms\n",
      "159:\tlearn: 187.7427003\ttotal: 268ms\tremaining: 570ms\n",
      "160:\tlearn: 187.3474608\ttotal: 270ms\tremaining: 568ms\n",
      "161:\tlearn: 187.0119760\ttotal: 272ms\tremaining: 567ms\n",
      "162:\tlearn: 186.6174534\ttotal: 273ms\tremaining: 565ms\n",
      "163:\tlearn: 186.3618950\ttotal: 275ms\tremaining: 563ms\n",
      "164:\tlearn: 186.0048792\ttotal: 277ms\tremaining: 561ms\n",
      "165:\tlearn: 185.6249116\ttotal: 278ms\tremaining: 560ms\n",
      "166:\tlearn: 185.2945572\ttotal: 280ms\tremaining: 558ms\n",
      "167:\tlearn: 185.0190997\ttotal: 282ms\tremaining: 556ms\n",
      "168:\tlearn: 184.7354694\ttotal: 283ms\tremaining: 555ms\n",
      "169:\tlearn: 184.4895944\ttotal: 285ms\tremaining: 553ms\n",
      "170:\tlearn: 184.1092783\ttotal: 286ms\tremaining: 551ms\n",
      "171:\tlearn: 183.7692227\ttotal: 288ms\tremaining: 549ms\n",
      "172:\tlearn: 183.4662764\ttotal: 290ms\tremaining: 547ms\n",
      "173:\tlearn: 183.1172558\ttotal: 291ms\tremaining: 546ms\n",
      "174:\tlearn: 182.8059448\ttotal: 293ms\tremaining: 544ms\n",
      "175:\tlearn: 182.4756167\ttotal: 295ms\tremaining: 542ms\n",
      "176:\tlearn: 182.1553576\ttotal: 296ms\tremaining: 540ms\n",
      "177:\tlearn: 181.7774710\ttotal: 298ms\tremaining: 539ms\n",
      "178:\tlearn: 181.4535961\ttotal: 300ms\tremaining: 537ms\n",
      "179:\tlearn: 181.1834803\ttotal: 301ms\tremaining: 535ms\n",
      "180:\tlearn: 180.8520502\ttotal: 303ms\tremaining: 534ms\n",
      "181:\tlearn: 180.5421021\ttotal: 304ms\tremaining: 532ms\n",
      "182:\tlearn: 180.2795035\ttotal: 306ms\tremaining: 530ms\n",
      "183:\tlearn: 179.9494492\ttotal: 308ms\tremaining: 529ms\n",
      "184:\tlearn: 179.6926788\ttotal: 309ms\tremaining: 527ms\n",
      "185:\tlearn: 179.4606578\ttotal: 311ms\tremaining: 525ms\n",
      "186:\tlearn: 179.1383779\ttotal: 313ms\tremaining: 524ms\n",
      "187:\tlearn: 178.8919678\ttotal: 314ms\tremaining: 522ms\n",
      "188:\tlearn: 178.6244933\ttotal: 316ms\tremaining: 520ms\n",
      "189:\tlearn: 178.3580063\ttotal: 318ms\tremaining: 519ms\n",
      "190:\tlearn: 178.1416647\ttotal: 319ms\tremaining: 517ms\n",
      "191:\tlearn: 177.7936591\ttotal: 321ms\tremaining: 515ms\n",
      "192:\tlearn: 177.5784453\ttotal: 323ms\tremaining: 513ms\n",
      "193:\tlearn: 177.3331618\ttotal: 324ms\tremaining: 512ms\n",
      "194:\tlearn: 177.0699971\ttotal: 326ms\tremaining: 510ms\n",
      "195:\tlearn: 176.8669553\ttotal: 330ms\tremaining: 511ms\n",
      "196:\tlearn: 176.6381930\ttotal: 332ms\tremaining: 511ms\n",
      "197:\tlearn: 176.3275091\ttotal: 335ms\tremaining: 511ms\n",
      "198:\tlearn: 176.0882080\ttotal: 337ms\tremaining: 510ms\n",
      "199:\tlearn: 175.8322982\ttotal: 343ms\tremaining: 515ms\n",
      "200:\tlearn: 175.5456988\ttotal: 346ms\tremaining: 515ms\n",
      "201:\tlearn: 175.2547148\ttotal: 349ms\tremaining: 515ms\n",
      "202:\tlearn: 175.0387634\ttotal: 352ms\tremaining: 515ms\n",
      "203:\tlearn: 174.7459164\ttotal: 355ms\tremaining: 514ms\n",
      "204:\tlearn: 174.4865599\ttotal: 357ms\tremaining: 513ms\n",
      "205:\tlearn: 174.2267229\ttotal: 361ms\tremaining: 515ms\n",
      "206:\tlearn: 173.9764463\ttotal: 364ms\tremaining: 515ms\n",
      "207:\tlearn: 173.7244586\ttotal: 367ms\tremaining: 515ms\n",
      "208:\tlearn: 173.4556410\ttotal: 369ms\tremaining: 514ms\n",
      "209:\tlearn: 173.1660684\ttotal: 373ms\tremaining: 515ms\n",
      "210:\tlearn: 172.9530792\ttotal: 376ms\tremaining: 515ms\n",
      "211:\tlearn: 172.7177518\ttotal: 384ms\tremaining: 522ms\n",
      "212:\tlearn: 172.4877784\ttotal: 391ms\tremaining: 527ms\n",
      "213:\tlearn: 172.3002251\ttotal: 396ms\tremaining: 530ms\n",
      "214:\tlearn: 172.1632039\ttotal: 400ms\tremaining: 530ms\n",
      "215:\tlearn: 171.9008134\ttotal: 403ms\tremaining: 530ms\n",
      "216:\tlearn: 171.6606849\ttotal: 406ms\tremaining: 530ms\n",
      "217:\tlearn: 171.4101059\ttotal: 410ms\tremaining: 530ms\n",
      "218:\tlearn: 171.1754626\ttotal: 413ms\tremaining: 530ms\n",
      "219:\tlearn: 170.9346668\ttotal: 417ms\tremaining: 531ms\n",
      "220:\tlearn: 170.7431955\ttotal: 420ms\tremaining: 531ms\n",
      "221:\tlearn: 170.5163196\ttotal: 428ms\tremaining: 535ms\n",
      "222:\tlearn: 170.2073037\ttotal: 432ms\tremaining: 537ms\n",
      "223:\tlearn: 169.9655552\ttotal: 437ms\tremaining: 539ms\n",
      "224:\tlearn: 169.6895556\ttotal: 442ms\tremaining: 541ms\n",
      "225:\tlearn: 169.3997066\ttotal: 446ms\tremaining: 541ms\n",
      "226:\tlearn: 169.1297121\ttotal: 452ms\tremaining: 543ms\n",
      "227:\tlearn: 168.9671364\ttotal: 454ms\tremaining: 541ms\n",
      "228:\tlearn: 168.7494684\ttotal: 455ms\tremaining: 539ms\n",
      "229:\tlearn: 168.4221501\ttotal: 457ms\tremaining: 537ms\n",
      "230:\tlearn: 168.2703827\ttotal: 459ms\tremaining: 534ms\n",
      "231:\tlearn: 168.0551177\ttotal: 461ms\tremaining: 532ms\n",
      "232:\tlearn: 167.8167645\ttotal: 462ms\tremaining: 530ms\n",
      "233:\tlearn: 167.6038295\ttotal: 464ms\tremaining: 527ms\n",
      "234:\tlearn: 167.3773581\ttotal: 466ms\tremaining: 525ms\n",
      "235:\tlearn: 167.1792463\ttotal: 467ms\tremaining: 523ms\n",
      "236:\tlearn: 167.0302839\ttotal: 469ms\tremaining: 520ms\n",
      "237:\tlearn: 166.8439585\ttotal: 471ms\tremaining: 518ms\n",
      "238:\tlearn: 166.6480938\ttotal: 472ms\tremaining: 516ms\n",
      "239:\tlearn: 166.4970452\ttotal: 474ms\tremaining: 514ms\n",
      "240:\tlearn: 166.2718788\ttotal: 476ms\tremaining: 511ms\n",
      "241:\tlearn: 166.0541410\ttotal: 478ms\tremaining: 509ms\n",
      "242:\tlearn: 165.8678200\ttotal: 479ms\tremaining: 507ms\n",
      "243:\tlearn: 165.7146161\ttotal: 481ms\tremaining: 505ms\n",
      "244:\tlearn: 165.4744526\ttotal: 483ms\tremaining: 502ms\n",
      "245:\tlearn: 165.2731850\ttotal: 484ms\tremaining: 500ms\n",
      "246:\tlearn: 165.0731066\ttotal: 486ms\tremaining: 498ms\n",
      "247:\tlearn: 164.8682284\ttotal: 488ms\tremaining: 495ms\n",
      "248:\tlearn: 164.6415814\ttotal: 489ms\tremaining: 493ms\n",
      "249:\tlearn: 164.3741871\ttotal: 491ms\tremaining: 491ms\n",
      "250:\tlearn: 164.1164433\ttotal: 493ms\tremaining: 489ms\n",
      "251:\tlearn: 163.9413539\ttotal: 494ms\tremaining: 487ms\n",
      "252:\tlearn: 163.7646393\ttotal: 496ms\tremaining: 484ms\n",
      "253:\tlearn: 163.5855750\ttotal: 498ms\tremaining: 482ms\n",
      "254:\tlearn: 163.4078291\ttotal: 500ms\tremaining: 480ms\n",
      "255:\tlearn: 163.2100694\ttotal: 501ms\tremaining: 478ms\n",
      "256:\tlearn: 163.0102138\ttotal: 503ms\tremaining: 475ms\n",
      "257:\tlearn: 162.7538902\ttotal: 504ms\tremaining: 473ms\n",
      "258:\tlearn: 162.6081241\ttotal: 506ms\tremaining: 471ms\n",
      "259:\tlearn: 162.4717478\ttotal: 508ms\tremaining: 469ms\n",
      "260:\tlearn: 162.3213744\ttotal: 509ms\tremaining: 466ms\n",
      "261:\tlearn: 162.1394028\ttotal: 511ms\tremaining: 464ms\n",
      "262:\tlearn: 161.9425065\ttotal: 513ms\tremaining: 462ms\n",
      "263:\tlearn: 161.6939941\ttotal: 514ms\tremaining: 460ms\n",
      "264:\tlearn: 161.5150578\ttotal: 516ms\tremaining: 457ms\n",
      "265:\tlearn: 161.3128437\ttotal: 517ms\tremaining: 455ms\n",
      "266:\tlearn: 161.1109348\ttotal: 519ms\tremaining: 453ms\n",
      "267:\tlearn: 160.9194982\ttotal: 520ms\tremaining: 450ms\n",
      "268:\tlearn: 160.8032796\ttotal: 522ms\tremaining: 448ms\n",
      "269:\tlearn: 160.6516577\ttotal: 524ms\tremaining: 446ms\n",
      "270:\tlearn: 160.5125563\ttotal: 525ms\tremaining: 444ms\n",
      "271:\tlearn: 160.2867137\ttotal: 527ms\tremaining: 442ms\n",
      "272:\tlearn: 160.1245179\ttotal: 528ms\tremaining: 439ms\n",
      "273:\tlearn: 159.8682660\ttotal: 530ms\tremaining: 437ms\n",
      "274:\tlearn: 159.6623494\ttotal: 532ms\tremaining: 435ms\n",
      "275:\tlearn: 159.4483737\ttotal: 533ms\tremaining: 433ms\n",
      "276:\tlearn: 159.2872328\ttotal: 535ms\tremaining: 431ms\n",
      "277:\tlearn: 159.1139951\ttotal: 537ms\tremaining: 429ms\n",
      "278:\tlearn: 158.9540040\ttotal: 538ms\tremaining: 426ms\n",
      "279:\tlearn: 158.7697372\ttotal: 540ms\tremaining: 424ms\n",
      "280:\tlearn: 158.5934067\ttotal: 541ms\tremaining: 422ms\n",
      "281:\tlearn: 158.4430167\ttotal: 543ms\tremaining: 420ms\n",
      "282:\tlearn: 158.2570889\ttotal: 545ms\tremaining: 418ms\n",
      "283:\tlearn: 158.0652110\ttotal: 546ms\tremaining: 416ms\n",
      "284:\tlearn: 157.9060617\ttotal: 548ms\tremaining: 413ms\n",
      "285:\tlearn: 157.7742536\ttotal: 550ms\tremaining: 411ms\n",
      "286:\tlearn: 157.6247073\ttotal: 551ms\tremaining: 409ms\n",
      "287:\tlearn: 157.5143854\ttotal: 553ms\tremaining: 407ms\n",
      "288:\tlearn: 157.3499738\ttotal: 554ms\tremaining: 405ms\n",
      "289:\tlearn: 157.1323779\ttotal: 556ms\tremaining: 403ms\n",
      "290:\tlearn: 156.9968678\ttotal: 558ms\tremaining: 400ms\n",
      "291:\tlearn: 156.9097143\ttotal: 559ms\tremaining: 398ms\n",
      "292:\tlearn: 156.6475027\ttotal: 561ms\tremaining: 396ms\n",
      "293:\tlearn: 156.4507149\ttotal: 562ms\tremaining: 394ms\n",
      "294:\tlearn: 156.2939096\ttotal: 564ms\tremaining: 392ms\n",
      "295:\tlearn: 156.1482913\ttotal: 566ms\tremaining: 390ms\n",
      "296:\tlearn: 155.9551166\ttotal: 567ms\tremaining: 388ms\n",
      "297:\tlearn: 155.7527122\ttotal: 569ms\tremaining: 386ms\n",
      "298:\tlearn: 155.5885718\ttotal: 571ms\tremaining: 384ms\n",
      "299:\tlearn: 155.4108636\ttotal: 572ms\tremaining: 381ms\n",
      "300:\tlearn: 155.2642572\ttotal: 575ms\tremaining: 380ms\n",
      "301:\tlearn: 155.1189358\ttotal: 577ms\tremaining: 378ms\n",
      "302:\tlearn: 154.9588400\ttotal: 579ms\tremaining: 376ms\n",
      "303:\tlearn: 154.7574244\ttotal: 581ms\tremaining: 374ms\n",
      "304:\tlearn: 154.5514346\ttotal: 582ms\tremaining: 372ms\n",
      "305:\tlearn: 154.3823245\ttotal: 584ms\tremaining: 370ms\n",
      "306:\tlearn: 154.2534500\ttotal: 585ms\tremaining: 368ms\n",
      "307:\tlearn: 154.1345744\ttotal: 587ms\tremaining: 366ms\n",
      "308:\tlearn: 153.9938989\ttotal: 589ms\tremaining: 364ms\n",
      "309:\tlearn: 153.7903868\ttotal: 590ms\tremaining: 362ms\n",
      "310:\tlearn: 153.6649616\ttotal: 592ms\tremaining: 360ms\n",
      "311:\tlearn: 153.4679815\ttotal: 593ms\tremaining: 358ms\n",
      "312:\tlearn: 153.3291664\ttotal: 595ms\tremaining: 356ms\n",
      "313:\tlearn: 153.1385840\ttotal: 597ms\tremaining: 353ms\n",
      "314:\tlearn: 152.9347313\ttotal: 598ms\tremaining: 351ms\n",
      "315:\tlearn: 152.7572082\ttotal: 600ms\tremaining: 349ms\n",
      "316:\tlearn: 152.5744389\ttotal: 602ms\tremaining: 347ms\n",
      "317:\tlearn: 152.4361103\ttotal: 603ms\tremaining: 345ms\n",
      "318:\tlearn: 152.2731199\ttotal: 605ms\tremaining: 343ms\n",
      "319:\tlearn: 152.1744157\ttotal: 607ms\tremaining: 341ms\n",
      "320:\tlearn: 152.0167175\ttotal: 608ms\tremaining: 339ms\n",
      "321:\tlearn: 151.9129542\ttotal: 610ms\tremaining: 337ms\n",
      "322:\tlearn: 151.8052099\ttotal: 611ms\tremaining: 335ms\n",
      "323:\tlearn: 151.6719053\ttotal: 613ms\tremaining: 333ms\n",
      "324:\tlearn: 151.4969498\ttotal: 615ms\tremaining: 331ms\n",
      "325:\tlearn: 151.3537297\ttotal: 616ms\tremaining: 329ms\n",
      "326:\tlearn: 151.1862263\ttotal: 618ms\tremaining: 327ms\n",
      "327:\tlearn: 151.0770060\ttotal: 620ms\tremaining: 325ms\n",
      "328:\tlearn: 150.9153594\ttotal: 621ms\tremaining: 323ms\n",
      "329:\tlearn: 150.8150130\ttotal: 623ms\tremaining: 321ms\n",
      "330:\tlearn: 150.6444885\ttotal: 625ms\tremaining: 319ms\n",
      "331:\tlearn: 150.4199819\ttotal: 626ms\tremaining: 317ms\n",
      "332:\tlearn: 150.1725905\ttotal: 628ms\tremaining: 315ms\n",
      "333:\tlearn: 150.0375276\ttotal: 630ms\tremaining: 313ms\n",
      "334:\tlearn: 149.8299345\ttotal: 631ms\tremaining: 311ms\n",
      "335:\tlearn: 149.7038935\ttotal: 633ms\tremaining: 309ms\n",
      "336:\tlearn: 149.6110429\ttotal: 635ms\tremaining: 307ms\n",
      "337:\tlearn: 149.5151232\ttotal: 636ms\tremaining: 305ms\n",
      "338:\tlearn: 149.3642330\ttotal: 638ms\tremaining: 303ms\n",
      "339:\tlearn: 149.2556713\ttotal: 639ms\tremaining: 301ms\n",
      "340:\tlearn: 149.0918940\ttotal: 641ms\tremaining: 299ms\n",
      "341:\tlearn: 148.9380019\ttotal: 643ms\tremaining: 297ms\n",
      "342:\tlearn: 148.7705200\ttotal: 644ms\tremaining: 295ms\n",
      "343:\tlearn: 148.5919226\ttotal: 646ms\tremaining: 293ms\n",
      "344:\tlearn: 148.4203099\ttotal: 648ms\tremaining: 291ms\n",
      "345:\tlearn: 148.2833086\ttotal: 649ms\tremaining: 289ms\n",
      "346:\tlearn: 148.1852828\ttotal: 651ms\tremaining: 287ms\n",
      "347:\tlearn: 148.0318464\ttotal: 653ms\tremaining: 285ms\n",
      "348:\tlearn: 147.9363589\ttotal: 654ms\tremaining: 283ms\n",
      "349:\tlearn: 147.7549635\ttotal: 656ms\tremaining: 281ms\n",
      "350:\tlearn: 147.6205180\ttotal: 657ms\tremaining: 279ms\n",
      "351:\tlearn: 147.4946351\ttotal: 659ms\tremaining: 277ms\n",
      "352:\tlearn: 147.3492470\ttotal: 661ms\tremaining: 275ms\n",
      "353:\tlearn: 147.2044703\ttotal: 662ms\tremaining: 273ms\n",
      "354:\tlearn: 146.9942113\ttotal: 664ms\tremaining: 271ms\n",
      "355:\tlearn: 146.8284305\ttotal: 665ms\tremaining: 269ms\n",
      "356:\tlearn: 146.6653387\ttotal: 667ms\tremaining: 267ms\n",
      "357:\tlearn: 146.5546874\ttotal: 669ms\tremaining: 265ms\n",
      "358:\tlearn: 146.4867601\ttotal: 670ms\tremaining: 263ms\n",
      "359:\tlearn: 146.2808050\ttotal: 672ms\tremaining: 261ms\n",
      "360:\tlearn: 146.1707102\ttotal: 674ms\tremaining: 259ms\n",
      "361:\tlearn: 145.9975138\ttotal: 675ms\tremaining: 257ms\n",
      "362:\tlearn: 145.8575590\ttotal: 677ms\tremaining: 255ms\n",
      "363:\tlearn: 145.6755259\ttotal: 678ms\tremaining: 253ms\n",
      "364:\tlearn: 145.5413351\ttotal: 680ms\tremaining: 251ms\n",
      "365:\tlearn: 145.3615317\ttotal: 682ms\tremaining: 250ms\n",
      "366:\tlearn: 145.2211879\ttotal: 683ms\tremaining: 248ms\n",
      "367:\tlearn: 145.0885052\ttotal: 685ms\tremaining: 246ms\n",
      "368:\tlearn: 144.9368233\ttotal: 687ms\tremaining: 244ms\n",
      "369:\tlearn: 144.8175220\ttotal: 688ms\tremaining: 242ms\n",
      "370:\tlearn: 144.6186438\ttotal: 690ms\tremaining: 240ms\n",
      "371:\tlearn: 144.3947937\ttotal: 692ms\tremaining: 238ms\n",
      "372:\tlearn: 144.2224673\ttotal: 693ms\tremaining: 236ms\n",
      "373:\tlearn: 144.0540275\ttotal: 695ms\tremaining: 234ms\n",
      "374:\tlearn: 143.9811853\ttotal: 697ms\tremaining: 232ms\n",
      "375:\tlearn: 143.8450364\ttotal: 698ms\tremaining: 230ms\n",
      "376:\tlearn: 143.7316755\ttotal: 700ms\tremaining: 228ms\n",
      "377:\tlearn: 143.5695632\ttotal: 701ms\tremaining: 226ms\n",
      "378:\tlearn: 143.4335878\ttotal: 703ms\tremaining: 224ms\n",
      "379:\tlearn: 143.2784636\ttotal: 705ms\tremaining: 223ms\n",
      "380:\tlearn: 143.1670785\ttotal: 706ms\tremaining: 221ms\n",
      "381:\tlearn: 143.0640431\ttotal: 708ms\tremaining: 219ms\n",
      "382:\tlearn: 142.9969542\ttotal: 710ms\tremaining: 217ms\n",
      "383:\tlearn: 142.9253706\ttotal: 711ms\tremaining: 215ms\n",
      "384:\tlearn: 142.8330001\ttotal: 713ms\tremaining: 213ms\n",
      "385:\tlearn: 142.6797152\ttotal: 715ms\tremaining: 211ms\n",
      "386:\tlearn: 142.5330964\ttotal: 716ms\tremaining: 209ms\n",
      "387:\tlearn: 142.4211841\ttotal: 718ms\tremaining: 207ms\n",
      "388:\tlearn: 142.3031566\ttotal: 720ms\tremaining: 205ms\n",
      "389:\tlearn: 142.2315004\ttotal: 721ms\tremaining: 203ms\n",
      "390:\tlearn: 142.0820175\ttotal: 723ms\tremaining: 202ms\n",
      "391:\tlearn: 141.9578582\ttotal: 724ms\tremaining: 200ms\n",
      "392:\tlearn: 141.8520015\ttotal: 726ms\tremaining: 198ms\n",
      "393:\tlearn: 141.7477262\ttotal: 728ms\tremaining: 196ms\n",
      "394:\tlearn: 141.6219346\ttotal: 729ms\tremaining: 194ms\n",
      "395:\tlearn: 141.4679718\ttotal: 731ms\tremaining: 192ms\n",
      "396:\tlearn: 141.3727231\ttotal: 733ms\tremaining: 190ms\n",
      "397:\tlearn: 141.2594586\ttotal: 734ms\tremaining: 188ms\n",
      "398:\tlearn: 141.1672782\ttotal: 736ms\tremaining: 186ms\n",
      "399:\tlearn: 141.0582234\ttotal: 737ms\tremaining: 184ms\n",
      "400:\tlearn: 140.9056479\ttotal: 739ms\tremaining: 182ms\n",
      "401:\tlearn: 140.7949989\ttotal: 741ms\tremaining: 181ms\n",
      "402:\tlearn: 140.5921425\ttotal: 743ms\tremaining: 179ms\n",
      "403:\tlearn: 140.5009219\ttotal: 744ms\tremaining: 177ms\n",
      "404:\tlearn: 140.3600177\ttotal: 746ms\tremaining: 175ms\n",
      "405:\tlearn: 140.2299930\ttotal: 748ms\tremaining: 173ms\n",
      "406:\tlearn: 140.1206423\ttotal: 749ms\tremaining: 171ms\n",
      "407:\tlearn: 139.9640211\ttotal: 751ms\tremaining: 169ms\n",
      "408:\tlearn: 139.8102670\ttotal: 752ms\tremaining: 167ms\n",
      "409:\tlearn: 139.7072629\ttotal: 754ms\tremaining: 166ms\n",
      "410:\tlearn: 139.5886846\ttotal: 756ms\tremaining: 164ms\n",
      "411:\tlearn: 139.4724686\ttotal: 757ms\tremaining: 162ms\n",
      "412:\tlearn: 139.3414057\ttotal: 759ms\tremaining: 160ms\n",
      "413:\tlearn: 139.2107724\ttotal: 760ms\tremaining: 158ms\n",
      "414:\tlearn: 139.1101327\ttotal: 763ms\tremaining: 156ms\n",
      "415:\tlearn: 139.0171866\ttotal: 765ms\tremaining: 155ms\n",
      "416:\tlearn: 138.9154351\ttotal: 767ms\tremaining: 153ms\n",
      "417:\tlearn: 138.8217382\ttotal: 769ms\tremaining: 151ms\n",
      "418:\tlearn: 138.6914112\ttotal: 771ms\tremaining: 149ms\n",
      "419:\tlearn: 138.6167577\ttotal: 772ms\tremaining: 147ms\n",
      "420:\tlearn: 138.4716850\ttotal: 774ms\tremaining: 145ms\n",
      "421:\tlearn: 138.3326355\ttotal: 776ms\tremaining: 143ms\n",
      "422:\tlearn: 138.2333972\ttotal: 777ms\tremaining: 141ms\n",
      "423:\tlearn: 138.1047530\ttotal: 779ms\tremaining: 140ms\n",
      "424:\tlearn: 138.0116738\ttotal: 780ms\tremaining: 138ms\n",
      "425:\tlearn: 137.8829082\ttotal: 782ms\tremaining: 136ms\n",
      "426:\tlearn: 137.7693614\ttotal: 784ms\tremaining: 134ms\n",
      "427:\tlearn: 137.6314360\ttotal: 785ms\tremaining: 132ms\n",
      "428:\tlearn: 137.5018993\ttotal: 787ms\tremaining: 130ms\n",
      "429:\tlearn: 137.4441513\ttotal: 789ms\tremaining: 128ms\n",
      "430:\tlearn: 137.3210076\ttotal: 790ms\tremaining: 127ms\n",
      "431:\tlearn: 137.1709932\ttotal: 792ms\tremaining: 125ms\n",
      "432:\tlearn: 137.0407541\ttotal: 794ms\tremaining: 123ms\n",
      "433:\tlearn: 136.9692586\ttotal: 795ms\tremaining: 121ms\n",
      "434:\tlearn: 136.8812350\ttotal: 797ms\tremaining: 119ms\n",
      "435:\tlearn: 136.7194137\ttotal: 799ms\tremaining: 117ms\n",
      "436:\tlearn: 136.6238567\ttotal: 800ms\tremaining: 115ms\n",
      "437:\tlearn: 136.5597143\ttotal: 802ms\tremaining: 114ms\n",
      "438:\tlearn: 136.4783819\ttotal: 804ms\tremaining: 112ms\n",
      "439:\tlearn: 136.4034793\ttotal: 805ms\tremaining: 110ms\n",
      "440:\tlearn: 136.3110676\ttotal: 807ms\tremaining: 108ms\n",
      "441:\tlearn: 136.2132152\ttotal: 809ms\tremaining: 106ms\n",
      "442:\tlearn: 136.0994838\ttotal: 810ms\tremaining: 104ms\n",
      "443:\tlearn: 135.8996670\ttotal: 812ms\tremaining: 102ms\n",
      "444:\tlearn: 135.7683053\ttotal: 813ms\tremaining: 101ms\n",
      "445:\tlearn: 135.6154103\ttotal: 815ms\tremaining: 98.7ms\n",
      "446:\tlearn: 135.5003460\ttotal: 817ms\tremaining: 96.8ms\n",
      "447:\tlearn: 135.3863390\ttotal: 818ms\tremaining: 95ms\n",
      "448:\tlearn: 135.2405673\ttotal: 820ms\tremaining: 93.2ms\n",
      "449:\tlearn: 135.0940119\ttotal: 822ms\tremaining: 91.3ms\n",
      "450:\tlearn: 134.9976393\ttotal: 823ms\tremaining: 89.5ms\n",
      "451:\tlearn: 134.8653093\ttotal: 825ms\tremaining: 87.6ms\n",
      "452:\tlearn: 134.7195391\ttotal: 827ms\tremaining: 85.8ms\n",
      "453:\tlearn: 134.6246298\ttotal: 828ms\tremaining: 83.9ms\n",
      "454:\tlearn: 134.5082693\ttotal: 830ms\tremaining: 82.1ms\n",
      "455:\tlearn: 134.4512904\ttotal: 832ms\tremaining: 80.2ms\n",
      "456:\tlearn: 134.3704435\ttotal: 834ms\tremaining: 78.4ms\n",
      "457:\tlearn: 134.2877292\ttotal: 835ms\tremaining: 76.6ms\n",
      "458:\tlearn: 134.2045842\ttotal: 837ms\tremaining: 74.8ms\n",
      "459:\tlearn: 134.1223900\ttotal: 839ms\tremaining: 72.9ms\n",
      "460:\tlearn: 134.0406707\ttotal: 840ms\tremaining: 71.1ms\n",
      "461:\tlearn: 133.9125447\ttotal: 842ms\tremaining: 69.3ms\n",
      "462:\tlearn: 133.8265901\ttotal: 844ms\tremaining: 67.4ms\n",
      "463:\tlearn: 133.7055567\ttotal: 845ms\tremaining: 65.6ms\n",
      "464:\tlearn: 133.5672141\ttotal: 847ms\tremaining: 63.8ms\n",
      "465:\tlearn: 133.4277165\ttotal: 849ms\tremaining: 61.9ms\n",
      "466:\tlearn: 133.2942581\ttotal: 851ms\tremaining: 60.1ms\n",
      "467:\tlearn: 133.1614752\ttotal: 852ms\tremaining: 58.3ms\n",
      "468:\tlearn: 133.0116229\ttotal: 854ms\tremaining: 56.4ms\n",
      "469:\tlearn: 132.8978492\ttotal: 855ms\tremaining: 54.6ms\n",
      "470:\tlearn: 132.7702123\ttotal: 857ms\tremaining: 52.8ms\n",
      "471:\tlearn: 132.6643962\ttotal: 859ms\tremaining: 50.9ms\n",
      "472:\tlearn: 132.5243678\ttotal: 860ms\tremaining: 49.1ms\n",
      "473:\tlearn: 132.4392210\ttotal: 862ms\tremaining: 47.3ms\n",
      "474:\tlearn: 132.3208617\ttotal: 864ms\tremaining: 45.5ms\n",
      "475:\tlearn: 132.1747854\ttotal: 865ms\tremaining: 43.6ms\n",
      "476:\tlearn: 132.0724565\ttotal: 867ms\tremaining: 41.8ms\n",
      "477:\tlearn: 131.9655679\ttotal: 869ms\tremaining: 40ms\n",
      "478:\tlearn: 131.8372081\ttotal: 870ms\tremaining: 38.2ms\n",
      "479:\tlearn: 131.6986070\ttotal: 872ms\tremaining: 36.3ms\n",
      "480:\tlearn: 131.6083349\ttotal: 874ms\tremaining: 34.5ms\n",
      "481:\tlearn: 131.5413423\ttotal: 875ms\tremaining: 32.7ms\n",
      "482:\tlearn: 131.4887707\ttotal: 877ms\tremaining: 30.9ms\n",
      "483:\tlearn: 131.4359669\ttotal: 879ms\tremaining: 29ms\n",
      "484:\tlearn: 131.3780503\ttotal: 880ms\tremaining: 27.2ms\n",
      "485:\tlearn: 131.2627681\ttotal: 882ms\tremaining: 25.4ms\n",
      "486:\tlearn: 131.1941503\ttotal: 884ms\tremaining: 23.6ms\n",
      "487:\tlearn: 131.1217472\ttotal: 885ms\tremaining: 21.8ms\n",
      "488:\tlearn: 131.0156439\ttotal: 887ms\tremaining: 19.9ms\n",
      "489:\tlearn: 130.9425987\ttotal: 888ms\tremaining: 18.1ms\n",
      "490:\tlearn: 130.8135713\ttotal: 890ms\tremaining: 16.3ms\n",
      "491:\tlearn: 130.7324730\ttotal: 892ms\tremaining: 14.5ms\n",
      "492:\tlearn: 130.6460612\ttotal: 894ms\tremaining: 12.7ms\n",
      "493:\tlearn: 130.5556269\ttotal: 895ms\tremaining: 10.9ms\n",
      "494:\tlearn: 130.4714529\ttotal: 897ms\tremaining: 9.06ms\n",
      "495:\tlearn: 130.3156530\ttotal: 899ms\tremaining: 7.25ms\n",
      "496:\tlearn: 130.2375372\ttotal: 900ms\tremaining: 5.43ms\n",
      "497:\tlearn: 130.1115742\ttotal: 902ms\tremaining: 3.62ms\n",
      "498:\tlearn: 129.9984685\ttotal: 904ms\tremaining: 1.81ms\n",
      "499:\tlearn: 129.8959296\ttotal: 905ms\tremaining: 0us\n",
      "Best_params=  {'depth': 6, 'iterations': 500, 'learning_rate': 0.01}\n",
      "0:\tlearn: 299.9700850\ttotal: 1.74ms\tremaining: 869ms\n",
      "1:\tlearn: 298.4515006\ttotal: 3.47ms\tremaining: 864ms\n",
      "2:\tlearn: 297.0815577\ttotal: 6.02ms\tremaining: 997ms\n",
      "3:\tlearn: 295.7635800\ttotal: 8.22ms\tremaining: 1.02s\n",
      "4:\tlearn: 294.5076990\ttotal: 10.2ms\tremaining: 1.01s\n",
      "5:\tlearn: 293.1962219\ttotal: 11.9ms\tremaining: 978ms\n",
      "6:\tlearn: 291.8844628\ttotal: 13.6ms\tremaining: 955ms\n",
      "7:\tlearn: 290.6143753\ttotal: 15.2ms\tremaining: 933ms\n",
      "8:\tlearn: 289.2919179\ttotal: 16.8ms\tremaining: 917ms\n",
      "9:\tlearn: 288.0603640\ttotal: 18.4ms\tremaining: 904ms\n",
      "10:\tlearn: 286.7930702\ttotal: 20.2ms\tremaining: 896ms\n",
      "11:\tlearn: 285.6827288\ttotal: 21.8ms\tremaining: 885ms\n",
      "12:\tlearn: 284.2855000\ttotal: 23.4ms\tremaining: 877ms\n",
      "13:\tlearn: 282.9151253\ttotal: 25.2ms\tremaining: 875ms\n",
      "14:\tlearn: 281.7800652\ttotal: 26.9ms\tremaining: 869ms\n",
      "15:\tlearn: 280.6356752\ttotal: 28.6ms\tremaining: 865ms\n",
      "16:\tlearn: 279.4054972\ttotal: 30.3ms\tremaining: 859ms\n",
      "17:\tlearn: 278.2616170\ttotal: 31.9ms\tremaining: 855ms\n",
      "18:\tlearn: 277.2103985\ttotal: 33.5ms\tremaining: 849ms\n",
      "19:\tlearn: 276.1053073\ttotal: 35.2ms\tremaining: 844ms\n",
      "20:\tlearn: 274.9797126\ttotal: 36.8ms\tremaining: 840ms\n",
      "21:\tlearn: 273.9391888\ttotal: 38.6ms\tremaining: 838ms\n",
      "22:\tlearn: 272.9371704\ttotal: 40.3ms\tremaining: 837ms\n",
      "23:\tlearn: 271.7816511\ttotal: 42.1ms\tremaining: 835ms\n",
      "24:\tlearn: 270.7049606\ttotal: 43.8ms\tremaining: 832ms\n",
      "25:\tlearn: 269.5437525\ttotal: 45.5ms\tremaining: 829ms\n",
      "26:\tlearn: 268.4842757\ttotal: 47.2ms\tremaining: 826ms\n",
      "27:\tlearn: 267.3707520\ttotal: 48.9ms\tremaining: 824ms\n",
      "28:\tlearn: 266.2483290\ttotal: 50.6ms\tremaining: 821ms\n",
      "29:\tlearn: 265.2035433\ttotal: 52.4ms\tremaining: 820ms\n",
      "30:\tlearn: 264.2342764\ttotal: 54ms\tremaining: 817ms\n",
      "31:\tlearn: 263.1537556\ttotal: 55.7ms\tremaining: 814ms\n",
      "32:\tlearn: 262.2169630\ttotal: 57.3ms\tremaining: 811ms\n",
      "33:\tlearn: 261.3002752\ttotal: 59ms\tremaining: 808ms\n",
      "34:\tlearn: 260.3037211\ttotal: 60.6ms\tremaining: 805ms\n",
      "35:\tlearn: 259.3378452\ttotal: 62.3ms\tremaining: 803ms\n",
      "36:\tlearn: 258.4158818\ttotal: 64ms\tremaining: 801ms\n",
      "37:\tlearn: 257.4227872\ttotal: 65.7ms\tremaining: 799ms\n",
      "38:\tlearn: 256.4955233\ttotal: 67.3ms\tremaining: 796ms\n",
      "39:\tlearn: 255.5960232\ttotal: 68.9ms\tremaining: 793ms\n",
      "40:\tlearn: 254.6606737\ttotal: 70.5ms\tremaining: 790ms\n",
      "41:\tlearn: 253.7010873\ttotal: 72.2ms\tremaining: 788ms\n",
      "42:\tlearn: 252.7149546\ttotal: 74.3ms\tremaining: 790ms\n",
      "43:\tlearn: 251.8210970\ttotal: 76ms\tremaining: 788ms\n",
      "44:\tlearn: 250.8339971\ttotal: 77.7ms\tremaining: 785ms\n",
      "45:\tlearn: 249.9825191\ttotal: 79.3ms\tremaining: 783ms\n",
      "46:\tlearn: 249.1708911\ttotal: 80.9ms\tremaining: 780ms\n",
      "47:\tlearn: 248.2853051\ttotal: 82.5ms\tremaining: 777ms\n",
      "48:\tlearn: 247.5315561\ttotal: 84.2ms\tremaining: 775ms\n",
      "49:\tlearn: 246.6309135\ttotal: 85.8ms\tremaining: 773ms\n",
      "50:\tlearn: 245.8105996\ttotal: 87.5ms\tremaining: 771ms\n",
      "51:\tlearn: 245.0454747\ttotal: 89.2ms\tremaining: 769ms\n",
      "52:\tlearn: 244.1430763\ttotal: 90.9ms\tremaining: 767ms\n",
      "53:\tlearn: 243.3314895\ttotal: 92.6ms\tremaining: 765ms\n",
      "54:\tlearn: 242.5465901\ttotal: 94.2ms\tremaining: 762ms\n",
      "55:\tlearn: 241.7888085\ttotal: 95.8ms\tremaining: 760ms\n",
      "56:\tlearn: 240.9613339\ttotal: 97.4ms\tremaining: 757ms\n",
      "57:\tlearn: 240.2085996\ttotal: 99.1ms\tremaining: 755ms\n",
      "58:\tlearn: 239.4075331\ttotal: 101ms\tremaining: 753ms\n",
      "59:\tlearn: 238.6363488\ttotal: 102ms\tremaining: 751ms\n",
      "60:\tlearn: 238.0176178\ttotal: 104ms\tremaining: 748ms\n",
      "61:\tlearn: 237.2866222\ttotal: 106ms\tremaining: 746ms\n",
      "62:\tlearn: 236.5218183\ttotal: 107ms\tremaining: 745ms\n",
      "63:\tlearn: 235.7520321\ttotal: 109ms\tremaining: 743ms\n",
      "64:\tlearn: 235.0350181\ttotal: 111ms\tremaining: 741ms\n",
      "65:\tlearn: 234.3131810\ttotal: 112ms\tremaining: 740ms\n",
      "66:\tlearn: 233.6478319\ttotal: 114ms\tremaining: 737ms\n",
      "67:\tlearn: 232.9321414\ttotal: 116ms\tremaining: 736ms\n",
      "68:\tlearn: 232.1808005\ttotal: 117ms\tremaining: 733ms\n",
      "69:\tlearn: 231.5255161\ttotal: 119ms\tremaining: 731ms\n",
      "70:\tlearn: 230.9770988\ttotal: 120ms\tremaining: 723ms\n",
      "71:\tlearn: 230.2563233\ttotal: 121ms\tremaining: 722ms\n",
      "72:\tlearn: 229.4979261\ttotal: 123ms\tremaining: 720ms\n",
      "73:\tlearn: 228.7328329\ttotal: 125ms\tremaining: 718ms\n",
      "74:\tlearn: 228.0731990\ttotal: 126ms\tremaining: 716ms\n",
      "75:\tlearn: 227.4173857\ttotal: 128ms\tremaining: 714ms\n",
      "76:\tlearn: 226.7141223\ttotal: 130ms\tremaining: 712ms\n",
      "77:\tlearn: 226.1528677\ttotal: 131ms\tremaining: 710ms\n",
      "78:\tlearn: 225.4818341\ttotal: 133ms\tremaining: 708ms\n",
      "79:\tlearn: 224.7894020\ttotal: 134ms\tremaining: 706ms\n",
      "80:\tlearn: 224.0514731\ttotal: 136ms\tremaining: 704ms\n",
      "81:\tlearn: 223.5189402\ttotal: 138ms\tremaining: 703ms\n",
      "82:\tlearn: 222.9608147\ttotal: 140ms\tremaining: 701ms\n",
      "83:\tlearn: 222.3164349\ttotal: 141ms\tremaining: 699ms\n",
      "84:\tlearn: 221.7358496\ttotal: 143ms\tremaining: 697ms\n",
      "85:\tlearn: 221.1266271\ttotal: 147ms\tremaining: 710ms\n",
      "86:\tlearn: 220.4644947\ttotal: 150ms\tremaining: 710ms\n",
      "87:\tlearn: 219.7907249\ttotal: 152ms\tremaining: 710ms\n",
      "88:\tlearn: 219.1880444\ttotal: 154ms\tremaining: 710ms\n",
      "89:\tlearn: 218.6186027\ttotal: 156ms\tremaining: 710ms\n",
      "90:\tlearn: 218.0642856\ttotal: 158ms\tremaining: 710ms\n",
      "91:\tlearn: 217.5247123\ttotal: 160ms\tremaining: 709ms\n",
      "92:\tlearn: 216.9301555\ttotal: 162ms\tremaining: 709ms\n",
      "93:\tlearn: 216.4464451\ttotal: 164ms\tremaining: 707ms\n",
      "94:\tlearn: 215.8129354\ttotal: 165ms\tremaining: 705ms\n",
      "95:\tlearn: 215.1830231\ttotal: 167ms\tremaining: 703ms\n",
      "96:\tlearn: 214.6433117\ttotal: 169ms\tremaining: 701ms\n",
      "97:\tlearn: 214.1171153\ttotal: 170ms\tremaining: 699ms\n",
      "98:\tlearn: 213.5700301\ttotal: 172ms\tremaining: 697ms\n",
      "99:\tlearn: 213.0224865\ttotal: 174ms\tremaining: 695ms\n",
      "100:\tlearn: 212.4255463\ttotal: 175ms\tremaining: 693ms\n",
      "101:\tlearn: 211.8386695\ttotal: 177ms\tremaining: 691ms\n",
      "102:\tlearn: 211.2979448\ttotal: 179ms\tremaining: 689ms\n",
      "103:\tlearn: 210.7903606\ttotal: 180ms\tremaining: 687ms\n",
      "104:\tlearn: 210.2010792\ttotal: 182ms\tremaining: 685ms\n",
      "105:\tlearn: 209.7111407\ttotal: 184ms\tremaining: 682ms\n",
      "106:\tlearn: 209.2336564\ttotal: 185ms\tremaining: 680ms\n",
      "107:\tlearn: 208.7889413\ttotal: 187ms\tremaining: 678ms\n",
      "108:\tlearn: 208.3320076\ttotal: 188ms\tremaining: 676ms\n",
      "109:\tlearn: 207.7483130\ttotal: 190ms\tremaining: 674ms\n",
      "110:\tlearn: 207.2433032\ttotal: 192ms\tremaining: 672ms\n",
      "111:\tlearn: 206.6708371\ttotal: 195ms\tremaining: 675ms\n",
      "112:\tlearn: 206.1446593\ttotal: 197ms\tremaining: 675ms\n",
      "113:\tlearn: 205.6534810\ttotal: 199ms\tremaining: 673ms\n",
      "114:\tlearn: 205.1828695\ttotal: 201ms\tremaining: 671ms\n",
      "115:\tlearn: 204.7829689\ttotal: 202ms\tremaining: 670ms\n",
      "116:\tlearn: 204.3068991\ttotal: 204ms\tremaining: 668ms\n",
      "117:\tlearn: 203.8511700\ttotal: 206ms\tremaining: 667ms\n",
      "118:\tlearn: 203.3871985\ttotal: 208ms\tremaining: 666ms\n",
      "119:\tlearn: 202.9057797\ttotal: 210ms\tremaining: 664ms\n",
      "120:\tlearn: 202.4263079\ttotal: 211ms\tremaining: 661ms\n",
      "121:\tlearn: 201.9450124\ttotal: 213ms\tremaining: 659ms\n",
      "122:\tlearn: 201.5454734\ttotal: 214ms\tremaining: 657ms\n",
      "123:\tlearn: 201.0427844\ttotal: 216ms\tremaining: 655ms\n",
      "124:\tlearn: 200.6457632\ttotal: 218ms\tremaining: 653ms\n",
      "125:\tlearn: 200.2398396\ttotal: 219ms\tremaining: 651ms\n",
      "126:\tlearn: 199.8723799\ttotal: 221ms\tremaining: 649ms\n",
      "127:\tlearn: 199.4575979\ttotal: 223ms\tremaining: 647ms\n",
      "128:\tlearn: 198.9960259\ttotal: 224ms\tremaining: 646ms\n",
      "129:\tlearn: 198.5719765\ttotal: 226ms\tremaining: 644ms\n",
      "130:\tlearn: 198.1471878\ttotal: 228ms\tremaining: 642ms\n",
      "131:\tlearn: 197.7525949\ttotal: 229ms\tremaining: 640ms\n",
      "132:\tlearn: 197.4298718\ttotal: 231ms\tremaining: 638ms\n",
      "133:\tlearn: 197.0894865\ttotal: 233ms\tremaining: 636ms\n",
      "134:\tlearn: 196.7079760\ttotal: 235ms\tremaining: 634ms\n",
      "135:\tlearn: 196.3590332\ttotal: 236ms\tremaining: 632ms\n",
      "136:\tlearn: 195.9685692\ttotal: 238ms\tremaining: 630ms\n",
      "137:\tlearn: 195.6009288\ttotal: 239ms\tremaining: 628ms\n",
      "138:\tlearn: 195.2930413\ttotal: 241ms\tremaining: 626ms\n",
      "139:\tlearn: 194.9577798\ttotal: 243ms\tremaining: 624ms\n",
      "140:\tlearn: 194.5577029\ttotal: 244ms\tremaining: 622ms\n",
      "141:\tlearn: 194.1668119\ttotal: 246ms\tremaining: 620ms\n",
      "142:\tlearn: 193.7632844\ttotal: 248ms\tremaining: 618ms\n",
      "143:\tlearn: 193.4783542\ttotal: 249ms\tremaining: 616ms\n",
      "144:\tlearn: 193.0624254\ttotal: 251ms\tremaining: 614ms\n",
      "145:\tlearn: 192.7573920\ttotal: 252ms\tremaining: 612ms\n",
      "146:\tlearn: 192.4270323\ttotal: 254ms\tremaining: 610ms\n",
      "147:\tlearn: 192.1168500\ttotal: 256ms\tremaining: 608ms\n",
      "148:\tlearn: 191.7220206\ttotal: 258ms\tremaining: 607ms\n",
      "149:\tlearn: 191.3825060\ttotal: 259ms\tremaining: 605ms\n",
      "150:\tlearn: 191.0387093\ttotal: 261ms\tremaining: 604ms\n",
      "151:\tlearn: 190.6773576\ttotal: 263ms\tremaining: 602ms\n",
      "152:\tlearn: 190.2806793\ttotal: 265ms\tremaining: 600ms\n",
      "153:\tlearn: 189.9614324\ttotal: 266ms\tremaining: 598ms\n",
      "154:\tlearn: 189.5897696\ttotal: 268ms\tremaining: 596ms\n",
      "155:\tlearn: 189.1684027\ttotal: 269ms\tremaining: 594ms\n",
      "156:\tlearn: 188.7467430\ttotal: 271ms\tremaining: 592ms\n",
      "157:\tlearn: 188.3860982\ttotal: 273ms\tremaining: 590ms\n",
      "158:\tlearn: 188.0146353\ttotal: 274ms\tremaining: 588ms\n",
      "159:\tlearn: 187.7427003\ttotal: 276ms\tremaining: 586ms\n",
      "160:\tlearn: 187.3474608\ttotal: 278ms\tremaining: 585ms\n",
      "161:\tlearn: 187.0119760\ttotal: 279ms\tremaining: 583ms\n",
      "162:\tlearn: 186.6174534\ttotal: 281ms\tremaining: 581ms\n",
      "163:\tlearn: 186.3618950\ttotal: 283ms\tremaining: 579ms\n",
      "164:\tlearn: 186.0048792\ttotal: 284ms\tremaining: 577ms\n",
      "165:\tlearn: 185.6249116\ttotal: 286ms\tremaining: 575ms\n",
      "166:\tlearn: 185.2945572\ttotal: 288ms\tremaining: 573ms\n",
      "167:\tlearn: 185.0190997\ttotal: 289ms\tremaining: 572ms\n",
      "168:\tlearn: 184.7354694\ttotal: 291ms\tremaining: 570ms\n",
      "169:\tlearn: 184.4895944\ttotal: 293ms\tremaining: 568ms\n",
      "170:\tlearn: 184.1092783\ttotal: 294ms\tremaining: 566ms\n",
      "171:\tlearn: 183.7692227\ttotal: 296ms\tremaining: 564ms\n",
      "172:\tlearn: 183.4662764\ttotal: 298ms\tremaining: 563ms\n",
      "173:\tlearn: 183.1172558\ttotal: 299ms\tremaining: 561ms\n",
      "174:\tlearn: 182.8059448\ttotal: 301ms\tremaining: 559ms\n",
      "175:\tlearn: 182.4756167\ttotal: 303ms\tremaining: 557ms\n",
      "176:\tlearn: 182.1553576\ttotal: 304ms\tremaining: 555ms\n",
      "177:\tlearn: 181.7774710\ttotal: 306ms\tremaining: 553ms\n",
      "178:\tlearn: 181.4535961\ttotal: 308ms\tremaining: 551ms\n",
      "179:\tlearn: 181.1834803\ttotal: 309ms\tremaining: 550ms\n",
      "180:\tlearn: 180.8520502\ttotal: 311ms\tremaining: 548ms\n",
      "181:\tlearn: 180.5421021\ttotal: 312ms\tremaining: 546ms\n",
      "182:\tlearn: 180.2795035\ttotal: 314ms\tremaining: 544ms\n",
      "183:\tlearn: 179.9494492\ttotal: 316ms\tremaining: 542ms\n",
      "184:\tlearn: 179.6926788\ttotal: 317ms\tremaining: 540ms\n",
      "185:\tlearn: 179.4606578\ttotal: 319ms\tremaining: 539ms\n",
      "186:\tlearn: 179.1383779\ttotal: 321ms\tremaining: 537ms\n",
      "187:\tlearn: 178.8919678\ttotal: 322ms\tremaining: 535ms\n",
      "188:\tlearn: 178.6244933\ttotal: 325ms\tremaining: 534ms\n",
      "189:\tlearn: 178.3580063\ttotal: 327ms\tremaining: 533ms\n",
      "190:\tlearn: 178.1416647\ttotal: 329ms\tremaining: 532ms\n",
      "191:\tlearn: 177.7936591\ttotal: 330ms\tremaining: 530ms\n",
      "192:\tlearn: 177.5784453\ttotal: 332ms\tremaining: 528ms\n",
      "193:\tlearn: 177.3331618\ttotal: 334ms\tremaining: 526ms\n",
      "194:\tlearn: 177.0699971\ttotal: 335ms\tremaining: 525ms\n",
      "195:\tlearn: 176.8669553\ttotal: 337ms\tremaining: 523ms\n",
      "196:\tlearn: 176.6381930\ttotal: 339ms\tremaining: 521ms\n",
      "197:\tlearn: 176.3275091\ttotal: 340ms\tremaining: 519ms\n",
      "198:\tlearn: 176.0882080\ttotal: 342ms\tremaining: 517ms\n",
      "199:\tlearn: 175.8322982\ttotal: 344ms\tremaining: 516ms\n",
      "200:\tlearn: 175.5456988\ttotal: 345ms\tremaining: 514ms\n",
      "201:\tlearn: 175.2547148\ttotal: 347ms\tremaining: 512ms\n",
      "202:\tlearn: 175.0387634\ttotal: 349ms\tremaining: 510ms\n",
      "203:\tlearn: 174.7459164\ttotal: 350ms\tremaining: 509ms\n",
      "204:\tlearn: 174.4865599\ttotal: 352ms\tremaining: 507ms\n",
      "205:\tlearn: 174.2267229\ttotal: 354ms\tremaining: 505ms\n",
      "206:\tlearn: 173.9764463\ttotal: 355ms\tremaining: 503ms\n",
      "207:\tlearn: 173.7244586\ttotal: 357ms\tremaining: 501ms\n",
      "208:\tlearn: 173.4556410\ttotal: 359ms\tremaining: 499ms\n",
      "209:\tlearn: 173.1660684\ttotal: 361ms\tremaining: 498ms\n",
      "210:\tlearn: 172.9530792\ttotal: 362ms\tremaining: 496ms\n",
      "211:\tlearn: 172.7177518\ttotal: 364ms\tremaining: 495ms\n",
      "212:\tlearn: 172.4877784\ttotal: 366ms\tremaining: 493ms\n",
      "213:\tlearn: 172.3002251\ttotal: 367ms\tremaining: 491ms\n",
      "214:\tlearn: 172.1632039\ttotal: 369ms\tremaining: 489ms\n",
      "215:\tlearn: 171.9008134\ttotal: 371ms\tremaining: 487ms\n",
      "216:\tlearn: 171.6606849\ttotal: 372ms\tremaining: 486ms\n",
      "217:\tlearn: 171.4101059\ttotal: 374ms\tremaining: 484ms\n",
      "218:\tlearn: 171.1754626\ttotal: 376ms\tremaining: 482ms\n",
      "219:\tlearn: 170.9346668\ttotal: 377ms\tremaining: 480ms\n",
      "220:\tlearn: 170.7431955\ttotal: 379ms\tremaining: 478ms\n",
      "221:\tlearn: 170.5163196\ttotal: 380ms\tremaining: 476ms\n",
      "222:\tlearn: 170.2073037\ttotal: 382ms\tremaining: 475ms\n",
      "223:\tlearn: 169.9655552\ttotal: 385ms\tremaining: 474ms\n",
      "224:\tlearn: 169.6895556\ttotal: 387ms\tremaining: 473ms\n",
      "225:\tlearn: 169.3997066\ttotal: 389ms\tremaining: 471ms\n",
      "226:\tlearn: 169.1297121\ttotal: 390ms\tremaining: 470ms\n",
      "227:\tlearn: 168.9671364\ttotal: 392ms\tremaining: 468ms\n",
      "228:\tlearn: 168.7494684\ttotal: 394ms\tremaining: 466ms\n",
      "229:\tlearn: 168.4221501\ttotal: 395ms\tremaining: 464ms\n",
      "230:\tlearn: 168.2703827\ttotal: 397ms\tremaining: 462ms\n",
      "231:\tlearn: 168.0551177\ttotal: 399ms\tremaining: 461ms\n",
      "232:\tlearn: 167.8167645\ttotal: 400ms\tremaining: 459ms\n",
      "233:\tlearn: 167.6038295\ttotal: 402ms\tremaining: 457ms\n",
      "234:\tlearn: 167.3773581\ttotal: 404ms\tremaining: 455ms\n",
      "235:\tlearn: 167.1792463\ttotal: 405ms\tremaining: 453ms\n",
      "236:\tlearn: 167.0302839\ttotal: 407ms\tremaining: 452ms\n",
      "237:\tlearn: 166.8439585\ttotal: 409ms\tremaining: 450ms\n",
      "238:\tlearn: 166.6480938\ttotal: 410ms\tremaining: 448ms\n",
      "239:\tlearn: 166.4970452\ttotal: 412ms\tremaining: 446ms\n",
      "240:\tlearn: 166.2718788\ttotal: 414ms\tremaining: 445ms\n",
      "241:\tlearn: 166.0541410\ttotal: 415ms\tremaining: 443ms\n",
      "242:\tlearn: 165.8678200\ttotal: 417ms\tremaining: 441ms\n",
      "243:\tlearn: 165.7146161\ttotal: 419ms\tremaining: 439ms\n",
      "244:\tlearn: 165.4744526\ttotal: 420ms\tremaining: 438ms\n",
      "245:\tlearn: 165.2731850\ttotal: 422ms\tremaining: 436ms\n",
      "246:\tlearn: 165.0731066\ttotal: 424ms\tremaining: 434ms\n",
      "247:\tlearn: 164.8682284\ttotal: 425ms\tremaining: 432ms\n",
      "248:\tlearn: 164.6415814\ttotal: 427ms\tremaining: 430ms\n",
      "249:\tlearn: 164.3741871\ttotal: 429ms\tremaining: 429ms\n",
      "250:\tlearn: 164.1164433\ttotal: 431ms\tremaining: 427ms\n",
      "251:\tlearn: 163.9413539\ttotal: 432ms\tremaining: 426ms\n",
      "252:\tlearn: 163.7646393\ttotal: 434ms\tremaining: 424ms\n",
      "253:\tlearn: 163.5855750\ttotal: 436ms\tremaining: 422ms\n",
      "254:\tlearn: 163.4078291\ttotal: 437ms\tremaining: 420ms\n",
      "255:\tlearn: 163.2100694\ttotal: 439ms\tremaining: 418ms\n",
      "256:\tlearn: 163.0102138\ttotal: 441ms\tremaining: 417ms\n",
      "257:\tlearn: 162.7538902\ttotal: 442ms\tremaining: 415ms\n",
      "258:\tlearn: 162.6081241\ttotal: 444ms\tremaining: 413ms\n",
      "259:\tlearn: 162.4717478\ttotal: 445ms\tremaining: 411ms\n",
      "260:\tlearn: 162.3213744\ttotal: 447ms\tremaining: 409ms\n",
      "261:\tlearn: 162.1394028\ttotal: 449ms\tremaining: 407ms\n",
      "262:\tlearn: 161.9425065\ttotal: 450ms\tremaining: 406ms\n",
      "263:\tlearn: 161.6939941\ttotal: 452ms\tremaining: 404ms\n",
      "264:\tlearn: 161.5150578\ttotal: 453ms\tremaining: 402ms\n",
      "265:\tlearn: 161.3128437\ttotal: 457ms\tremaining: 402ms\n",
      "266:\tlearn: 161.1109348\ttotal: 459ms\tremaining: 401ms\n",
      "267:\tlearn: 160.9194982\ttotal: 461ms\tremaining: 399ms\n",
      "268:\tlearn: 160.8032796\ttotal: 463ms\tremaining: 398ms\n",
      "269:\tlearn: 160.6516577\ttotal: 465ms\tremaining: 396ms\n",
      "270:\tlearn: 160.5125563\ttotal: 466ms\tremaining: 394ms\n",
      "271:\tlearn: 160.2867137\ttotal: 469ms\tremaining: 393ms\n",
      "272:\tlearn: 160.1245179\ttotal: 471ms\tremaining: 392ms\n",
      "273:\tlearn: 159.8682660\ttotal: 473ms\tremaining: 390ms\n",
      "274:\tlearn: 159.6623494\ttotal: 477ms\tremaining: 390ms\n",
      "275:\tlearn: 159.4483737\ttotal: 479ms\tremaining: 388ms\n",
      "276:\tlearn: 159.2872328\ttotal: 481ms\tremaining: 387ms\n",
      "277:\tlearn: 159.1139951\ttotal: 483ms\tremaining: 386ms\n",
      "278:\tlearn: 158.9540040\ttotal: 485ms\tremaining: 384ms\n",
      "279:\tlearn: 158.7697372\ttotal: 487ms\tremaining: 383ms\n",
      "280:\tlearn: 158.5934067\ttotal: 489ms\tremaining: 381ms\n",
      "281:\tlearn: 158.4430167\ttotal: 490ms\tremaining: 379ms\n",
      "282:\tlearn: 158.2570889\ttotal: 492ms\tremaining: 377ms\n",
      "283:\tlearn: 158.0652110\ttotal: 494ms\tremaining: 376ms\n",
      "284:\tlearn: 157.9060617\ttotal: 495ms\tremaining: 374ms\n",
      "285:\tlearn: 157.7742536\ttotal: 497ms\tremaining: 372ms\n",
      "286:\tlearn: 157.6247073\ttotal: 499ms\tremaining: 370ms\n",
      "287:\tlearn: 157.5143854\ttotal: 500ms\tremaining: 368ms\n",
      "288:\tlearn: 157.3499738\ttotal: 502ms\tremaining: 366ms\n",
      "289:\tlearn: 157.1323779\ttotal: 503ms\tremaining: 365ms\n",
      "290:\tlearn: 156.9968678\ttotal: 505ms\tremaining: 363ms\n",
      "291:\tlearn: 156.9097143\ttotal: 507ms\tremaining: 361ms\n",
      "292:\tlearn: 156.6475027\ttotal: 508ms\tremaining: 359ms\n",
      "293:\tlearn: 156.4507149\ttotal: 510ms\tremaining: 357ms\n",
      "294:\tlearn: 156.2939096\ttotal: 512ms\tremaining: 356ms\n",
      "295:\tlearn: 156.1482913\ttotal: 513ms\tremaining: 354ms\n",
      "296:\tlearn: 155.9551166\ttotal: 515ms\tremaining: 352ms\n",
      "297:\tlearn: 155.7527122\ttotal: 517ms\tremaining: 350ms\n",
      "298:\tlearn: 155.5885718\ttotal: 518ms\tremaining: 348ms\n",
      "299:\tlearn: 155.4108636\ttotal: 520ms\tremaining: 347ms\n",
      "300:\tlearn: 155.2642572\ttotal: 522ms\tremaining: 345ms\n",
      "301:\tlearn: 155.1189358\ttotal: 523ms\tremaining: 343ms\n",
      "302:\tlearn: 154.9588400\ttotal: 525ms\tremaining: 341ms\n",
      "303:\tlearn: 154.7574244\ttotal: 527ms\tremaining: 340ms\n",
      "304:\tlearn: 154.5514346\ttotal: 528ms\tremaining: 338ms\n",
      "305:\tlearn: 154.3823245\ttotal: 530ms\tremaining: 336ms\n",
      "306:\tlearn: 154.2534500\ttotal: 531ms\tremaining: 334ms\n",
      "307:\tlearn: 154.1345744\ttotal: 533ms\tremaining: 332ms\n",
      "308:\tlearn: 153.9938989\ttotal: 535ms\tremaining: 331ms\n",
      "309:\tlearn: 153.7903868\ttotal: 536ms\tremaining: 329ms\n",
      "310:\tlearn: 153.6649616\ttotal: 538ms\tremaining: 327ms\n",
      "311:\tlearn: 153.4679815\ttotal: 540ms\tremaining: 325ms\n",
      "312:\tlearn: 153.3291664\ttotal: 541ms\tremaining: 323ms\n",
      "313:\tlearn: 153.1385840\ttotal: 543ms\tremaining: 322ms\n",
      "314:\tlearn: 152.9347313\ttotal: 545ms\tremaining: 320ms\n",
      "315:\tlearn: 152.7572082\ttotal: 546ms\tremaining: 318ms\n",
      "316:\tlearn: 152.5744389\ttotal: 548ms\tremaining: 316ms\n",
      "317:\tlearn: 152.4361103\ttotal: 549ms\tremaining: 314ms\n",
      "318:\tlearn: 152.2731199\ttotal: 551ms\tremaining: 313ms\n",
      "319:\tlearn: 152.1744157\ttotal: 553ms\tremaining: 311ms\n",
      "320:\tlearn: 152.0167175\ttotal: 554ms\tremaining: 309ms\n",
      "321:\tlearn: 151.9129542\ttotal: 556ms\tremaining: 307ms\n",
      "322:\tlearn: 151.8052099\ttotal: 557ms\tremaining: 305ms\n",
      "323:\tlearn: 151.6719053\ttotal: 559ms\tremaining: 304ms\n",
      "324:\tlearn: 151.4969498\ttotal: 561ms\tremaining: 302ms\n",
      "325:\tlearn: 151.3537297\ttotal: 562ms\tremaining: 300ms\n",
      "326:\tlearn: 151.1862263\ttotal: 564ms\tremaining: 298ms\n",
      "327:\tlearn: 151.0770060\ttotal: 566ms\tremaining: 297ms\n",
      "328:\tlearn: 150.9153594\ttotal: 567ms\tremaining: 295ms\n",
      "329:\tlearn: 150.8150130\ttotal: 569ms\tremaining: 293ms\n",
      "330:\tlearn: 150.6444885\ttotal: 570ms\tremaining: 291ms\n",
      "331:\tlearn: 150.4199819\ttotal: 573ms\tremaining: 290ms\n",
      "332:\tlearn: 150.1725905\ttotal: 576ms\tremaining: 289ms\n",
      "333:\tlearn: 150.0375276\ttotal: 578ms\tremaining: 287ms\n",
      "334:\tlearn: 149.8299345\ttotal: 580ms\tremaining: 286ms\n",
      "335:\tlearn: 149.7038935\ttotal: 582ms\tremaining: 284ms\n",
      "336:\tlearn: 149.6110429\ttotal: 584ms\tremaining: 282ms\n",
      "337:\tlearn: 149.5151232\ttotal: 585ms\tremaining: 281ms\n",
      "338:\tlearn: 149.3642330\ttotal: 587ms\tremaining: 279ms\n",
      "339:\tlearn: 149.2556713\ttotal: 589ms\tremaining: 277ms\n",
      "340:\tlearn: 149.0918940\ttotal: 591ms\tremaining: 275ms\n",
      "341:\tlearn: 148.9380019\ttotal: 592ms\tremaining: 274ms\n",
      "342:\tlearn: 148.7705200\ttotal: 594ms\tremaining: 272ms\n",
      "343:\tlearn: 148.5919226\ttotal: 596ms\tremaining: 270ms\n",
      "344:\tlearn: 148.4203099\ttotal: 597ms\tremaining: 268ms\n",
      "345:\tlearn: 148.2833086\ttotal: 599ms\tremaining: 267ms\n",
      "346:\tlearn: 148.1852828\ttotal: 601ms\tremaining: 265ms\n",
      "347:\tlearn: 148.0318464\ttotal: 602ms\tremaining: 263ms\n",
      "348:\tlearn: 147.9363589\ttotal: 604ms\tremaining: 261ms\n",
      "349:\tlearn: 147.7549635\ttotal: 606ms\tremaining: 260ms\n",
      "350:\tlearn: 147.6205180\ttotal: 607ms\tremaining: 258ms\n",
      "351:\tlearn: 147.4946351\ttotal: 609ms\tremaining: 256ms\n",
      "352:\tlearn: 147.3492470\ttotal: 610ms\tremaining: 254ms\n",
      "353:\tlearn: 147.2044703\ttotal: 612ms\tremaining: 253ms\n",
      "354:\tlearn: 146.9942113\ttotal: 614ms\tremaining: 251ms\n",
      "355:\tlearn: 146.8284305\ttotal: 616ms\tremaining: 249ms\n",
      "356:\tlearn: 146.6653387\ttotal: 617ms\tremaining: 247ms\n",
      "357:\tlearn: 146.5546874\ttotal: 619ms\tremaining: 246ms\n",
      "358:\tlearn: 146.4867601\ttotal: 621ms\tremaining: 244ms\n",
      "359:\tlearn: 146.2808050\ttotal: 622ms\tremaining: 242ms\n",
      "360:\tlearn: 146.1707102\ttotal: 624ms\tremaining: 240ms\n",
      "361:\tlearn: 145.9975138\ttotal: 626ms\tremaining: 238ms\n",
      "362:\tlearn: 145.8575590\ttotal: 627ms\tremaining: 237ms\n",
      "363:\tlearn: 145.6755259\ttotal: 629ms\tremaining: 235ms\n",
      "364:\tlearn: 145.5413351\ttotal: 630ms\tremaining: 233ms\n",
      "365:\tlearn: 145.3615317\ttotal: 632ms\tremaining: 231ms\n",
      "366:\tlearn: 145.2211879\ttotal: 634ms\tremaining: 230ms\n",
      "367:\tlearn: 145.0885052\ttotal: 635ms\tremaining: 228ms\n",
      "368:\tlearn: 144.9368233\ttotal: 637ms\tremaining: 226ms\n",
      "369:\tlearn: 144.8175220\ttotal: 639ms\tremaining: 224ms\n",
      "370:\tlearn: 144.6186438\ttotal: 640ms\tremaining: 223ms\n",
      "371:\tlearn: 144.3947937\ttotal: 642ms\tremaining: 221ms\n",
      "372:\tlearn: 144.2224673\ttotal: 643ms\tremaining: 219ms\n",
      "373:\tlearn: 144.0540275\ttotal: 645ms\tremaining: 217ms\n",
      "374:\tlearn: 143.9811853\ttotal: 647ms\tremaining: 216ms\n",
      "375:\tlearn: 143.8450364\ttotal: 648ms\tremaining: 214ms\n",
      "376:\tlearn: 143.7316755\ttotal: 650ms\tremaining: 212ms\n",
      "377:\tlearn: 143.5695632\ttotal: 652ms\tremaining: 210ms\n",
      "378:\tlearn: 143.4335878\ttotal: 654ms\tremaining: 209ms\n",
      "379:\tlearn: 143.2784636\ttotal: 656ms\tremaining: 207ms\n",
      "380:\tlearn: 143.1670785\ttotal: 657ms\tremaining: 205ms\n",
      "381:\tlearn: 143.0640431\ttotal: 659ms\tremaining: 204ms\n",
      "382:\tlearn: 142.9969542\ttotal: 661ms\tremaining: 202ms\n",
      "383:\tlearn: 142.9253706\ttotal: 663ms\tremaining: 200ms\n",
      "384:\tlearn: 142.8330001\ttotal: 666ms\tremaining: 199ms\n",
      "385:\tlearn: 142.6797152\ttotal: 668ms\tremaining: 197ms\n",
      "386:\tlearn: 142.5330964\ttotal: 670ms\tremaining: 196ms\n",
      "387:\tlearn: 142.4211841\ttotal: 671ms\tremaining: 194ms\n",
      "388:\tlearn: 142.3031566\ttotal: 673ms\tremaining: 192ms\n",
      "389:\tlearn: 142.2315004\ttotal: 675ms\tremaining: 190ms\n",
      "390:\tlearn: 142.0820175\ttotal: 677ms\tremaining: 189ms\n",
      "391:\tlearn: 141.9578582\ttotal: 678ms\tremaining: 187ms\n",
      "392:\tlearn: 141.8520015\ttotal: 680ms\tremaining: 185ms\n",
      "393:\tlearn: 141.7477262\ttotal: 682ms\tremaining: 183ms\n",
      "394:\tlearn: 141.6219346\ttotal: 683ms\tremaining: 182ms\n",
      "395:\tlearn: 141.4679718\ttotal: 685ms\tremaining: 180ms\n",
      "396:\tlearn: 141.3727231\ttotal: 686ms\tremaining: 178ms\n",
      "397:\tlearn: 141.2594586\ttotal: 688ms\tremaining: 176ms\n",
      "398:\tlearn: 141.1672782\ttotal: 690ms\tremaining: 175ms\n",
      "399:\tlearn: 141.0582234\ttotal: 691ms\tremaining: 173ms\n",
      "400:\tlearn: 140.9056479\ttotal: 693ms\tremaining: 171ms\n",
      "401:\tlearn: 140.7949989\ttotal: 695ms\tremaining: 169ms\n",
      "402:\tlearn: 140.5921425\ttotal: 696ms\tremaining: 168ms\n",
      "403:\tlearn: 140.5009219\ttotal: 698ms\tremaining: 166ms\n",
      "404:\tlearn: 140.3600177\ttotal: 699ms\tremaining: 164ms\n",
      "405:\tlearn: 140.2299930\ttotal: 701ms\tremaining: 162ms\n",
      "406:\tlearn: 140.1206423\ttotal: 703ms\tremaining: 161ms\n",
      "407:\tlearn: 139.9640211\ttotal: 704ms\tremaining: 159ms\n",
      "408:\tlearn: 139.8102670\ttotal: 706ms\tremaining: 157ms\n",
      "409:\tlearn: 139.7072629\ttotal: 708ms\tremaining: 155ms\n",
      "410:\tlearn: 139.5886846\ttotal: 709ms\tremaining: 154ms\n",
      "411:\tlearn: 139.4724686\ttotal: 711ms\tremaining: 152ms\n",
      "412:\tlearn: 139.3414057\ttotal: 712ms\tremaining: 150ms\n",
      "413:\tlearn: 139.2107724\ttotal: 714ms\tremaining: 148ms\n",
      "414:\tlearn: 139.1101327\ttotal: 716ms\tremaining: 147ms\n",
      "415:\tlearn: 139.0171866\ttotal: 717ms\tremaining: 145ms\n",
      "416:\tlearn: 138.9154351\ttotal: 719ms\tremaining: 143ms\n",
      "417:\tlearn: 138.8217382\ttotal: 721ms\tremaining: 141ms\n",
      "418:\tlearn: 138.6914112\ttotal: 722ms\tremaining: 140ms\n",
      "419:\tlearn: 138.6167577\ttotal: 724ms\tremaining: 138ms\n",
      "420:\tlearn: 138.4716850\ttotal: 726ms\tremaining: 136ms\n",
      "421:\tlearn: 138.3326355\ttotal: 727ms\tremaining: 134ms\n",
      "422:\tlearn: 138.2333972\ttotal: 729ms\tremaining: 133ms\n",
      "423:\tlearn: 138.1047530\ttotal: 730ms\tremaining: 131ms\n",
      "424:\tlearn: 138.0116738\ttotal: 732ms\tremaining: 129ms\n",
      "425:\tlearn: 137.8829082\ttotal: 734ms\tremaining: 127ms\n",
      "426:\tlearn: 137.7693614\ttotal: 735ms\tremaining: 126ms\n",
      "427:\tlearn: 137.6314360\ttotal: 737ms\tremaining: 124ms\n",
      "428:\tlearn: 137.5018993\ttotal: 739ms\tremaining: 122ms\n",
      "429:\tlearn: 137.4441513\ttotal: 740ms\tremaining: 120ms\n",
      "430:\tlearn: 137.3210076\ttotal: 742ms\tremaining: 119ms\n",
      "431:\tlearn: 137.1709932\ttotal: 743ms\tremaining: 117ms\n",
      "432:\tlearn: 137.0407541\ttotal: 745ms\tremaining: 115ms\n",
      "433:\tlearn: 136.9692586\ttotal: 747ms\tremaining: 114ms\n",
      "434:\tlearn: 136.8812350\ttotal: 748ms\tremaining: 112ms\n",
      "435:\tlearn: 136.7194137\ttotal: 750ms\tremaining: 110ms\n",
      "436:\tlearn: 136.6238567\ttotal: 752ms\tremaining: 108ms\n",
      "437:\tlearn: 136.5597143\ttotal: 753ms\tremaining: 107ms\n",
      "438:\tlearn: 136.4783819\ttotal: 755ms\tremaining: 105ms\n",
      "439:\tlearn: 136.4034793\ttotal: 756ms\tremaining: 103ms\n",
      "440:\tlearn: 136.3110676\ttotal: 758ms\tremaining: 101ms\n",
      "441:\tlearn: 136.2132152\ttotal: 760ms\tremaining: 99.8ms\n",
      "442:\tlearn: 136.0994838\ttotal: 763ms\tremaining: 98.1ms\n",
      "443:\tlearn: 135.8996670\ttotal: 765ms\tremaining: 96.4ms\n",
      "444:\tlearn: 135.7683053\ttotal: 766ms\tremaining: 94.7ms\n",
      "445:\tlearn: 135.6154103\ttotal: 768ms\tremaining: 93ms\n",
      "446:\tlearn: 135.5003460\ttotal: 770ms\tremaining: 91.3ms\n",
      "447:\tlearn: 135.3863390\ttotal: 771ms\tremaining: 89.5ms\n",
      "448:\tlearn: 135.2405673\ttotal: 773ms\tremaining: 87.8ms\n",
      "449:\tlearn: 135.0940119\ttotal: 775ms\tremaining: 86.1ms\n",
      "450:\tlearn: 134.9976393\ttotal: 776ms\tremaining: 84.3ms\n",
      "451:\tlearn: 134.8653093\ttotal: 778ms\tremaining: 82.6ms\n",
      "452:\tlearn: 134.7195391\ttotal: 780ms\tremaining: 80.9ms\n",
      "453:\tlearn: 134.6246298\ttotal: 781ms\tremaining: 79.1ms\n",
      "454:\tlearn: 134.5082693\ttotal: 783ms\tremaining: 77.4ms\n",
      "455:\tlearn: 134.4512904\ttotal: 785ms\tremaining: 75.7ms\n",
      "456:\tlearn: 134.3704435\ttotal: 786ms\tremaining: 74ms\n",
      "457:\tlearn: 134.2877292\ttotal: 788ms\tremaining: 72.2ms\n",
      "458:\tlearn: 134.2045842\ttotal: 789ms\tremaining: 70.5ms\n",
      "459:\tlearn: 134.1223900\ttotal: 791ms\tremaining: 68.8ms\n",
      "460:\tlearn: 134.0406707\ttotal: 793ms\tremaining: 67.1ms\n",
      "461:\tlearn: 133.9125447\ttotal: 794ms\tremaining: 65.3ms\n",
      "462:\tlearn: 133.8265901\ttotal: 796ms\tremaining: 63.6ms\n",
      "463:\tlearn: 133.7055567\ttotal: 798ms\tremaining: 61.9ms\n",
      "464:\tlearn: 133.5672141\ttotal: 799ms\tremaining: 60.2ms\n",
      "465:\tlearn: 133.4277165\ttotal: 801ms\tremaining: 58.4ms\n",
      "466:\tlearn: 133.2942581\ttotal: 803ms\tremaining: 56.7ms\n",
      "467:\tlearn: 133.1614752\ttotal: 804ms\tremaining: 55ms\n",
      "468:\tlearn: 133.0116229\ttotal: 806ms\tremaining: 53.3ms\n",
      "469:\tlearn: 132.8978492\ttotal: 808ms\tremaining: 51.6ms\n",
      "470:\tlearn: 132.7702123\ttotal: 809ms\tremaining: 49.8ms\n",
      "471:\tlearn: 132.6643962\ttotal: 811ms\tremaining: 48.1ms\n",
      "472:\tlearn: 132.5243678\ttotal: 813ms\tremaining: 46.4ms\n",
      "473:\tlearn: 132.4392210\ttotal: 814ms\tremaining: 44.7ms\n",
      "474:\tlearn: 132.3208617\ttotal: 816ms\tremaining: 42.9ms\n",
      "475:\tlearn: 132.1747854\ttotal: 818ms\tremaining: 41.2ms\n",
      "476:\tlearn: 132.0724565\ttotal: 819ms\tremaining: 39.5ms\n",
      "477:\tlearn: 131.9655679\ttotal: 821ms\tremaining: 37.8ms\n",
      "478:\tlearn: 131.8372081\ttotal: 823ms\tremaining: 36.1ms\n",
      "479:\tlearn: 131.6986070\ttotal: 824ms\tremaining: 34.4ms\n",
      "480:\tlearn: 131.6083349\ttotal: 826ms\tremaining: 32.6ms\n",
      "481:\tlearn: 131.5413423\ttotal: 828ms\tremaining: 30.9ms\n",
      "482:\tlearn: 131.4887707\ttotal: 830ms\tremaining: 29.2ms\n",
      "483:\tlearn: 131.4359669\ttotal: 831ms\tremaining: 27.5ms\n",
      "484:\tlearn: 131.3780503\ttotal: 833ms\tremaining: 25.8ms\n",
      "485:\tlearn: 131.2627681\ttotal: 835ms\tremaining: 24ms\n",
      "486:\tlearn: 131.1941503\ttotal: 836ms\tremaining: 22.3ms\n",
      "487:\tlearn: 131.1217472\ttotal: 838ms\tremaining: 20.6ms\n",
      "488:\tlearn: 131.0156439\ttotal: 840ms\tremaining: 18.9ms\n",
      "489:\tlearn: 130.9425987\ttotal: 841ms\tremaining: 17.2ms\n",
      "490:\tlearn: 130.8135713\ttotal: 843ms\tremaining: 15.4ms\n",
      "491:\tlearn: 130.7324730\ttotal: 845ms\tremaining: 13.7ms\n",
      "492:\tlearn: 130.6460612\ttotal: 846ms\tremaining: 12ms\n",
      "493:\tlearn: 130.5556269\ttotal: 848ms\tremaining: 10.3ms\n",
      "494:\tlearn: 130.4714529\ttotal: 849ms\tremaining: 8.58ms\n",
      "495:\tlearn: 130.3156530\ttotal: 851ms\tremaining: 6.86ms\n",
      "496:\tlearn: 130.2375372\ttotal: 853ms\tremaining: 5.15ms\n",
      "497:\tlearn: 130.1115742\ttotal: 854ms\tremaining: 3.43ms\n",
      "498:\tlearn: 129.9984685\ttotal: 856ms\tremaining: 1.72ms\n",
      "499:\tlearn: 129.8959296\ttotal: 858ms\tremaining: 0us\n",
      "CatB_RMSE = 250.7911912424646\n"
     ]
    }
   ],
   "source": [
    "catb_params = {\"iterations\": [200,500,100],\n",
    "              \"learning_rate\": [0.01,0.1,0.0001],\n",
    "              \"depth\": [3,6,8]}\n",
    "catb_model = CatBoostRegressor()\n",
    "catb_cv_model = GridSearchCV(catb_model, \n",
    "                           catb_params, \n",
    "                           cv = 5, \n",
    "                           n_jobs = -1, \n",
    "                           verbose = 2).fit(X_train, y_train)\n",
    "print('Best_params= ', catb_cv_model.best_params_)\n",
    "\n",
    "catb_tuned = CatBoostRegressor(**catb_cv_model.best_params_).fit(X_train, y_train)\n",
    "CatB_RMSE = np.sqrt(mean_squared_error(y_test, y_pred))\n",
    "print('CatB_RMSE =', CatB_RMSE)"
   ]
  },
  {
   "cell_type": "markdown",
   "metadata": {},
   "source": [
    "# All Models"
   ]
  },
  {
   "cell_type": "code",
   "execution_count": 1,
   "metadata": {},
   "outputs": [
    {
     "ename": "AttributeError",
     "evalue": "'NoneType' object has no attribute 'DataFrame'",
     "output_type": "error",
     "traceback": [
      "\u001b[1;31m---------------------------------------------------------------------------\u001b[0m",
      "\u001b[1;31mAttributeError\u001b[0m                            Traceback (most recent call last)",
      "\u001b[1;32m<ipython-input-1-764b57fe1e38>\u001b[0m in \u001b[0;36m<module>\u001b[1;34m\u001b[0m\n\u001b[1;32m----> 1\u001b[1;33m result_RMSE = pd.DataFrame({'Base_RMSE':[Linear_RMSE, Ridg_RMSE,Lass_RMSE,Ent_RMSE, KN_RMSE,CaRT_RMSE,Rf_RMSE,Svr_RMSE,Svr_RMSE,Gbm_RMSE,XgBoost_GBM, LightGbm_RMSE,Catb_RMSE],\n\u001b[0m\u001b[0;32m      2\u001b[0m     'Tuned_RMSE':['X',Ridge_RMSE, Lasso_RMSE, Enet_RMSE, KNN_RMSE, CART_RMSE, RF_RMSE, SVR_Lin_RMSE, SVR_Nlin_RMSE, GBM_RMSE, XGBoost_GBM, LightGBM_RMSE, CatB_RMSE]})\n\u001b[0;32m      3\u001b[0m \u001b[0mresult_RMSE\u001b[0m\u001b[1;33m.\u001b[0m\u001b[0mindex\u001b[0m \u001b[1;33m=\u001b[0m \u001b[1;33m[\u001b[0m\u001b[1;34m'Linear'\u001b[0m\u001b[1;33m,\u001b[0m\u001b[1;34m'Ridge'\u001b[0m\u001b[1;33m,\u001b[0m\u001b[1;34m'Lasso'\u001b[0m\u001b[1;33m,\u001b[0m\u001b[1;34m'ENet'\u001b[0m\u001b[1;33m,\u001b[0m\u001b[1;34m'KNN'\u001b[0m\u001b[1;33m,\u001b[0m\u001b[1;34m'CART'\u001b[0m\u001b[1;33m,\u001b[0m\u001b[1;34m'RF'\u001b[0m\u001b[1;33m,\u001b[0m\u001b[1;34m'SVR_Lin'\u001b[0m\u001b[1;33m,\u001b[0m\u001b[1;34m'SVR_Nlin'\u001b[0m\u001b[1;33m,\u001b[0m\u001b[1;34m'GBM'\u001b[0m\u001b[1;33m,\u001b[0m\u001b[1;34m'XGBoost'\u001b[0m\u001b[1;33m,\u001b[0m\u001b[1;34m'LightGBM'\u001b[0m\u001b[1;33m,\u001b[0m\u001b[1;34m'CatBoost'\u001b[0m\u001b[1;33m]\u001b[0m\u001b[1;33m\u001b[0m\u001b[1;33m\u001b[0m\u001b[0m\n\u001b[0;32m      4\u001b[0m \u001b[0mresult_RMSE\u001b[0m\u001b[1;33m.\u001b[0m\u001b[0mT\u001b[0m\u001b[1;33m\u001b[0m\u001b[1;33m\u001b[0m\u001b[0m\n",
      "\u001b[1;31mAttributeError\u001b[0m: 'NoneType' object has no attribute 'DataFrame'"
     ]
    }
   ],
   "source": [
    "result_RMSE = pd.DataFrame({'Base_RMSE':[Linear_RMSE, Ridg_RMSE,Lass_RMSE,Ent_RMSE, KN_RMSE,CaRT_RMSE,Rf_RMSE,Svr_RMSE,Svr_RMSE,Gbm_RMSE,XgBoost_GBM, LightGbm_RMSE,Catb_RMSE],\n",
    "    'Tuned_RMSE':['X',Ridge_RMSE, Lasso_RMSE, Enet_RMSE, KNN_RMSE, CART_RMSE, RF_RMSE, SVR_Lin_RMSE, SVR_Nlin_RMSE, GBM_RMSE, XGBoost_GBM, LightGBM_RMSE, CatB_RMSE]})\n",
    "result_RMSE.index = ['Linear','Ridge','Lasso','ENet','KNN','CART','RF','SVR_Lin','SVR_Nlin','GBM','XGBoost','LightGBM','CatBoost']\n",
    "result_RMSE.T"
   ]
  },
  {
   "cell_type": "markdown",
   "metadata": {},
   "source": [
    "## OZET \n",
    "\n",
    "Hitters veri seti için gorudugumuz tum  makine öğrenmesi modelini kurup, hata skorlarını minimize etmeye calistim.\n",
    "\n",
    "#### **1).** Hitters Veri Seti okundu.\n",
    "#### **2).** Keşifçi Veri Analizi ile;\n",
    "* veri setinin yapısal bilgilerine bakıldı.\n",
    "* veri setindeki değişkenlerin tiplerine bakıldı.\n",
    "* object tipindeki degiskenler incelendi kategorik tipe dönüştürme işlemi yapıldı.\n",
    "\n",
    "#### **3).** Veri Ön İşleme kısmında; \n",
    "* \"Salary\" de IQR incelemesi yapildi ve bulunan degerler silindi. \n",
    "* \"Salary\" deki eksik veriler ortalama ile dolduruldu\n",
    "* kategorik değişkenlere one-hot-encoding dönüşümü uygulandı.\n",
    "* kategorik değişkeni içermeyen ve bağımlı değişkenin(Salary) atılmış hali üzerinden değişken standardizasyonu uygulandı.\n",
    "\n",
    "#### **4).** Model Kurma aşamasında;\n",
    "\n",
    "Öğrendiğimiz tum yöntemler icin Base modeller icin RMSE hesaplandi daha sonra hiperparametre optimizasyonları ile bu modeller tune edilerek RMSE degerinin dusurulmesi icin calisildi."
   ]
  },
  {
   "cell_type": "code",
   "execution_count": null,
   "metadata": {},
   "outputs": [],
   "source": []
  }
 ],
 "metadata": {
  "kernelspec": {
   "display_name": "Python 3",
   "language": "python",
   "name": "python3"
  },
  "language_info": {
   "codemirror_mode": {
    "name": "ipython",
    "version": 3
   },
   "file_extension": ".py",
   "mimetype": "text/x-python",
   "name": "python",
   "nbconvert_exporter": "python",
   "pygments_lexer": "ipython3",
   "version": "3.7.6"
  }
 },
 "nbformat": 4,
 "nbformat_minor": 4
}
