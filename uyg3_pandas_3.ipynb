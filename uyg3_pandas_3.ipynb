{
 "cells": [
  {
   "cell_type": "markdown",
   "metadata": {
    "toc-hr-collapsed": false
   },
   "source": [
    "## Aggregating"
   ]
  },
  {
   "cell_type": "markdown",
   "metadata": {
    "toc-hr-collapsed": false
   },
   "source": [
    "### ozet istatistikler"
   ]
  },
  {
   "cell_type": "code",
   "execution_count": 1,
   "metadata": {},
   "outputs": [],
   "source": [
    "import pandas as pd\n",
    "# !!!  yukaridaki dataframe i df olarak kaydettik, buradaki dataframe i farkli bir isimle kaydedelim:\n",
    "satislar = pd.read_pickle(\"walmart_sales.pkl\")"
   ]
  },
  {
   "cell_type": "markdown",
   "metadata": {},
   "source": [
    "37. satislar dataframe'inin ilk bes gozlemini yazdiriniz"
   ]
  },
  {
   "cell_type": "code",
   "execution_count": 2,
   "metadata": {},
   "outputs": [
    {
     "data": {
      "text/html": [
       "<div>\n",
       "<style scoped>\n",
       "    .dataframe tbody tr th:only-of-type {\n",
       "        vertical-align: middle;\n",
       "    }\n",
       "\n",
       "    .dataframe tbody tr th {\n",
       "        vertical-align: top;\n",
       "    }\n",
       "\n",
       "    .dataframe thead th {\n",
       "        text-align: right;\n",
       "    }\n",
       "</style>\n",
       "<table border=\"1\" class=\"dataframe\">\n",
       "  <thead>\n",
       "    <tr style=\"text-align: right;\">\n",
       "      <th></th>\n",
       "      <th>store</th>\n",
       "      <th>type</th>\n",
       "      <th>department</th>\n",
       "      <th>date</th>\n",
       "      <th>weekly_sales</th>\n",
       "      <th>is_holiday</th>\n",
       "      <th>temperature_c</th>\n",
       "      <th>fuel_price_usd_per_l</th>\n",
       "      <th>unemployment</th>\n",
       "    </tr>\n",
       "  </thead>\n",
       "  <tbody>\n",
       "    <tr>\n",
       "      <th>0</th>\n",
       "      <td>1</td>\n",
       "      <td>A</td>\n",
       "      <td>1</td>\n",
       "      <td>2010-02-05</td>\n",
       "      <td>24924.50</td>\n",
       "      <td>False</td>\n",
       "      <td>5.727778</td>\n",
       "      <td>0.679451</td>\n",
       "      <td>8.106</td>\n",
       "    </tr>\n",
       "    <tr>\n",
       "      <th>1</th>\n",
       "      <td>1</td>\n",
       "      <td>A</td>\n",
       "      <td>2</td>\n",
       "      <td>2010-02-05</td>\n",
       "      <td>50605.27</td>\n",
       "      <td>False</td>\n",
       "      <td>5.727778</td>\n",
       "      <td>0.679451</td>\n",
       "      <td>8.106</td>\n",
       "    </tr>\n",
       "    <tr>\n",
       "      <th>2</th>\n",
       "      <td>1</td>\n",
       "      <td>A</td>\n",
       "      <td>3</td>\n",
       "      <td>2010-02-05</td>\n",
       "      <td>13740.12</td>\n",
       "      <td>False</td>\n",
       "      <td>5.727778</td>\n",
       "      <td>0.679451</td>\n",
       "      <td>8.106</td>\n",
       "    </tr>\n",
       "    <tr>\n",
       "      <th>3</th>\n",
       "      <td>1</td>\n",
       "      <td>A</td>\n",
       "      <td>4</td>\n",
       "      <td>2010-02-05</td>\n",
       "      <td>39954.04</td>\n",
       "      <td>False</td>\n",
       "      <td>5.727778</td>\n",
       "      <td>0.679451</td>\n",
       "      <td>8.106</td>\n",
       "    </tr>\n",
       "    <tr>\n",
       "      <th>4</th>\n",
       "      <td>1</td>\n",
       "      <td>A</td>\n",
       "      <td>5</td>\n",
       "      <td>2010-02-05</td>\n",
       "      <td>32229.38</td>\n",
       "      <td>False</td>\n",
       "      <td>5.727778</td>\n",
       "      <td>0.679451</td>\n",
       "      <td>8.106</td>\n",
       "    </tr>\n",
       "  </tbody>\n",
       "</table>\n",
       "</div>"
      ],
      "text/plain": [
       "   store type  department       date  weekly_sales  is_holiday  temperature_c  \\\n",
       "0      1    A           1 2010-02-05      24924.50       False       5.727778   \n",
       "1      1    A           2 2010-02-05      50605.27       False       5.727778   \n",
       "2      1    A           3 2010-02-05      13740.12       False       5.727778   \n",
       "3      1    A           4 2010-02-05      39954.04       False       5.727778   \n",
       "4      1    A           5 2010-02-05      32229.38       False       5.727778   \n",
       "\n",
       "   fuel_price_usd_per_l  unemployment  \n",
       "0              0.679451         8.106  \n",
       "1              0.679451         8.106  \n",
       "2              0.679451         8.106  \n",
       "3              0.679451         8.106  \n",
       "4              0.679451         8.106  "
      ]
     },
     "execution_count": 2,
     "metadata": {},
     "output_type": "execute_result"
    }
   ],
   "source": [
    "satislar.head(5)"
   ]
  },
  {
   "cell_type": "markdown",
   "metadata": {},
   "source": [
    "38. satislar dataframe'i hakkinda yapisal bilgileri yazdirin"
   ]
  },
  {
   "cell_type": "code",
   "execution_count": 3,
   "metadata": {},
   "outputs": [
    {
     "data": {
      "text/plain": [
       "<bound method DataFrame.info of         store type  department       date  weekly_sales  is_holiday  \\\n",
       "0           1    A           1 2010-02-05      24924.50       False   \n",
       "1           1    A           2 2010-02-05      50605.27       False   \n",
       "2           1    A           3 2010-02-05      13740.12       False   \n",
       "3           1    A           4 2010-02-05      39954.04       False   \n",
       "4           1    A           5 2010-02-05      32229.38       False   \n",
       "...       ...  ...         ...        ...           ...         ...   \n",
       "413114     45    B           4 2012-10-26      24627.94       False   \n",
       "413115     45    B           5 2012-10-26      13256.59       False   \n",
       "413116     45    B           6 2012-10-26       1086.31       False   \n",
       "413117     45    B           7 2012-10-26      20356.73       False   \n",
       "413118     45    B           8 2012-10-26      37857.64       False   \n",
       "\n",
       "        temperature_c  fuel_price_usd_per_l  unemployment  \n",
       "0            5.727778              0.679451         8.106  \n",
       "1            5.727778              0.679451         8.106  \n",
       "2            5.727778              0.679451         8.106  \n",
       "3            5.727778              0.679451         8.106  \n",
       "4            5.727778              0.679451         8.106  \n",
       "...               ...                   ...           ...  \n",
       "413114      14.916667              1.025516         8.667  \n",
       "413115      14.916667              1.025516         8.667  \n",
       "413116      14.916667              1.025516         8.667  \n",
       "413117      14.916667              1.025516         8.667  \n",
       "413118      14.916667              1.025516         8.667  \n",
       "\n",
       "[413119 rows x 9 columns]>"
      ]
     },
     "execution_count": 3,
     "metadata": {},
     "output_type": "execute_result"
    }
   ],
   "source": [
    "satislar.info"
   ]
  },
  {
   "cell_type": "markdown",
   "metadata": {},
   "source": [
    "39. weekly_sales degiskeninin ortalamasini yazdiriniz:"
   ]
  },
  {
   "cell_type": "code",
   "execution_count": 6,
   "metadata": {},
   "outputs": [
    {
     "data": {
      "text/plain": [
       "16094.726811185497"
      ]
     },
     "execution_count": 6,
     "metadata": {},
     "output_type": "execute_result"
    }
   ],
   "source": [
    "satislar['weekly_sales'].mean()"
   ]
  },
  {
   "cell_type": "markdown",
   "metadata": {},
   "source": [
    "40. weekly_sales degiskeninin ortanca degerini yazdiriniz: "
   ]
  },
  {
   "cell_type": "code",
   "execution_count": 7,
   "metadata": {},
   "outputs": [
    {
     "data": {
      "text/plain": [
       "7682.47"
      ]
     },
     "execution_count": 7,
     "metadata": {},
     "output_type": "execute_result"
    }
   ],
   "source": [
    "satislar['weekly_sales'].median()"
   ]
  },
  {
   "cell_type": "markdown",
   "metadata": {},
   "source": [
    "41. Son satilan urun hangi tarihte satilmistir"
   ]
  },
  {
   "cell_type": "code",
   "execution_count": 8,
   "metadata": {},
   "outputs": [
    {
     "data": {
      "text/plain": [
       "Timestamp('2012-10-26 00:00:00')"
      ]
     },
     "execution_count": 8,
     "metadata": {},
     "output_type": "execute_result"
    }
   ],
   "source": [
    "satislar['date'].max()"
   ]
  },
  {
   "cell_type": "markdown",
   "metadata": {},
   "source": [
    "42. Ilk satilan urun hangi tarihte satilmistir"
   ]
  },
  {
   "cell_type": "code",
   "execution_count": 9,
   "metadata": {},
   "outputs": [
    {
     "data": {
      "text/plain": [
       "Timestamp('2010-02-05 00:00:00')"
      ]
     },
     "execution_count": 9,
     "metadata": {},
     "output_type": "execute_result"
    }
   ],
   "source": [
    "satislar['date'].min()"
   ]
  },
  {
   "cell_type": "markdown",
   "metadata": {},
   "source": [
    "43. satislar['variable'].agg(a_function)"
   ]
  },
  {
   "cell_type": "raw",
   "metadata": {},
   "source": [
    "df.column.agg(function)"
   ]
  },
  {
   "cell_type": "raw",
   "metadata": {},
   "source": [
    "df['column1','column2','column3'].agg(['function1','function2'])"
   ]
  },
  {
   "cell_type": "code",
   "execution_count": 10,
   "metadata": {},
   "outputs": [
    {
     "name": "stdout",
     "output_type": "stream",
     "text": [
      "15.299999999999994\n"
     ]
    }
   ],
   "source": [
    "# kendi tanimladigimiz bir IQR fonk u:\n",
    "def iqr(kolon):\n",
    "    \"\"\"\"Bu fonk, gelen kolonlarin 3.ceyrek degeri ile 1.ceyrek degeri arasindaki farki geri dondurur\"\"\"\n",
    "    return kolon.quantile(0.75) - kolon.quantile(0.25)\n",
    "    \n",
    "# satis dataframe inin  temperature_c  degiskeninin  IQR  degerini yazdiralim\n",
    "# DIKKAT! : bir fonk agg() ile kullanilinca () ve parametre kullanilmaz. \n",
    "# agg(fonk)  seklinde yazildiginda parametresini otomatik alir\n",
    "print(satislar['temperature_c'].agg(iqr))"
   ]
  },
  {
   "cell_type": "code",
   "execution_count": 11,
   "metadata": {},
   "outputs": [
    {
     "name": "stdout",
     "output_type": "stream",
     "text": [
      "15.299999999999994\n",
      "0.21186608584010713\n",
      "1.6719999999999988\n"
     ]
    }
   ],
   "source": [
    "# yukaridaki gibi  temperature_c,  fuel_price_usd_per_l  ve  unemployment   degiskenlerinin IQR degerlerini yazdiriniz\n",
    "print(satislar['temperature_c'].agg(iqr))\n",
    "print(satislar['fuel_price_usd_per_l'].agg(iqr))\n",
    "print(satislar['unemployment'].agg(iqr))"
   ]
  },
  {
   "cell_type": "code",
   "execution_count": 14,
   "metadata": {},
   "outputs": [],
   "source": [
    "import numpy as np\n",
    "def iqr(kolon):\n",
    "    a = np.median(kolon)\n",
    "    return kolon.quantile(0.75) - kolon.quantile(0.25) + a\n",
    "# yukaridaki kodu editleyip, iqr fonksiyonu ile birlikte np.median fonk unu da beraber aggregate ediniz\n"
   ]
  },
  {
   "cell_type": "code",
   "execution_count": 16,
   "metadata": {},
   "outputs": [
    {
     "name": "stdout",
     "output_type": "stream",
     "text": [
      "32.05\n",
      "1.1237884403538851\n",
      "9.524\n"
     ]
    }
   ],
   "source": [
    "print(satislar['temperature_c'].agg(iqr))\n",
    "print(satislar['fuel_price_usd_per_l'].agg(iqr))\n",
    "print(satislar['unemployment'].agg(iqr))"
   ]
  },
  {
   "cell_type": "code",
   "execution_count": null,
   "metadata": {},
   "outputs": [],
   "source": []
  }
 ],
 "metadata": {
  "kernelspec": {
   "display_name": "Python 3",
   "language": "python",
   "name": "python3"
  },
  "language_info": {
   "codemirror_mode": {
    "name": "ipython",
    "version": 3
   },
   "file_extension": ".py",
   "mimetype": "text/x-python",
   "name": "python",
   "nbconvert_exporter": "python",
   "pygments_lexer": "ipython3",
   "version": "3.7.6"
  }
 },
 "nbformat": 4,
 "nbformat_minor": 4
}
