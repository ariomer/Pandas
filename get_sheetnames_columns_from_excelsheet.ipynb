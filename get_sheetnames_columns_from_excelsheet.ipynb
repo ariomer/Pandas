{
 "cells": [
  {
   "cell_type": "code",
   "execution_count": 1,
   "metadata": {},
   "outputs": [],
   "source": [
    "import pandas as pd"
   ]
  },
  {
   "cell_type": "code",
   "execution_count": 184,
   "metadata": {},
   "outputs": [],
   "source": [
    "from openpyxl import load_workbook\n",
    "\n",
    "excelsheet = load_workbook('Sanda.xlsx', read_only=True)\n",
    "\n",
    "data = {}\n",
    "\n",
    "for sheet in workbook:\n",
    "    for row in sheet.iter_rows(min_row=1, max_row=1, values_only=True):\n",
    "        data[sheet.title] = row "
   ]
  },
  {
   "cell_type": "code",
   "execution_count": 185,
   "metadata": {},
   "outputs": [],
   "source": [
    "df = pd.DataFrame([data])"
   ]
  },
  {
   "cell_type": "code",
   "execution_count": 186,
   "metadata": {},
   "outputs": [
    {
     "data": {
      "text/html": [
       "<div>\n",
       "<style scoped>\n",
       "    .dataframe tbody tr th:only-of-type {\n",
       "        vertical-align: middle;\n",
       "    }\n",
       "\n",
       "    .dataframe tbody tr th {\n",
       "        vertical-align: top;\n",
       "    }\n",
       "\n",
       "    .dataframe thead th {\n",
       "        text-align: right;\n",
       "    }\n",
       "</style>\n",
       "<table border=\"1\" class=\"dataframe\">\n",
       "  <thead>\n",
       "    <tr style=\"text-align: right;\">\n",
       "      <th></th>\n",
       "      <th>ENodeB</th>\n",
       "      <th>LTEBaseband</th>\n",
       "      <th>NBIOTBaseband</th>\n",
       "      <th>SupportedPrach</th>\n",
       "      <th>MaintenanceWindow</th>\n",
       "      <th>ESONServer</th>\n",
       "      <th>EUtranCell</th>\n",
       "      <th>LTEService</th>\n",
       "      <th>EUtranCellFDD</th>\n",
       "      <th>CellParameters</th>\n",
       "      <th>...</th>\n",
       "      <th>ScDuplexingTDD</th>\n",
       "      <th>ScDownlink</th>\n",
       "      <th>ScUplink</th>\n",
       "      <th>ScRadioCarrier</th>\n",
       "      <th>ScRadioCarrierDetails</th>\n",
       "      <th>ScExternalAlarm</th>\n",
       "      <th>SBAControl</th>\n",
       "      <th>ClockSource</th>\n",
       "      <th>CommonConfig</th>\n",
       "      <th>LiteComp</th>\n",
       "    </tr>\n",
       "  </thead>\n",
       "  <tbody>\n",
       "    <tr>\n",
       "      <th>0</th>\n",
       "      <td>(enbId, enbName, mgmtFqdn, siteName, lat, long...</td>\n",
       "      <td>(enbName, x2ParallelHandoverSupport, x2MaxPara...</td>\n",
       "      <td>(enbName, pagingThreshold, s1apHoThreshold, x2...</td>\n",
       "      <td>(enbName, prachId)</td>\n",
       "      <td>(enbName, daysOfWeek, startTime, duration)</td>\n",
       "      <td>(enbName, serverIpV4Address, serverIpV6Address...</td>\n",
       "      <td>(enbName, cellName, adminState, cuCellId, lteS...</td>\n",
       "      <td>(enbName, cellName, emergencyAreaIds, dynCfiEn...</td>\n",
       "      <td>(enbName, cellName, tac, cellId, pcid, dlEarfc...</td>\n",
       "      <td>(enbName, cellName, phyCellIdentity, maxActive...</td>\n",
       "      <td>...</td>\n",
       "      <td>(enbName, scIrrhName, radioIndex, uldlconfig, ...</td>\n",
       "      <td>(enbName, scIrrhName, radioIndex, downlinkId, ...</td>\n",
       "      <td>(enbName, scIrrhName, radioIndex, uplinkId, po...</td>\n",
       "      <td>(enbName, scIrrhName, radioIndex, radioCarrier...</td>\n",
       "      <td>(enbName, scIrrhName, radioIndex, radioCarrier...</td>\n",
       "      <td>(enbName, scIrrhName, contactno, name, descr, ...</td>\n",
       "      <td>(enbName, scIrrhName, enableSba, antennaBeam, ...</td>\n",
       "      <td>(enbName, scIrrhName, source, priority)</td>\n",
       "      <td>(enbName, scIrrhName, revertiveMode, unlockedT...</td>\n",
       "      <td>(enbName, scIrrhName, cellToUse, liteCompMode)</td>\n",
       "    </tr>\n",
       "  </tbody>\n",
       "</table>\n",
       "<p>1 rows × 270 columns</p>\n",
       "</div>"
      ],
      "text/plain": [
       "                                              ENodeB  \\\n",
       "0  (enbId, enbName, mgmtFqdn, siteName, lat, long...   \n",
       "\n",
       "                                         LTEBaseband  \\\n",
       "0  (enbName, x2ParallelHandoverSupport, x2MaxPara...   \n",
       "\n",
       "                                       NBIOTBaseband      SupportedPrach  \\\n",
       "0  (enbName, pagingThreshold, s1apHoThreshold, x2...  (enbName, prachId)   \n",
       "\n",
       "                            MaintenanceWindow  \\\n",
       "0  (enbName, daysOfWeek, startTime, duration)   \n",
       "\n",
       "                                          ESONServer  \\\n",
       "0  (enbName, serverIpV4Address, serverIpV6Address...   \n",
       "\n",
       "                                          EUtranCell  \\\n",
       "0  (enbName, cellName, adminState, cuCellId, lteS...   \n",
       "\n",
       "                                          LTEService  \\\n",
       "0  (enbName, cellName, emergencyAreaIds, dynCfiEn...   \n",
       "\n",
       "                                       EUtranCellFDD  \\\n",
       "0  (enbName, cellName, tac, cellId, pcid, dlEarfc...   \n",
       "\n",
       "                                      CellParameters  ...  \\\n",
       "0  (enbName, cellName, phyCellIdentity, maxActive...  ...   \n",
       "\n",
       "                                      ScDuplexingTDD  \\\n",
       "0  (enbName, scIrrhName, radioIndex, uldlconfig, ...   \n",
       "\n",
       "                                          ScDownlink  \\\n",
       "0  (enbName, scIrrhName, radioIndex, downlinkId, ...   \n",
       "\n",
       "                                            ScUplink  \\\n",
       "0  (enbName, scIrrhName, radioIndex, uplinkId, po...   \n",
       "\n",
       "                                      ScRadioCarrier  \\\n",
       "0  (enbName, scIrrhName, radioIndex, radioCarrier...   \n",
       "\n",
       "                               ScRadioCarrierDetails  \\\n",
       "0  (enbName, scIrrhName, radioIndex, radioCarrier...   \n",
       "\n",
       "                                     ScExternalAlarm  \\\n",
       "0  (enbName, scIrrhName, contactno, name, descr, ...   \n",
       "\n",
       "                                          SBAControl  \\\n",
       "0  (enbName, scIrrhName, enableSba, antennaBeam, ...   \n",
       "\n",
       "                               ClockSource  \\\n",
       "0  (enbName, scIrrhName, source, priority)   \n",
       "\n",
       "                                        CommonConfig  \\\n",
       "0  (enbName, scIrrhName, revertiveMode, unlockedT...   \n",
       "\n",
       "                                         LiteComp  \n",
       "0  (enbName, scIrrhName, cellToUse, liteCompMode)  \n",
       "\n",
       "[1 rows x 270 columns]"
      ]
     },
     "execution_count": 186,
     "metadata": {},
     "output_type": "execute_result"
    }
   ],
   "source": [
    "df"
   ]
  },
  {
   "cell_type": "code",
   "execution_count": 188,
   "metadata": {},
   "outputs": [],
   "source": [
    "df.to_excel('sanda_sheets_coloumns.xlsx')"
   ]
  },
  {
   "cell_type": "code",
   "execution_count": null,
   "metadata": {},
   "outputs": [],
   "source": []
  }
 ],
 "metadata": {
  "kernelspec": {
   "display_name": "Python 3",
   "language": "python",
   "name": "python3"
  },
  "language_info": {
   "codemirror_mode": {
    "name": "ipython",
    "version": 3
   },
   "file_extension": ".py",
   "mimetype": "text/x-python",
   "name": "python",
   "nbconvert_exporter": "python",
   "pygments_lexer": "ipython3",
   "version": "3.7.6"
  }
 },
 "nbformat": 4,
 "nbformat_minor": 4
}
