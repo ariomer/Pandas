{
 "cells": [
  {
   "cell_type": "markdown",
   "metadata": {
    "toc-hr-collapsed": false
   },
   "source": [
    "## Kumulatif islemler"
   ]
  },
  {
   "cell_type": "code",
   "execution_count": 1,
   "metadata": {},
   "outputs": [],
   "source": [
    "import pandas as pd\n",
    "# !!!  yukaridaki dataframe i df olarak kaydettik, buradaki dataframe i farkli bir isimle kaydedelim:\n",
    "satislar = pd.read_pickle(\"walmart_sales.pkl\")"
   ]
  },
  {
   "cell_type": "code",
   "execution_count": 2,
   "metadata": {},
   "outputs": [],
   "source": [
    "# store 1 ve department 1 secilip ilk 20 gozlem uzerinde calisalim: \n",
    "# bu dataframe'i satislar1 adiyla kaydedelim.\n",
    "satislar1 = satislar[  (satislar['store']==1) & (satislar['department']==1 )  ]\n",
    "satislar1 = satislar1[:20]"
   ]
  },
  {
   "cell_type": "code",
   "execution_count": 3,
   "metadata": {},
   "outputs": [
    {
     "data": {
      "text/html": [
       "<div>\n",
       "<style scoped>\n",
       "    .dataframe tbody tr th:only-of-type {\n",
       "        vertical-align: middle;\n",
       "    }\n",
       "\n",
       "    .dataframe tbody tr th {\n",
       "        vertical-align: top;\n",
       "    }\n",
       "\n",
       "    .dataframe thead th {\n",
       "        text-align: right;\n",
       "    }\n",
       "</style>\n",
       "<table border=\"1\" class=\"dataframe\">\n",
       "  <thead>\n",
       "    <tr style=\"text-align: right;\">\n",
       "      <th></th>\n",
       "      <th>store</th>\n",
       "      <th>type</th>\n",
       "      <th>department</th>\n",
       "      <th>date</th>\n",
       "      <th>weekly_sales</th>\n",
       "      <th>is_holiday</th>\n",
       "      <th>temperature_c</th>\n",
       "      <th>fuel_price_usd_per_l</th>\n",
       "      <th>unemployment</th>\n",
       "    </tr>\n",
       "  </thead>\n",
       "  <tbody>\n",
       "    <tr>\n",
       "      <th>0</th>\n",
       "      <td>1</td>\n",
       "      <td>A</td>\n",
       "      <td>1</td>\n",
       "      <td>2010-02-05</td>\n",
       "      <td>24924.50</td>\n",
       "      <td>False</td>\n",
       "      <td>5.727778</td>\n",
       "      <td>0.679451</td>\n",
       "      <td>8.106</td>\n",
       "    </tr>\n",
       "    <tr>\n",
       "      <th>73</th>\n",
       "      <td>1</td>\n",
       "      <td>A</td>\n",
       "      <td>1</td>\n",
       "      <td>2010-02-12</td>\n",
       "      <td>46039.49</td>\n",
       "      <td>True</td>\n",
       "      <td>3.616667</td>\n",
       "      <td>0.673111</td>\n",
       "      <td>8.106</td>\n",
       "    </tr>\n",
       "    <tr>\n",
       "      <th>145</th>\n",
       "      <td>1</td>\n",
       "      <td>A</td>\n",
       "      <td>1</td>\n",
       "      <td>2010-02-19</td>\n",
       "      <td>41595.55</td>\n",
       "      <td>False</td>\n",
       "      <td>4.405556</td>\n",
       "      <td>0.664129</td>\n",
       "      <td>8.106</td>\n",
       "    </tr>\n",
       "    <tr>\n",
       "      <th>218</th>\n",
       "      <td>1</td>\n",
       "      <td>A</td>\n",
       "      <td>1</td>\n",
       "      <td>2010-02-26</td>\n",
       "      <td>19403.54</td>\n",
       "      <td>False</td>\n",
       "      <td>8.127778</td>\n",
       "      <td>0.676545</td>\n",
       "      <td>8.106</td>\n",
       "    </tr>\n",
       "    <tr>\n",
       "      <th>290</th>\n",
       "      <td>1</td>\n",
       "      <td>A</td>\n",
       "      <td>1</td>\n",
       "      <td>2010-03-05</td>\n",
       "      <td>21827.90</td>\n",
       "      <td>False</td>\n",
       "      <td>8.055556</td>\n",
       "      <td>0.693452</td>\n",
       "      <td>8.106</td>\n",
       "    </tr>\n",
       "  </tbody>\n",
       "</table>\n",
       "</div>"
      ],
      "text/plain": [
       "     store type  department       date  weekly_sales  is_holiday  \\\n",
       "0        1    A           1 2010-02-05      24924.50       False   \n",
       "73       1    A           1 2010-02-12      46039.49        True   \n",
       "145      1    A           1 2010-02-19      41595.55       False   \n",
       "218      1    A           1 2010-02-26      19403.54       False   \n",
       "290      1    A           1 2010-03-05      21827.90       False   \n",
       "\n",
       "     temperature_c  fuel_price_usd_per_l  unemployment  \n",
       "0         5.727778              0.679451         8.106  \n",
       "73        3.616667              0.673111         8.106  \n",
       "145       4.405556              0.664129         8.106  \n",
       "218       8.127778              0.676545         8.106  \n",
       "290       8.055556              0.693452         8.106  "
      ]
     },
     "execution_count": 3,
     "metadata": {},
     "output_type": "execute_result"
    }
   ],
   "source": [
    "satislar1.head()"
   ]
  },
  {
   "cell_type": "markdown",
   "metadata": {},
   "source": [
    "44. Feature Engineering: .cumsum() .cummax()"
   ]
  },
  {
   "cell_type": "code",
   "execution_count": 4,
   "metadata": {},
   "outputs": [
    {
     "name": "stdout",
     "output_type": "stream",
     "text": [
      "           date  weekly_sales  cum_weekly_sales  cum_max_sales\n",
      "0    2010-02-05      24924.50          24924.50       24924.50\n",
      "73   2010-02-12      46039.49          70963.99       46039.49\n",
      "145  2010-02-19      41595.55         112559.54       46039.49\n",
      "218  2010-02-26      19403.54         131963.08       46039.49\n",
      "290  2010-03-05      21827.90         153790.98       46039.49\n",
      "363  2010-03-12      21043.39         174834.37       46039.49\n",
      "436  2010-03-19      22136.64         196971.01       46039.49\n",
      "508  2010-03-26      26229.21         223200.22       46039.49\n",
      "580  2010-04-02      57258.43         280458.65       57258.43\n",
      "652  2010-04-09      42960.91         323419.56       57258.43\n",
      "725  2010-04-16      17596.96         341016.52       57258.43\n",
      "798  2010-04-23      16145.35         357161.87       57258.43\n",
      "870  2010-04-30      16555.11         373716.98       57258.43\n",
      "941  2010-05-07      17413.94         391130.92       57258.43\n",
      "1013 2010-05-14      18926.74         410057.66       57258.43\n",
      "1085 2010-05-21      14773.04         424830.70       57258.43\n",
      "1155 2010-05-28      15580.43         440411.13       57258.43\n",
      "1225 2010-06-04      17558.09         457969.22       57258.43\n",
      "1296 2010-06-11      16637.62         474606.84       57258.43\n",
      "1367 2010-06-18      16216.27         490823.11       57258.43\n"
     ]
    }
   ],
   "source": [
    "# satislar i date e gore siralayiniz ve ayni isimle kaydediniz: satislar1\n",
    "satislar1 = satislar1.sort_values('date')\n",
    "\n",
    "# satislar1 i weekly_sales e gore kumulatif toplamini aliniz ve \n",
    "# cum_weekly_sales adiyla yeni bir degisken olarak atayiniz\n",
    "satislar1['cum_weekly_sales'] = satislar1.weekly_sales.cumsum()\n",
    "\n",
    "# satislar1 i weekly_sales e gore kumulatif max ini aliniz ve \n",
    "# cum_max_sales adiyla yeni bir degisken olarak atayiniz\n",
    "satislar1['cum_max_sales'] = satislar1.weekly_sales.cummax()\n",
    "\n",
    "# ilgili degiskenleri secip yazdiriniz\n",
    "print(satislar1[[\"date\", \"weekly_sales\", \"cum_weekly_sales\", \"cum_max_sales\"]])"
   ]
  },
  {
   "cell_type": "markdown",
   "metadata": {},
   "source": [
    "Bu soruda, satislar verisini tarihe gore siraladik, her hafta o haftaya kadar olan toplam satisi hesapladik, ve her hafta o haftaya kadar gecen haftalar icindeki max satisi mevcut haftaya yazdik."
   ]
  },
  {
   "cell_type": "markdown",
   "metadata": {},
   "source": [
    "45. df.drop_duplicates(['var1'])"
   ]
  },
  {
   "cell_type": "code",
   "execution_count": 8,
   "metadata": {},
   "outputs": [
    {
     "name": "stdout",
     "output_type": "stream",
     "text": [
      "       store type  department  is_holiday\n",
      "0          1    A           1       False\n",
      "10244      2    A           1       False\n",
      "20482      3    B           1       False\n",
      "29518      4    A           1       False\n",
      "39790      5    B           1       False\n",
      "       store type  department  is_holiday\n",
      "0          1    A           1       False\n",
      "10244      2    A           1       False\n",
      "20482      3    B           1       False\n",
      "29518      4    A           1       False\n",
      "39790      5    B           1       False\n",
      "   store type  department  is_holiday\n",
      "0      1    A           1       False\n",
      "1      1    A           2       False\n",
      "2      1    A           3       False\n",
      "3      1    A           4       False\n",
      "4      1    A           5       False\n"
     ]
    }
   ],
   "source": [
    "satislar2 = satislar[['store','type','department','is_holiday']]\n",
    "\n",
    "# store degiskeni tekrar eden gozlemleri teke dusurelim:  store\n",
    "store = satislar2.drop_duplicates(['store'])\n",
    "print(store.head())\n",
    "\n",
    "# store/type ikilisi olarak tekrar eden gozlemleri teke dusurelim:  store_types\n",
    "store_types = satislar2.drop_duplicates(['store','type'])\n",
    "print(store_types.head())\n",
    "\n",
    "# store/department ikilisi olarak tekrar eden gozlemleri teke dusurunuz:  store_depts\n",
    "store_depts = satislar2.drop_duplicates(['store','department'])\n",
    "print(store_depts.head())"
   ]
  },
  {
   "cell_type": "code",
   "execution_count": 6,
   "metadata": {},
   "outputs": [
    {
     "name": "stdout",
     "output_type": "stream",
     "text": [
      "           date  weekly_sales\n",
      "73   2010-02-12      46039.49\n",
      "2218 2010-09-10      18194.74\n",
      "3014 2010-11-26      18820.29\n",
      "3372 2010-12-31      19124.58\n",
      "3800 2011-02-11      37887.17\n",
      "5940 2011-09-09      17746.68\n",
      "6731 2011-11-25      20911.25\n",
      "7096 2011-12-30      23350.88\n",
      "7527 2012-02-10      36988.49\n",
      "9667 2012-09-07      18322.37\n"
     ]
    }
   ],
   "source": [
    "# satislar in tatil olan gozlemlerini seciniz ve bunlar uzerinde date e gore tekrar edenleri teke dusurunuz (unique)\n",
    "# satislar_tatil adi ile kaydediniz\n",
    "satislar_tatil = satislar[satislar['is_holiday'] == True].drop_duplicates('date')\n",
    "# tatil iken haftalik satislari yazdiriniz\n",
    "print(satislar_tatil[['date','weekly_sales']])"
   ]
  },
  {
   "cell_type": "markdown",
   "metadata": {},
   "source": [
    "46. df['variable'].value_counts()"
   ]
  },
  {
   "cell_type": "code",
   "execution_count": 25,
   "metadata": {},
   "outputs": [
    {
     "data": {
      "text/plain": [
       "A    215478\n",
       "B    155044\n",
       "C     42597\n",
       "Name: type, dtype: int64"
      ]
     },
     "execution_count": 25,
     "metadata": {},
     "output_type": "execute_result"
    }
   ],
   "source": [
    "# Tipine gore magaza sayilarini bulunuz: \n",
    "satislar['type'].value_counts()"
   ]
  },
  {
   "cell_type": "markdown",
   "metadata": {},
   "source": [
    "47. df['variable'].value_counts(normalize=True)"
   ]
  },
  {
   "cell_type": "code",
   "execution_count": 22,
   "metadata": {},
   "outputs": [
    {
     "data": {
      "text/plain": [
       "A    0.521588\n",
       "B    0.375301\n",
       "C    0.103111\n",
       "Name: type, dtype: float64"
      ]
     },
     "execution_count": 22,
     "metadata": {},
     "output_type": "execute_result"
    }
   ],
   "source": [
    "# Tipine gore magaza oranlarini bulunuz:\n",
    "satislar['type'].value_counts(normalize=True)"
   ]
  },
  {
   "cell_type": "markdown",
   "metadata": {},
   "source": [
    "48. df['variable'].value_counts(sort=True)"
   ]
  },
  {
   "cell_type": "code",
   "execution_count": 9,
   "metadata": {},
   "outputs": [
    {
     "data": {
      "text/plain": [
       "1     45\n",
       "9     45\n",
       "4     45\n",
       "6     45\n",
       "8     45\n",
       "      ..\n",
       "37    20\n",
       "50    14\n",
       "43     5\n",
       "39     5\n",
       "65     1\n",
       "Name: department, Length: 81, dtype: int64"
      ]
     },
     "execution_count": 9,
     "metadata": {},
     "output_type": "execute_result"
    }
   ],
   "source": [
    "# Tipine gore magazalarin departman sayilari, sirali olarak yazdiriniz: \n",
    "store_depts['department'].value_counts(sort=True)"
   ]
  },
  {
   "cell_type": "raw",
   "metadata": {},
   "source": [
    "45 magazada departman1 varmis\n",
    "45 magazada departman9 varmis\n",
    "...\n",
    "sadece 1 tane magazada departman65 varmis"
   ]
  },
  {
   "cell_type": "code",
   "execution_count": 32,
   "metadata": {},
   "outputs": [
    {
     "name": "stdout",
     "output_type": "stream",
     "text": [
      "1     0.013778\n",
      "9     0.013778\n",
      "4     0.013778\n",
      "6     0.013778\n",
      "8     0.013778\n",
      "        ...   \n",
      "37    0.006124\n",
      "50    0.004287\n",
      "43    0.001531\n",
      "39    0.001531\n",
      "65    0.000306\n",
      "Name: department, Length: 81, dtype: float64\n"
     ]
    }
   ],
   "source": [
    "# yukaridaki sonucun oransal degerleri ve siralanmis hali berabear yazdiralim:\n",
    "dept_props_sorted = store_depts['department'].value_counts(sort=True, normalize=True)\n",
    "print(dept_props_sorted)"
   ]
  },
  {
   "cell_type": "markdown",
   "metadata": {},
   "source": [
    "49. "
   ]
  },
  {
   "cell_type": "code",
   "execution_count": 10,
   "metadata": {},
   "outputs": [
    {
     "name": "stdout",
     "output_type": "stream",
     "text": [
      "[6649037445.509999, 4331014722.749999, 1912519195.2199998, 405503527.53999996]\n",
      "[0.65137469 0.28763851 0.0609868 ]\n"
     ]
    }
   ],
   "source": [
    "# Haftalik satislarin tumunun toplami:\n",
    "satislar_hepsi = satislar[\"weekly_sales\"].sum()\n",
    "\n",
    "# A tipinde olan magazalarin tumunun hafalik satis toplamini hesaplayiniz: satislar_A adi ile kaydedinz\n",
    "\n",
    "satislar_A = satislar[satislar['type'] == 'A'][\"weekly_sales\"].sum()\n",
    "\n",
    "# B tipinde olan magazalarin tumunun haftalik satis toplamini hesaplayiniz: satislar_B adi ile kaydedinz\n",
    "satislar_B = satislar[satislar['type'] == 'B'][\"weekly_sales\"].sum()\n",
    "\n",
    "# C tipinde olan magazalarin tumunun haftalik satis toplamini hesaplayiniz: satislar_C adi ile kaydedinz\n",
    "satislar_C = satislar[satislar['type'] == 'C'][\"weekly_sales\"].sum()\n",
    "\n",
    "print([satislar_hepsi,satislar_A, satislar_B, satislar_C])\n",
    "\n",
    "\n",
    "# Herbirinin oranlari:\n",
    "satislarin_oranlari = [satislar_A, satislar_B, satislar_C] / satislar_hepsi\n",
    "print(satislarin_oranlari)"
   ]
  },
  {
   "cell_type": "markdown",
   "metadata": {},
   "source": [
    "50. "
   ]
  },
  {
   "cell_type": "code",
   "execution_count": 11,
   "metadata": {},
   "outputs": [
    {
     "name": "stdout",
     "output_type": "stream",
     "text": [
      "type\n",
      "A    4.331015e+09\n",
      "B    1.912519e+09\n",
      "C    4.055035e+08\n",
      "Name: weekly_sales, dtype: float64\n",
      "type\n",
      "A    0.651375\n",
      "B    0.287639\n",
      "C    0.060987\n",
      "Name: weekly_sales, dtype: float64\n"
     ]
    }
   ],
   "source": [
    "# type a gore guruplayiniz, magaza tiplerinin haftalik satis toplamlarini bulunuz: satislar_tipe_gore\n",
    "satislar_tipe_gore = satislar.groupby('type')[\"weekly_sales\"].sum()\n",
    "print( satislar_tipe_gore )\n",
    "\n",
    "\n",
    "# satis miktarlarini (uc tipin miktarlari) toplamlarina bolerek oranlarini bulunuz\n",
    "satislar_orani = satislar_tipe_gore/sum(satislar_tipe_gore)\n",
    "print(satislar_orani)"
   ]
  },
  {
   "cell_type": "code",
   "execution_count": null,
   "metadata": {},
   "outputs": [],
   "source": [
    "# haftalik satislari tip ve tatil durumuna a gore guruplayiniz, \n",
    "# (cift guruplama: ornegin tipi A olan magazada tatil olma durumuna gore satis sayilari ... gibi)\n",
    "satislar_tip_ve_tatile_gore = satislar.groupby(['type','is_holiday'])[\"weekly_sales\"].sum()\n",
    "\n",
    "\n",
    "print(satislar_tip_ve_tatile_gore)"
   ]
  },
  {
   "cell_type": "code",
   "execution_count": null,
   "metadata": {},
   "outputs": [],
   "source": []
  }
 ],
 "metadata": {
  "kernelspec": {
   "display_name": "Python 3",
   "language": "python",
   "name": "python3"
  },
  "language_info": {
   "codemirror_mode": {
    "name": "ipython",
    "version": 3
   },
   "file_extension": ".py",
   "mimetype": "text/x-python",
   "name": "python",
   "nbconvert_exporter": "python",
   "pygments_lexer": "ipython3",
   "version": "3.7.6"
  }
 },
 "nbformat": 4,
 "nbformat_minor": 4
}
